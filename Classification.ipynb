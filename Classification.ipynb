{
 "cells": [
  {
   "cell_type": "markdown",
   "id": "382f9423",
   "metadata": {},
   "source": [
    "## imports"
   ]
  },
  {
   "cell_type": "code",
   "execution_count": 1,
   "id": "065db47f",
   "metadata": {},
   "outputs": [],
   "source": [
    "import time\n",
    "\n",
    "import pandas as pd\n",
    "import numpy as np\n",
    "import matplotlib.pyplot as plt\n",
    "from scipy.stats import bootstrap\n",
    "\n",
    "from sklearn.model_selection import train_test_split\n",
    "from sklearn.impute import SimpleImputer\n",
    "from sklearn.pipeline import Pipeline\n",
    "from sklearn.metrics import average_precision_score\n",
    "from sklearn.preprocessing import TargetEncoder, StandardScaler\n",
    "from sklearn.compose import ColumnTransformer\n",
    "from sklearn.model_selection import GridSearchCV\n",
    "from sklearn.utils import resample\n",
    "from sklearn.utils import shuffle\n",
    "from sklearn.model_selection import cross_validate\n",
    "from sklearn.inspection import permutation_importance\n",
    "\n",
    "from sklearn.ensemble import RandomForestClassifier\n",
    "from sklearn.linear_model import SGDClassifier\n",
    "from sklearn.linear_model import LogisticRegression\n",
    "from sklearn.ensemble import GradientBoostingClassifier\n",
    "\n"
   ]
  },
  {
   "cell_type": "markdown",
   "id": "76fc8b07",
   "metadata": {},
   "source": [
    "## helpful functions"
   ]
  },
  {
   "cell_type": "code",
   "execution_count": 2,
   "id": "a6c7d7c1",
   "metadata": {},
   "outputs": [],
   "source": [
    "def get_missingness(dframe):\n",
    "    missing_columns = []\n",
    "    for column in dframe.columns:\n",
    "        na_perc=np.sum(dframe[column].isna())/dframe.shape[0]\n",
    "        print(column, na_perc)\n",
    "        if na_perc>0.2:\n",
    "            print(f\"\\n{column} missingness too high ({round(na_perc,3)*100}%)\\n\")\n",
    "            missing_columns.append(column)\n",
    "    return missing_columns\n",
    "\n",
    "def group_features(dframe,target):\n",
    "    non_ml_attr=[]\n",
    "    nominal_attr = []\n",
    "    numerical_attr = []\n",
    "\n",
    "    print(\"Column\\t\\tuniqueness\\tdatatype\")\n",
    "\n",
    "\n",
    "    for column in dframe.loc[:, dframe.columns != target].columns: #get all columns except for the target column\n",
    "        n_unique = len(dframe[column].unique())\n",
    "        p_unique = round(n_unique/dframe.shape[0]*100,3)\n",
    "        c_type = dframe.dtypes[column]\n",
    "        print(f\"{column}\\t\\t{p_unique}%\\t\\t{c_type}\")\n",
    "\n",
    "        if dframe[column].dtype == pd.api.types.pandas_dtype('int64') and p_unique > 99:\n",
    "            print(f\"\\nPotential ID, inspect {column}\\n\")\n",
    "            non_ml_attr.append(column)\n",
    "        \n",
    "        elif dframe[column].dtype == pd.api.types.pandas_dtype(object):\n",
    "            nominal_attr.append(column)\n",
    "        \n",
    "        else:\n",
    "            numerical_attr.append(column)\n",
    "\n",
    "    print(f\"\\n\\nNon ML Attribute list:\\t\\t{non_ml_attr}\")\n",
    "    print(f\"Numerical Attributes:\\t\\t{numerical_attr}\")\n",
    "    print(f\"Nominal Attributes:\\t\\t{nominal_attr}\")\n",
    "\n",
    "    return non_ml_attr, numerical_attr, nominal_attr\n",
    "\n",
    "def get_x_y(dframe,target):\n",
    "    x = dframe.loc[:, dframe.columns != target]\n",
    "    y = dframe[target].values.ravel()\n",
    "\n",
    "    return x,y\n",
    "\n",
    "\n",
    "def false_discovery_test(model,train,val,target,n_bootstraps=20):\n",
    "    \n",
    "    bootstrapped_unscrambled = []\n",
    "    bootstrapped_scrambled = []\n",
    "    \n",
    "    for i in range(n_bootstraps):\n",
    "        #bootstrap samples from the train set\n",
    "        boot_train = resample(train, replace=True, random_state=i, stratify=train[target]) \n",
    "        boot_train_x, boot_train_y = get_x_y(boot_train,target)\n",
    "\n",
    "        boot_val = resample(val, replace=True, random_state=i, stratify=val[target]) \n",
    "        boot_val_x, boot_val_y = get_x_y(boot_val, target)\n",
    "\n",
    "        #fit the model to the unscrambled bootstrapped sample\n",
    "        model.fit(boot_train_x,boot_train_y)\n",
    "        #predict the validation datapoints using the unscrambled bootstrap sample\n",
    "        boot_val_pred_y = model.predict(boot_val_x)\n",
    "        #add the unscrambled validation score (RMSE) to the unscrambled list\n",
    "        bootstrapped_unscrambled.append(average_precision_score(boot_val_y, boot_val_pred_y))\n",
    "\n",
    "        #scramble the boot_y_df\n",
    "        scrambled_boot_train_y = shuffle(boot_train_y, random_state=i)#.values.ravel(), random_state = i)\n",
    "        #fit the model to the scrambled data\n",
    "        model.fit(boot_train_x,scrambled_boot_train_y)\n",
    "        #predict using the scrambled model\n",
    "        boot_val_pred_y_scrambled = model.predict(boot_val_x)\n",
    "        #add the scrambled validation score to the scrambled list\n",
    "        bootstrapped_scrambled.append(average_precision_score(boot_val_y,boot_val_pred_y_scrambled))\n",
    "    \n",
    "\n",
    "    unscrambled = bootstrap((bootstrapped_unscrambled,),np.mean,confidence_level=0.95, random_state=42)\n",
    "    scrambled = bootstrap((bootstrapped_scrambled,),np.mean,confidence_level=0.95, random_state=42)\n",
    "\n",
    "    fig, ax = plt.subplots()\n",
    "    ax.hist(unscrambled.bootstrap_distribution, bins=25, label='Unscrambled', alpha = 0.5)\n",
    "    ax.hist(scrambled.bootstrap_distribution, bins=25, label='Scrambled', alpha = 0.5)\n",
    "    ax.set_title('Bootstrap Distribution')\n",
    "    ax.set_xlabel('Average Precision Score')\n",
    "    ax.set_ylabel('frequency')\n",
    "    fig.legend(loc='upper right')\n",
    "    plt.show()\n",
    "    \n",
    "    print(\"Unscrambled 95% confidence interval: \",unscrambled.confidence_interval)\n",
    "    print(\"Scrambled 95% confidence interval: \",scrambled.confidence_interval)\n",
    "\n",
    "def boot_val(model,val,target, n_bootstraps=20):\n",
    "    df_name = test(val)\n",
    "    print(f'\\n{df_name} Statistic Score: Average Precision\\nConfidence Interval: 95%')\n",
    "    t_score = []\n",
    "    for i in range(n_bootstraps):\n",
    "        boot_val = resample(val, replace=True, random_state=i, stratify=val[target])\n",
    "        \n",
    "        boot_x, boot_y = get_x_y(boot_val, target)\n",
    "\n",
    "        boot_pred = model.predict(boot_x)\n",
    "\n",
    "        t_score.append(average_precision_score(boot_y,boot_pred))\n",
    "    \n",
    "    bci = bootstrap((t_score,), np.mean, confidence_level=0.95, random_state=42)\n",
    "    print('\\tBootstrapped Statistic: ',bci.confidence_interval)\n",
    "    return bci\n",
    "\n",
    "    \n",
    "#stolen from here: https://stackoverflow.com/questions/41684553/print-dataframe-name\n",
    "def test(data):\n",
    "    name =[x for x in globals() if globals()[x] is data][0]\n",
    "    return name\n",
    "\n",
    "def tar_bal(tar):\n",
    "    print(f\"Class 1 %: {sum(tar)/len(tar):.3f}\")\n"
   ]
  },
  {
   "cell_type": "markdown",
   "id": "5c9bea40",
   "metadata": {},
   "source": [
    "## parameters"
   ]
  },
  {
   "cell_type": "code",
   "execution_count": 3,
   "id": "4c2cc24b",
   "metadata": {},
   "outputs": [],
   "source": [
    "target = 'y'\n",
    "\n",
    "testing =False\n",
    "frac = 0.1 #this is the fraction of the train set used when testing is set to true"
   ]
  },
  {
   "cell_type": "markdown",
   "id": "a9cb414e",
   "metadata": {},
   "source": [
    "## script run time - start timer"
   ]
  },
  {
   "cell_type": "code",
   "execution_count": 4,
   "id": "79550d6e",
   "metadata": {},
   "outputs": [],
   "source": [
    "start = time.time()"
   ]
  },
  {
   "cell_type": "markdown",
   "id": "478b0b54",
   "metadata": {},
   "source": [
    "## load the data"
   ]
  },
  {
   "cell_type": "code",
   "execution_count": 5,
   "id": "0198990b",
   "metadata": {},
   "outputs": [
    {
     "name": "stdout",
     "output_type": "stream",
     "text": [
      "(50000, 13)\n",
      "Class 1 %: 14.846\n"
     ]
    }
   ],
   "source": [
    "data = pd.read_csv('data_set_1.csv')\n",
    "print(data.shape)\n",
    "print(f\"Class 1 %: {np.sum(data[target])/data.shape[0]*100:.3f}\")"
   ]
  },
  {
   "cell_type": "markdown",
   "id": "bb48660a",
   "metadata": {},
   "source": [
    "## drop observations with nans in the target attribute"
   ]
  },
  {
   "cell_type": "code",
   "execution_count": 6,
   "id": "55ce71e4",
   "metadata": {},
   "outputs": [
    {
     "name": "stdout",
     "output_type": "stream",
     "text": [
      "(49503, 13)\n",
      "Class 1 %: 14.995\n"
     ]
    }
   ],
   "source": [
    "data2 = data[data[target].notna()] \n",
    "print(data2.shape)\n",
    "print(f\"Class 1 %: {np.sum(data2[target])/data2.shape[0]*100:.3f}\")\n",
    "# data = data[data[]]\n",
    "# master = master[master['avg_temp_c'].notna()]\n"
   ]
  },
  {
   "cell_type": "markdown",
   "id": "2c7d535a",
   "metadata": {},
   "source": [
    "## train/test/val split\n",
    "test size = 20% of 100% = 20%<br>\n",
    "train size = 75% of 80% = 60%<br>\n",
    "val size = 25% of 80% = 20%"
   ]
  },
  {
   "cell_type": "code",
   "execution_count": 7,
   "id": "82f81f41",
   "metadata": {},
   "outputs": [
    {
     "name": "stdout",
     "output_type": "stream",
     "text": [
      "Train size:\t\t(29701, 13)\tTrain Class 1%: 0.14992761186492037\n",
      "Validation Size:\t(9901, 13)\tValidation Class 1%: 0.14998485001515\n",
      "Test Size:\t\t(9901, 13)\tTest Class 1%: 0.14998485001515\n"
     ]
    }
   ],
   "source": [
    "train_df, test_df = train_test_split(data2, test_size=0.2, random_state=42, stratify=data2[target])\n",
    "train_df, val_df = train_test_split(train_df, test_size=0.25, random_state=42, stratify=train_df[target])\n",
    "\n",
    "print(f\"Train size:\\t\\t{train_df.shape}\\tTrain Class 1%: {np.sum(train_df[target])/train_df.shape[0]}\")\n",
    "print(f\"Validation Size:\\t{val_df.shape}\\tValidation Class 1%: {np.sum(val_df[target])/val_df.shape[0]}\")\n",
    "print(f\"Test Size:\\t\\t{test_df.shape}\\tTest Class 1%: {np.sum(test_df[target])/test_df.shape[0]}\")"
   ]
  },
  {
   "cell_type": "markdown",
   "id": "b899586d",
   "metadata": {},
   "source": [
    "## configure machine learning attributes"
   ]
  },
  {
   "cell_type": "markdown",
   "id": "571cc940",
   "metadata": {},
   "source": [
    "### check for high missingness\n",
    "dropping high missingness here"
   ]
  },
  {
   "cell_type": "code",
   "execution_count": 8,
   "id": "65c1f749",
   "metadata": {},
   "outputs": [
    {
     "name": "stdout",
     "output_type": "stream",
     "text": [
      "attr_0 0.0\n",
      "attr_1 0.029224605232147066\n",
      "attr_2 0.009561967610518165\n",
      "attr_3 0.0\n",
      "attr_4 0.1046092724150702\n",
      "attr_5 0.0\n",
      "attr_6 0.048920911753813\n",
      "attr_7 0.0\n",
      "attr_8 0.32884414666172856\n",
      "\n",
      "Dropping attr_8, missingness too high (32.9%)\n",
      "\n",
      "attr_9 0.018787246220665972\n",
      "attr_10 0.04925760075418336\n",
      "attr_11 0.08801050469681156\n",
      "y 0.0\n"
     ]
    }
   ],
   "source": [
    "missing_columns = []\n",
    "for column in train_df.columns:\n",
    "    na_perc=np.sum(train_df[column].isna())/train_df.shape[0]\n",
    "    print(column, na_perc)\n",
    "    if na_perc>0.2:\n",
    "        print(f\"\\nDropping {column}, missingness too high ({round(na_perc,3)*100}%)\\n\")\n",
    "        train_df=train_df.drop(column, axis=1)\n",
    "        missing_columns.append(column)"
   ]
  },
  {
   "cell_type": "markdown",
   "id": "20a38b22",
   "metadata": {},
   "source": [
    "### identify non machine learning attributes\n",
    "### get attributes by dtypes\n",
    "### machine learning attribute configuration"
   ]
  },
  {
   "cell_type": "code",
   "execution_count": 9,
   "id": "0a6f346b",
   "metadata": {},
   "outputs": [
    {
     "name": "stdout",
     "output_type": "stream",
     "text": [
      "Column\t\tuniqueness\tdatatype\n",
      "attr_0\t\t100.0%\t\tint64\n",
      "\n",
      "Potential ID, inspect attr_0\n",
      "\n",
      "attr_1\t\t97.081%\t\tfloat64\n",
      "attr_2\t\t0.01%\t\tobject\n",
      "attr_3\t\t100.0%\t\tfloat64\n",
      "attr_4\t\t89.542%\t\tfloat64\n",
      "attr_5\t\t100.0%\t\tfloat64\n",
      "attr_6\t\t95.111%\t\tfloat64\n",
      "attr_7\t\t100.0%\t\tfloat64\n",
      "attr_9\t\t98.125%\t\tfloat64\n",
      "attr_10\t\t95.078%\t\tfloat64\n",
      "attr_11\t\t91.202%\t\tfloat64\n",
      "\n",
      "\n",
      "High Missingness Drop List:\t['attr_8']\n",
      "Non ML Attribute list:\t\t['attr_0']\n",
      "Numerical Attributes:\t\t['attr_1', 'attr_3', 'attr_4', 'attr_5', 'attr_6', 'attr_7', 'attr_9', 'attr_10', 'attr_11']\n",
      "Nominal Attributes:\t\t['attr_2']\n"
     ]
    }
   ],
   "source": [
    "non_ml_attr=[]\n",
    "nominal_attr = []\n",
    "numerical_attr = []\n",
    "\n",
    "print(\"Column\\t\\tuniqueness\\tdatatype\")\n",
    "\n",
    "\n",
    "for column in train_df.columns[:-1]:\n",
    "    n_unique = len(train_df[column].unique())\n",
    "    p_unique = round(n_unique/train_df.shape[0]*100,3)\n",
    "    c_type = train_df.dtypes[column]\n",
    "    print(f\"{column}\\t\\t{p_unique}%\\t\\t{c_type}\")\n",
    "\n",
    "    if train_df[column].dtype == pd.api.types.pandas_dtype('int64') and p_unique > 99:\n",
    "        print(f\"\\nPotential ID, inspect {column}\\n\")\n",
    "        non_ml_attr.append(column)\n",
    "    \n",
    "    elif train_df[column].dtype == pd.api.types.pandas_dtype(object):\n",
    "        nominal_attr.append(column)\n",
    "    \n",
    "    else:\n",
    "        numerical_attr.append(column)\n",
    "        #could catch numeric categories here, int values that aren't 99+% unique, but shouldn't be considered numeric. looks like we won't catch them on this dataset\n",
    "\n",
    "print(f\"\\n\\nHigh Missingness Drop List:\\t{missing_columns}\")\n",
    "print(f\"Non ML Attribute list:\\t\\t{non_ml_attr}\")\n",
    "print(f\"Numerical Attributes:\\t\\t{numerical_attr}\")\n",
    "print(f\"Nominal Attributes:\\t\\t{nominal_attr}\")\n"
   ]
  },
  {
   "cell_type": "markdown",
   "id": "63a5f99e",
   "metadata": {},
   "source": [
    "### Drop non ml attributes\n",
    "dropping attributes that look like ID's here"
   ]
  },
  {
   "cell_type": "code",
   "execution_count": 10,
   "id": "d0062d14",
   "metadata": {},
   "outputs": [
    {
     "name": "stdout",
     "output_type": "stream",
     "text": [
      "(29701, 12)\n",
      "(29701, 11)\n"
     ]
    }
   ],
   "source": [
    "print(train_df.shape)\n",
    "train_df = train_df.drop(non_ml_attr, axis=1)\n",
    "print(train_df.shape)\n"
   ]
  },
  {
   "cell_type": "markdown",
   "id": "91796e77",
   "metadata": {},
   "source": [
    "### identify attributes that were candidates for machine learning but you have chosen to eliminate from machine learning - feature selection\n",
    "<br>\n",
    "drop attributes from the test and validation sets as well"
   ]
  },
  {
   "cell_type": "code",
   "execution_count": 11,
   "id": "c59f1be2",
   "metadata": {},
   "outputs": [
    {
     "name": "stdout",
     "output_type": "stream",
     "text": [
      "Dropped the following columns based on missingness and uniqueness+data type: ['attr_0', 'attr_8']\n"
     ]
    }
   ],
   "source": [
    "dropped_columns = non_ml_attr + missing_columns\n",
    "print(f\"Dropped the following columns based on missingness and uniqueness+data type: {dropped_columns}\")\n",
    "\n",
    "val_df = val_df.drop(dropped_columns, axis=1)\n",
    "test_df = test_df.drop(dropped_columns, axis=1)\n"
   ]
  },
  {
   "cell_type": "code",
   "execution_count": 12,
   "id": "360a9c5e",
   "metadata": {},
   "outputs": [],
   "source": [
    "assert len(data.columns) == len(nominal_attr+numerical_attr+dropped_columns)+1 #+1 for target\n",
    "assert np.all(train_df.columns == test_df.columns)\n",
    "assert np.all(train_df.columns == val_df.columns)"
   ]
  },
  {
   "cell_type": "markdown",
   "id": "65bdcfff",
   "metadata": {},
   "source": [
    "## check out the label"
   ]
  },
  {
   "cell_type": "code",
   "execution_count": 13,
   "id": "e34b9835",
   "metadata": {},
   "outputs": [
    {
     "data": {
      "text/plain": [
       "count    29701.000000\n",
       "mean         0.149928\n",
       "std          0.357006\n",
       "min          0.000000\n",
       "25%          0.000000\n",
       "50%          0.000000\n",
       "75%          0.000000\n",
       "max          1.000000\n",
       "Name: y, dtype: float64"
      ]
     },
     "execution_count": 13,
     "metadata": {},
     "output_type": "execute_result"
    },
    {
     "data": {
      "image/png": "[encoded data removed]",
      "text/plain": [
       "<Figure size 640x480 with 1 Axes>"
      ]
     },
     "metadata": {},
     "output_type": "display_data"
    }
   ],
   "source": [
    "assert train_df[target].dtype == pd.api.types.pandas_dtype(float) or train_df[target].dtype == pd.api.types.pandas_dtype('int64')\n",
    "assert train_df[target].median()==0 or train_df[target].median()==1\n",
    "#these assertions should hold for any numeric binary target with 0's and 1's\n",
    "train_df[target].hist()\n",
    "train_df[target].describe()"
   ]
  },
  {
   "cell_type": "markdown",
   "id": "2fece151",
   "metadata": {},
   "source": [
    "## build the preprocessing pipeline"
   ]
  },
  {
   "cell_type": "code",
   "execution_count": 14,
   "id": "4f991691",
   "metadata": {},
   "outputs": [],
   "source": [
    "numerical_transformer = Pipeline(\n",
    "    steps=[(\"imputer\", SimpleImputer(strategy='mean')), \n",
    "           (\"scaler\", StandardScaler())]\n",
    ")\n",
    "\n",
    "nominal_transformer = Pipeline(\n",
    "    steps=[(\"imputer\", SimpleImputer(strategy=\"most_frequent\")), \n",
    "           ('target_encoder', TargetEncoder(target_type='continuous', random_state=42)),\n",
    "           (\"scaler\", StandardScaler())\n",
    "          ]\n",
    ")\n",
    "\n",
    "preprocessor = ColumnTransformer(\n",
    "    transformers=[\n",
    "        ('numerical', numerical_transformer, numerical_attr),\n",
    "        ('nominal', nominal_transformer, nominal_attr)\n",
    "    ]\n",
    ")"
   ]
  },
  {
   "cell_type": "markdown",
   "id": "94d409fa",
   "metadata": {},
   "source": [
    "## define default estimators"
   ]
  },
  {
   "cell_type": "code",
   "execution_count": 15,
   "id": "e19dcdbe",
   "metadata": {},
   "outputs": [],
   "source": [
    "sgd = SGDClassifier(random_state=42)\n",
    "rf = RandomForestClassifier(random_state=42)\n",
    "gb = GradientBoostingClassifier(random_state=42)\n",
    "lr = LogisticRegression(random_state=42)\n",
    "\n",
    "pipe = Pipeline([('preprocessor', preprocessor),('model',sgd)])\n",
    "\n",
    "sgd_params = {}\n",
    "sgd_params['model'] = [sgd]\n",
    "sgd_params['model__random_state'] = [42]\n",
    "\n",
    "rf_params = {}\n",
    "rf_params['model'] = [rf]\n",
    "rf_params['model__random_state'] = [42]\n",
    "\n",
    "\n",
    "gb_params = {}\n",
    "gb_params['model'] = [gb]\n",
    "gb_params['model__random_state'] = [42]\n",
    "\n",
    "lr_params = {}\n",
    "lr_params['model'] = [lr]\n",
    "lr_params['model__random_state'] = [42]\n",
    "\n",
    "\n",
    "params = [sgd_params, rf_params, gb_params, lr_params]"
   ]
  },
  {
   "cell_type": "markdown",
   "id": "6a2b9617",
   "metadata": {},
   "source": [
    "## build the composite estimator"
   ]
  },
  {
   "cell_type": "code",
   "execution_count": 16,
   "id": "6ff8b590",
   "metadata": {},
   "outputs": [],
   "source": [
    "default_grid = GridSearchCV(pipe,params, scoring='average_precision',return_train_score=True, verbose = 4)"
   ]
  },
  {
   "cell_type": "code",
   "execution_count": 17,
   "id": "135430ad",
   "metadata": {},
   "outputs": [],
   "source": [
    "#If we're trying to do fast development we will edit the train and val set to be smaller\n",
    "if testing:\n",
    "    print('Train shape before resample: ',train_df.shape)\n",
    "    print('Validation shape before resample: ',val_df.shape)\n",
    "\n",
    "    train_df = resample(train_df, replace=False, n_samples = (round(train_df.shape[0]*frac)), stratify=train_df[target], random_state=42)\n",
    "    val_df = resample(val_df, replace=False, n_samples = (round(val_df.shape[0]*frac)), stratify=val_df[target], random_state=42)\n",
    "\n",
    "    print('Train shape after resample: ',train_df.shape)\n",
    "    print('Validaiton shape after resample: ',val_df.shape)"
   ]
  },
  {
   "cell_type": "markdown",
   "id": "52eba29d",
   "metadata": {},
   "source": [
    "## default model survey"
   ]
  },
  {
   "cell_type": "markdown",
   "id": "152aebfc",
   "metadata": {},
   "source": [
    "### train the default model"
   ]
  },
  {
   "cell_type": "code",
   "execution_count": 19,
   "id": "c8ac1f53",
   "metadata": {},
   "outputs": [
    {
     "name": "stdout",
     "output_type": "stream",
     "text": [
      "Fitting 5 folds for each of 4 candidates, totalling 20 fits\n",
      "[CV 1/5] END model=SGDClassifier(random_state=42), model__random_state=42;, score=(train=0.772, test=0.763) total time=   0.0s\n",
      "[CV 2/5] END model=SGDClassifier(random_state=42), model__random_state=42;, score=(train=0.788, test=0.789) total time=   0.0s\n",
      "[CV 3/5] END model=SGDClassifier(random_state=42), model__random_state=42;, score=(train=0.796, test=0.809) total time=   0.0s\n",
      "[CV 4/5] END model=SGDClassifier(random_state=42), model__random_state=42;, score=(train=0.788, test=0.789) total time=   0.0s\n",
      "[CV 5/5] END model=SGDClassifier(random_state=42), model__random_state=42;, score=(train=0.792, test=0.784) total time=   0.0s\n",
      "[CV 1/5] END model=RandomForestClassifier(random_state=42), model__random_state=42;, score=(train=1.000, test=0.938) total time=  13.5s\n",
      "[CV 2/5] END model=RandomForestClassifier(random_state=42), model__random_state=42;, score=(train=1.000, test=0.950) total time=  13.3s\n",
      "[CV 3/5] END model=RandomForestClassifier(random_state=42), model__random_state=42;, score=(train=1.000, test=0.953) total time=  13.1s\n",
      "[CV 4/5] END model=RandomForestClassifier(random_state=42), model__random_state=42;, score=(train=1.000, test=0.950) total time=  13.0s\n",
      "[CV 5/5] END model=RandomForestClassifier(random_state=42), model__random_state=42;, score=(train=1.000, test=0.946) total time=  12.8s\n",
      "[CV 1/5] END model=GradientBoostingClassifier(random_state=42), model__random_state=42;, score=(train=0.942, test=0.912) total time=  18.3s\n",
      "[CV 2/5] END model=GradientBoostingClassifier(random_state=42), model__random_state=42;, score=(train=0.937, test=0.923) total time=  18.5s\n",
      "[CV 3/5] END model=GradientBoostingClassifier(random_state=42), model__random_state=42;, score=(train=0.940, test=0.927) total time=  18.5s\n",
      "[CV 4/5] END model=GradientBoostingClassifier(random_state=42), model__random_state=42;, score=(train=0.936, test=0.921) total time=  18.4s\n",
      "[CV 5/5] END model=GradientBoostingClassifier(random_state=42), model__random_state=42;, score=(train=0.938, test=0.913) total time=  18.3s\n",
      "[CV 1/5] END model=LogisticRegression(random_state=42), model__random_state=42;, score=(train=0.792, test=0.780) total time=   0.0s\n",
      "[CV 2/5] END model=LogisticRegression(random_state=42), model__random_state=42;, score=(train=0.790, test=0.794) total time=   0.0s\n",
      "[CV 3/5] END model=LogisticRegression(random_state=42), model__random_state=42;, score=(train=0.787, test=0.796) total time=   0.0s\n",
      "[CV 4/5] END model=LogisticRegression(random_state=42), model__random_state=42;, score=(train=0.787, test=0.793) total time=   0.0s\n",
      "[CV 5/5] END model=LogisticRegression(random_state=42), model__random_state=42;, score=(train=0.791, test=0.783) total time=   0.0s\n"
     ]
    },
    {
     "data": {
      "text/html": [
       "<style>#sk-container-id-1 {color: black;}#sk-container-id-1 pre{padding: 0;}#sk-container-id-1 div.sk-toggleable {background-color: white;}#sk-container-id-1 label.sk-toggleable__label {cursor: pointer;display: block;width: 100%;margin-bottom: 0;padding: 0.3em;box-sizing: border-box;text-align: center;}#sk-container-id-1 label.sk-toggleable__label-arrow:before {content: \"▸\";float: left;margin-right: 0.25em;color: #696969;}#sk-container-id-1 label.sk-toggleable__label-arrow:hover:before {color: black;}#sk-container-id-1 div.sk-estimator:hover label.sk-toggleable__label-arrow:before {color: black;}#sk-container-id-1 div.sk-toggleable__content {max-height: 0;max-width: 0;overflow: hidden;text-align: left;background-color: #f0f8ff;}#sk-container-id-1 div.sk-toggleable__content pre {margin: 0.2em;color: black;border-radius: 0.25em;background-color: #f0f8ff;}#sk-container-id-1 input.sk-toggleable__control:checked~div.sk-toggleable__content {max-height: 200px;max-width: 100%;overflow: auto;}#sk-container-id-1 input.sk-toggleable__control:checked~label.sk-toggleable__label-arrow:before {content: \"▾\";}#sk-container-id-1 div.sk-estimator input.sk-toggleable__control:checked~label.sk-toggleable__label {background-color: #d4ebff;}#sk-container-id-1 div.sk-label input.sk-toggleable__control:checked~label.sk-toggleable__label {background-color: #d4ebff;}#sk-container-id-1 input.sk-hidden--visually {border: 0;clip: rect(1px 1px 1px 1px);clip: rect(1px, 1px, 1px, 1px);height: 1px;margin: -1px;overflow: hidden;padding: 0;position: absolute;width: 1px;}#sk-container-id-1 div.sk-estimator {font-family: monospace;background-color: #f0f8ff;border: 1px dotted black;border-radius: 0.25em;box-sizing: border-box;margin-bottom: 0.5em;}#sk-container-id-1 div.sk-estimator:hover {background-color: #d4ebff;}#sk-container-id-1 div.sk-parallel-item::after {content: \"\";width: 100%;border-bottom: 1px solid gray;flex-grow: 1;}#sk-container-id-1 div.sk-label:hover label.sk-toggleable__label {background-color: #d4ebff;}#sk-container-id-1 div.sk-serial::before {content: \"\";position: absolute;border-left: 1px solid gray;box-sizing: border-box;top: 0;bottom: 0;left: 50%;z-index: 0;}#sk-container-id-1 div.sk-serial {display: flex;flex-direction: column;align-items: center;background-color: white;padding-right: 0.2em;padding-left: 0.2em;position: relative;}#sk-container-id-1 div.sk-item {position: relative;z-index: 1;}#sk-container-id-1 div.sk-parallel {display: flex;align-items: stretch;justify-content: center;background-color: white;position: relative;}#sk-container-id-1 div.sk-item::before, #sk-container-id-1 div.sk-parallel-item::before {content: \"\";position: absolute;border-left: 1px solid gray;box-sizing: border-box;top: 0;bottom: 0;left: 50%;z-index: -1;}#sk-container-id-1 div.sk-parallel-item {display: flex;flex-direction: column;z-index: 1;position: relative;background-color: white;}#sk-container-id-1 div.sk-parallel-item:first-child::after {align-self: flex-end;width: 50%;}#sk-container-id-1 div.sk-parallel-item:last-child::after {align-self: flex-start;width: 50%;}#sk-container-id-1 div.sk-parallel-item:only-child::after {width: 0;}#sk-container-id-1 div.sk-dashed-wrapped {border: 1px dashed gray;margin: 0 0.4em 0.5em 0.4em;box-sizing: border-box;padding-bottom: 0.4em;background-color: white;}#sk-container-id-1 div.sk-label label {font-family: monospace;font-weight: bold;display: inline-block;line-height: 1.2em;}#sk-container-id-1 div.sk-label-container {text-align: center;}#sk-container-id-1 div.sk-container {/* jupyter's `normalize.less` sets `[hidden] { display: none; }` but bootstrap.min.css set `[hidden] { display: none !important; }` so we also need the `!important` here to be able to override the default hidden behavior on the sphinx rendered scikit-learn.org. See: https://github.com/scikit-learn/scikit-learn/issues/21755 */display: inline-block !important;position: relative;}#sk-container-id-1 div.sk-text-repr-fallback {display: none;}</style><div id=\"sk-container-id-1\" class=\"sk-top-container\"><div class=\"sk-text-repr-fallback\"><pre>GridSearchCV(estimator=Pipeline(steps=[(&#x27;preprocessor&#x27;,\n",
       "                                        ColumnTransformer(transformers=[(&#x27;numerical&#x27;,\n",
       "                                                                         Pipeline(steps=[(&#x27;imputer&#x27;,\n",
       "                                                                                          SimpleImputer()),\n",
       "                                                                                         (&#x27;scaler&#x27;,\n",
       "                                                                                          StandardScaler())]),\n",
       "                                                                         [&#x27;attr_1&#x27;,\n",
       "                                                                          &#x27;attr_3&#x27;,\n",
       "                                                                          &#x27;attr_4&#x27;,\n",
       "                                                                          &#x27;attr_5&#x27;,\n",
       "                                                                          &#x27;attr_6&#x27;,\n",
       "                                                                          &#x27;attr_7&#x27;,\n",
       "                                                                          &#x27;attr_9&#x27;,\n",
       "                                                                          &#x27;attr_10&#x27;,\n",
       "                                                                          &#x27;attr_11&#x27;]),\n",
       "                                                                        (&#x27;nominal&#x27;,\n",
       "                                                                         Pipeline(steps=[(&#x27;imputer&#x27;,\n",
       "                                                                                          SimpleImputer(strategy=&#x27;most_frequent&#x27;)),\n",
       "                                                                                         (&#x27;target_en...\n",
       "             param_grid=[{&#x27;model&#x27;: [SGDClassifier(random_state=42)],\n",
       "                          &#x27;model__random_state&#x27;: [42]},\n",
       "                         {&#x27;model&#x27;: [RandomForestClassifier(random_state=42)],\n",
       "                          &#x27;model__random_state&#x27;: [42]},\n",
       "                         {&#x27;model&#x27;: [GradientBoostingClassifier(random_state=42)],\n",
       "                          &#x27;model__random_state&#x27;: [42]},\n",
       "                         {&#x27;model&#x27;: [LogisticRegression(random_state=42)],\n",
       "                          &#x27;model__random_state&#x27;: [42]}],\n",
       "             return_train_score=True, scoring=&#x27;average_precision&#x27;, verbose=4)</pre><b>In a Jupyter environment, please rerun this cell to show the HTML representation or trust the notebook. <br />On GitHub, the HTML representation is unable to render, please try loading this page with nbviewer.org.</b></div><div class=\"sk-container\" hidden><div class=\"sk-item sk-dashed-wrapped\"><div class=\"sk-label-container\"><div class=\"sk-label sk-toggleable\"><input class=\"sk-toggleable__control sk-hidden--visually\" id=\"sk-estimator-id-1\" type=\"checkbox\" ><label for=\"sk-estimator-id-1\" class=\"sk-toggleable__label sk-toggleable__label-arrow\">GridSearchCV</label><div class=\"sk-toggleable__content\"><pre>GridSearchCV(estimator=Pipeline(steps=[(&#x27;preprocessor&#x27;,\n",
       "                                        ColumnTransformer(transformers=[(&#x27;numerical&#x27;,\n",
       "                                                                         Pipeline(steps=[(&#x27;imputer&#x27;,\n",
       "                                                                                          SimpleImputer()),\n",
       "                                                                                         (&#x27;scaler&#x27;,\n",
       "                                                                                          StandardScaler())]),\n",
       "                                                                         [&#x27;attr_1&#x27;,\n",
       "                                                                          &#x27;attr_3&#x27;,\n",
       "                                                                          &#x27;attr_4&#x27;,\n",
       "                                                                          &#x27;attr_5&#x27;,\n",
       "                                                                          &#x27;attr_6&#x27;,\n",
       "                                                                          &#x27;attr_7&#x27;,\n",
       "                                                                          &#x27;attr_9&#x27;,\n",
       "                                                                          &#x27;attr_10&#x27;,\n",
       "                                                                          &#x27;attr_11&#x27;]),\n",
       "                                                                        (&#x27;nominal&#x27;,\n",
       "                                                                         Pipeline(steps=[(&#x27;imputer&#x27;,\n",
       "                                                                                          SimpleImputer(strategy=&#x27;most_frequent&#x27;)),\n",
       "                                                                                         (&#x27;target_en...\n",
       "             param_grid=[{&#x27;model&#x27;: [SGDClassifier(random_state=42)],\n",
       "                          &#x27;model__random_state&#x27;: [42]},\n",
       "                         {&#x27;model&#x27;: [RandomForestClassifier(random_state=42)],\n",
       "                          &#x27;model__random_state&#x27;: [42]},\n",
       "                         {&#x27;model&#x27;: [GradientBoostingClassifier(random_state=42)],\n",
       "                          &#x27;model__random_state&#x27;: [42]},\n",
       "                         {&#x27;model&#x27;: [LogisticRegression(random_state=42)],\n",
       "                          &#x27;model__random_state&#x27;: [42]}],\n",
       "             return_train_score=True, scoring=&#x27;average_precision&#x27;, verbose=4)</pre></div></div></div><div class=\"sk-parallel\"><div class=\"sk-parallel-item\"><div class=\"sk-item\"><div class=\"sk-label-container\"><div class=\"sk-label sk-toggleable\"><input class=\"sk-toggleable__control sk-hidden--visually\" id=\"sk-estimator-id-2\" type=\"checkbox\" ><label for=\"sk-estimator-id-2\" class=\"sk-toggleable__label sk-toggleable__label-arrow\">estimator: Pipeline</label><div class=\"sk-toggleable__content\"><pre>Pipeline(steps=[(&#x27;preprocessor&#x27;,\n",
       "                 ColumnTransformer(transformers=[(&#x27;numerical&#x27;,\n",
       "                                                  Pipeline(steps=[(&#x27;imputer&#x27;,\n",
       "                                                                   SimpleImputer()),\n",
       "                                                                  (&#x27;scaler&#x27;,\n",
       "                                                                   StandardScaler())]),\n",
       "                                                  [&#x27;attr_1&#x27;, &#x27;attr_3&#x27;, &#x27;attr_4&#x27;,\n",
       "                                                   &#x27;attr_5&#x27;, &#x27;attr_6&#x27;, &#x27;attr_7&#x27;,\n",
       "                                                   &#x27;attr_9&#x27;, &#x27;attr_10&#x27;,\n",
       "                                                   &#x27;attr_11&#x27;]),\n",
       "                                                 (&#x27;nominal&#x27;,\n",
       "                                                  Pipeline(steps=[(&#x27;imputer&#x27;,\n",
       "                                                                   SimpleImputer(strategy=&#x27;most_frequent&#x27;)),\n",
       "                                                                  (&#x27;target_encoder&#x27;,\n",
       "                                                                   TargetEncoder(random_state=42,\n",
       "                                                                                 target_type=&#x27;continuous&#x27;)),\n",
       "                                                                  (&#x27;scaler&#x27;,\n",
       "                                                                   StandardScaler())]),\n",
       "                                                  [&#x27;attr_2&#x27;])])),\n",
       "                (&#x27;model&#x27;, SGDClassifier(random_state=42))])</pre></div></div></div><div class=\"sk-serial\"><div class=\"sk-item\"><div class=\"sk-serial\"><div class=\"sk-item sk-dashed-wrapped\"><div class=\"sk-label-container\"><div class=\"sk-label sk-toggleable\"><input class=\"sk-toggleable__control sk-hidden--visually\" id=\"sk-estimator-id-3\" type=\"checkbox\" ><label for=\"sk-estimator-id-3\" class=\"sk-toggleable__label sk-toggleable__label-arrow\">preprocessor: ColumnTransformer</label><div class=\"sk-toggleable__content\"><pre>ColumnTransformer(transformers=[(&#x27;numerical&#x27;,\n",
       "                                 Pipeline(steps=[(&#x27;imputer&#x27;, SimpleImputer()),\n",
       "                                                 (&#x27;scaler&#x27;, StandardScaler())]),\n",
       "                                 [&#x27;attr_1&#x27;, &#x27;attr_3&#x27;, &#x27;attr_4&#x27;, &#x27;attr_5&#x27;,\n",
       "                                  &#x27;attr_6&#x27;, &#x27;attr_7&#x27;, &#x27;attr_9&#x27;, &#x27;attr_10&#x27;,\n",
       "                                  &#x27;attr_11&#x27;]),\n",
       "                                (&#x27;nominal&#x27;,\n",
       "                                 Pipeline(steps=[(&#x27;imputer&#x27;,\n",
       "                                                  SimpleImputer(strategy=&#x27;most_frequent&#x27;)),\n",
       "                                                 (&#x27;target_encoder&#x27;,\n",
       "                                                  TargetEncoder(random_state=42,\n",
       "                                                                target_type=&#x27;continuous&#x27;)),\n",
       "                                                 (&#x27;scaler&#x27;, StandardScaler())]),\n",
       "                                 [&#x27;attr_2&#x27;])])</pre></div></div></div><div class=\"sk-parallel\"><div class=\"sk-parallel-item\"><div class=\"sk-item\"><div class=\"sk-label-container\"><div class=\"sk-label sk-toggleable\"><input class=\"sk-toggleable__control sk-hidden--visually\" id=\"sk-estimator-id-4\" type=\"checkbox\" ><label for=\"sk-estimator-id-4\" class=\"sk-toggleable__label sk-toggleable__label-arrow\">numerical</label><div class=\"sk-toggleable__content\"><pre>[&#x27;attr_1&#x27;, &#x27;attr_3&#x27;, &#x27;attr_4&#x27;, &#x27;attr_5&#x27;, &#x27;attr_6&#x27;, &#x27;attr_7&#x27;, &#x27;attr_9&#x27;, &#x27;attr_10&#x27;, &#x27;attr_11&#x27;]</pre></div></div></div><div class=\"sk-serial\"><div class=\"sk-item\"><div class=\"sk-serial\"><div class=\"sk-item\"><div class=\"sk-estimator sk-toggleable\"><input class=\"sk-toggleable__control sk-hidden--visually\" id=\"sk-estimator-id-5\" type=\"checkbox\" ><label for=\"sk-estimator-id-5\" class=\"sk-toggleable__label sk-toggleable__label-arrow\">SimpleImputer</label><div class=\"sk-toggleable__content\"><pre>SimpleImputer()</pre></div></div></div><div class=\"sk-item\"><div class=\"sk-estimator sk-toggleable\"><input class=\"sk-toggleable__control sk-hidden--visually\" id=\"sk-estimator-id-6\" type=\"checkbox\" ><label for=\"sk-estimator-id-6\" class=\"sk-toggleable__label sk-toggleable__label-arrow\">StandardScaler</label><div class=\"sk-toggleable__content\"><pre>StandardScaler()</pre></div></div></div></div></div></div></div></div><div class=\"sk-parallel-item\"><div class=\"sk-item\"><div class=\"sk-label-container\"><div class=\"sk-label sk-toggleable\"><input class=\"sk-toggleable__control sk-hidden--visually\" id=\"sk-estimator-id-7\" type=\"checkbox\" ><label for=\"sk-estimator-id-7\" class=\"sk-toggleable__label sk-toggleable__label-arrow\">nominal</label><div class=\"sk-toggleable__content\"><pre>[&#x27;attr_2&#x27;]</pre></div></div></div><div class=\"sk-serial\"><div class=\"sk-item\"><div class=\"sk-serial\"><div class=\"sk-item\"><div class=\"sk-estimator sk-toggleable\"><input class=\"sk-toggleable__control sk-hidden--visually\" id=\"sk-estimator-id-8\" type=\"checkbox\" ><label for=\"sk-estimator-id-8\" class=\"sk-toggleable__label sk-toggleable__label-arrow\">SimpleImputer</label><div class=\"sk-toggleable__content\"><pre>SimpleImputer(strategy=&#x27;most_frequent&#x27;)</pre></div></div></div><div class=\"sk-item\"><div class=\"sk-estimator sk-toggleable\"><input class=\"sk-toggleable__control sk-hidden--visually\" id=\"sk-estimator-id-9\" type=\"checkbox\" ><label for=\"sk-estimator-id-9\" class=\"sk-toggleable__label sk-toggleable__label-arrow\">TargetEncoder</label><div class=\"sk-toggleable__content\"><pre>TargetEncoder(random_state=42, target_type=&#x27;continuous&#x27;)</pre></div></div></div><div class=\"sk-item\"><div class=\"sk-estimator sk-toggleable\"><input class=\"sk-toggleable__control sk-hidden--visually\" id=\"sk-estimator-id-10\" type=\"checkbox\" ><label for=\"sk-estimator-id-10\" class=\"sk-toggleable__label sk-toggleable__label-arrow\">StandardScaler</label><div class=\"sk-toggleable__content\"><pre>StandardScaler()</pre></div></div></div></div></div></div></div></div></div></div><div class=\"sk-item\"><div class=\"sk-estimator sk-toggleable\"><input class=\"sk-toggleable__control sk-hidden--visually\" id=\"sk-estimator-id-11\" type=\"checkbox\" ><label for=\"sk-estimator-id-11\" class=\"sk-toggleable__label sk-toggleable__label-arrow\">SGDClassifier</label><div class=\"sk-toggleable__content\"><pre>SGDClassifier(random_state=42)</pre></div></div></div></div></div></div></div></div></div></div></div></div>"
      ],
      "text/plain": [
       "GridSearchCV(estimator=Pipeline(steps=[('preprocessor',\n",
       "                                        ColumnTransformer(transformers=[('numerical',\n",
       "                                                                         Pipeline(steps=[('imputer',\n",
       "                                                                                          SimpleImputer()),\n",
       "                                                                                         ('scaler',\n",
       "                                                                                          StandardScaler())]),\n",
       "                                                                         ['attr_1',\n",
       "                                                                          'attr_3',\n",
       "                                                                          'attr_4',\n",
       "                                                                          'attr_5',\n",
       "                                                                          'attr_6',\n",
       "                                                                          'attr_7',\n",
       "                                                                          'attr_9',\n",
       "                                                                          'attr_10',\n",
       "                                                                          'attr_11']),\n",
       "                                                                        ('nominal',\n",
       "                                                                         Pipeline(steps=[('imputer',\n",
       "                                                                                          SimpleImputer(strategy='most_frequent')),\n",
       "                                                                                         ('target_en...\n",
       "             param_grid=[{'model': [SGDClassifier(random_state=42)],\n",
       "                          'model__random_state': [42]},\n",
       "                         {'model': [RandomForestClassifier(random_state=42)],\n",
       "                          'model__random_state': [42]},\n",
       "                         {'model': [GradientBoostingClassifier(random_state=42)],\n",
       "                          'model__random_state': [42]},\n",
       "                         {'model': [LogisticRegression(random_state=42)],\n",
       "                          'model__random_state': [42]}],\n",
       "             return_train_score=True, scoring='average_precision', verbose=4)"
      ]
     },
     "execution_count": 19,
     "metadata": {},
     "output_type": "execute_result"
    }
   ],
   "source": [
    "train_x, train_y = get_x_y(train_df,target)\n",
    "\n",
    "default_grid.fit(train_x,train_y)"
   ]
  },
  {
   "cell_type": "code",
   "execution_count": 20,
   "id": "aa108436",
   "metadata": {},
   "outputs": [
    {
     "data": {
      "text/html": [
       "<div>\n",
       "<style scoped>\n",
       "    .dataframe tbody tr th:only-of-type {\n",
       "        vertical-align: middle;\n",
       "    }\n",
       "\n",
       "    .dataframe tbody tr th {\n",
       "        vertical-align: top;\n",
       "    }\n",
       "\n",
       "    .dataframe thead th {\n",
       "        text-align: right;\n",
       "    }\n",
       "</style>\n",
       "<table border=\"1\" class=\"dataframe\">\n",
       "  <thead>\n",
       "    <tr style=\"text-align: right;\">\n",
       "      <th></th>\n",
       "      <th>param_model</th>\n",
       "      <th>mean_train_score</th>\n",
       "      <th>mean_test_score</th>\n",
       "      <th>std_train_score</th>\n",
       "      <th>std_test_score</th>\n",
       "      <th>rank_test_score</th>\n",
       "    </tr>\n",
       "  </thead>\n",
       "  <tbody>\n",
       "    <tr>\n",
       "      <th>1</th>\n",
       "      <td>RandomForestClassifier(random_state=42)</td>\n",
       "      <td>0.999988</td>\n",
       "      <td>0.947386</td>\n",
       "      <td>0.000006</td>\n",
       "      <td>0.005326</td>\n",
       "      <td>1</td>\n",
       "    </tr>\n",
       "    <tr>\n",
       "      <th>2</th>\n",
       "      <td>GradientBoostingClassifier(random_state=42)</td>\n",
       "      <td>0.938619</td>\n",
       "      <td>0.919257</td>\n",
       "      <td>0.002062</td>\n",
       "      <td>0.005712</td>\n",
       "      <td>2</td>\n",
       "    </tr>\n",
       "    <tr>\n",
       "      <th>3</th>\n",
       "      <td>LogisticRegression(random_state=42)</td>\n",
       "      <td>0.789415</td>\n",
       "      <td>0.789233</td>\n",
       "      <td>0.001975</td>\n",
       "      <td>0.006177</td>\n",
       "      <td>3</td>\n",
       "    </tr>\n",
       "    <tr>\n",
       "      <th>0</th>\n",
       "      <td>SGDClassifier(random_state=42)</td>\n",
       "      <td>0.787265</td>\n",
       "      <td>0.786934</td>\n",
       "      <td>0.008095</td>\n",
       "      <td>0.014886</td>\n",
       "      <td>4</td>\n",
       "    </tr>\n",
       "  </tbody>\n",
       "</table>\n",
       "</div>"
      ],
      "text/plain": [
       "                                   param_model  mean_train_score  \\\n",
       "1      RandomForestClassifier(random_state=42)          0.999988   \n",
       "2  GradientBoostingClassifier(random_state=42)          0.938619   \n",
       "3          LogisticRegression(random_state=42)          0.789415   \n",
       "0               SGDClassifier(random_state=42)          0.787265   \n",
       "\n",
       "   mean_test_score  std_train_score  std_test_score  rank_test_score  \n",
       "1         0.947386         0.000006        0.005326                1  \n",
       "2         0.919257         0.002062        0.005712                2  \n",
       "3         0.789233         0.001975        0.006177                3  \n",
       "0         0.786934         0.008095        0.014886                4  "
      ]
     },
     "execution_count": 20,
     "metadata": {},
     "output_type": "execute_result"
    }
   ],
   "source": [
    "compare_default_df = pd.DataFrame(default_grid.cv_results_)\n",
    "compare_default_df[['param_model','mean_train_score','mean_test_score','std_train_score','std_test_score','rank_test_score']].sort_values('rank_test_score')"
   ]
  },
  {
   "cell_type": "markdown",
   "id": "2ba2633d",
   "metadata": {},
   "source": [
    "### evaluate the default model on the validation set by bootstrapping without refit - get the low and high limits"
   ]
  },
  {
   "cell_type": "code",
   "execution_count": 21,
   "id": "fb06a4ae",
   "metadata": {},
   "outputs": [
    {
     "name": "stdout",
     "output_type": "stream",
     "text": [
      "\n",
      "val_df Statistic Score: Average Precision\n",
      "Confidence Interval: 95%\n",
      "\tBootstrapped Statistic:  ConfidenceInterval(low=0.7664642513656613, high=0.7745767238215573)\n"
     ]
    }
   ],
   "source": [
    "default_val = boot_val(default_grid.best_estimator_,val_df,target)"
   ]
  },
  {
   "attachments": {
    "image.png": {
     "image/png": "[encoded data removed]"
    }
   },
   "cell_type": "markdown",
   "id": "51c25740",
   "metadata": {},
   "source": [
    "### Why is it so much lower than the test scores I see in the CV results? \n",
    "I thought cross validation is able to validate similarly to this bootstrap method. <br>\n",
    "Here's how I understand it:<br><br>\n",
    "**the bootstrapping method, without refit: take unseen data, predict on the unseen features, compare those predictions to the unseen true values<br><br>\n",
    "**cross validation: take unseen data (the left out fold), predict on it, compare those predictions to the unseen true values (left out fold values)<br>\n",
    " ![image.png](attachment:image.png)\n",
    "\n",
    " <br>\n",
    " <br>\n",
    " the main difference with the bootstrapping method is it takes many random samples with replacement from the validation set. We do this so we can get a confidence interval on unseen data predictions<br>\n",
    " but doesn't CV kind of do this too? For each iteration, there is a validation fold, and we get the average test score by averageing over the folds. If the number of folds is equal to the number of bootstrap samples, wouldn't we get something similar? "
   ]
  },
  {
   "cell_type": "code",
   "execution_count": 22,
   "id": "8842e2d6",
   "metadata": {},
   "outputs": [
    {
     "name": "stdout",
     "output_type": "stream",
     "text": [
      "Validation average precision score without bootstraping: 0.7707530275082423\n",
      "Train average precision score without bootstrapping: 0.997990459512588\n"
     ]
    }
   ],
   "source": [
    "val_x, val_y = get_x_y(val_df,target)\n",
    "val_pred = default_grid.best_estimator_.predict(val_x)\n",
    "print(f\"Validation average precision score without bootstraping: {average_precision_score(val_y, val_pred)}\")#, average='samples')\n",
    "\n",
    "pred_y = default_grid.best_estimator_.predict(train_x)\n",
    "print(f\"Train average precision score without bootstrapping: {average_precision_score(train_y,pred_y)}\")"
   ]
  },
  {
   "cell_type": "code",
   "execution_count": 23,
   "id": "001f6e7b",
   "metadata": {},
   "outputs": [
    {
     "data": {
      "text/plain": [
       "0.94739"
      ]
     },
     "execution_count": 23,
     "metadata": {},
     "output_type": "execute_result"
    }
   ],
   "source": [
    "cv_results = cross_validate(default_grid.best_estimator_, train_x, train_y, scoring = 'average_precision', return_train_score=True)\n",
    "round(np.mean(cv_results['test_score']),5)"
   ]
  },
  {
   "cell_type": "code",
   "execution_count": 24,
   "id": "6e9786a5",
   "metadata": {},
   "outputs": [],
   "source": [
    "#false_discovery_test(default_grid.best_estimator_,train_df,val_df,target)"
   ]
  },
  {
   "cell_type": "markdown",
   "id": "36390934",
   "metadata": {},
   "source": [
    "## tune two estimator hyperparameters - you will not be tuning the preprocessing stage in this round of experimentation"
   ]
  },
  {
   "cell_type": "markdown",
   "id": "0b112303",
   "metadata": {},
   "source": [
    "### set up the hyperparameter grid"
   ]
  },
  {
   "cell_type": "code",
   "execution_count": 25,
   "id": "e350c71c",
   "metadata": {},
   "outputs": [
    {
     "data": {
      "text/plain": [
       "{'model': RandomForestClassifier(random_state=42), 'model__random_state': 42}"
      ]
     },
     "execution_count": 25,
     "metadata": {},
     "output_type": "execute_result"
    }
   ],
   "source": [
    "best_est = default_grid.best_estimator_\n",
    "default_grid.best_params_"
   ]
  },
  {
   "cell_type": "code",
   "execution_count": 26,
   "id": "c8f04e6d",
   "metadata": {},
   "outputs": [
    {
     "name": "stdout",
     "output_type": "stream",
     "text": [
      "Conducting Grid Search on the following model with the following parameters:\n",
      "\n",
      "\t [{'model': [RandomForestClassifier(random_state=42)], 'model__n_estimators': [10, 100, 500], 'model__class_weight': [None, 'balanced']}] \n",
      "\n",
      "\n",
      "Fitting 5 folds for each of 6 candidates, totalling 30 fits\n",
      "[CV 1/5] END model=RandomForestClassifier(random_state=42), model__class_weight=None, model__n_estimators=10;, score=(train=0.998, test=0.904) total time=   1.3s\n",
      "[CV 2/5] END model=RandomForestClassifier(random_state=42), model__class_weight=None, model__n_estimators=10;, score=(train=0.999, test=0.916) total time=   1.2s\n",
      "[CV 3/5] END model=RandomForestClassifier(random_state=42), model__class_weight=None, model__n_estimators=10;, score=(train=0.999, test=0.921) total time=   1.2s\n",
      "[CV 4/5] END model=RandomForestClassifier(random_state=42), model__class_weight=None, model__n_estimators=10;, score=(train=0.999, test=0.918) total time=   1.2s\n",
      "[CV 5/5] END model=RandomForestClassifier(random_state=42), model__class_weight=None, model__n_estimators=10;, score=(train=0.999, test=0.912) total time=   1.2s\n",
      "[CV 1/5] END model=RandomForestClassifier(random_state=42), model__class_weight=None, model__n_estimators=100;, score=(train=1.000, test=0.938) total time=  12.9s\n",
      "[CV 2/5] END model=RandomForestClassifier(random_state=42), model__class_weight=None, model__n_estimators=100;, score=(train=1.000, test=0.950) total time=  12.9s\n",
      "[CV 3/5] END model=RandomForestClassifier(random_state=42), model__class_weight=None, model__n_estimators=100;, score=(train=1.000, test=0.953) total time=  12.9s\n",
      "[CV 4/5] END model=RandomForestClassifier(random_state=42), model__class_weight=None, model__n_estimators=100;, score=(train=1.000, test=0.950) total time=  13.0s\n",
      "[CV 5/5] END model=RandomForestClassifier(random_state=42), model__class_weight=None, model__n_estimators=100;, score=(train=1.000, test=0.946) total time=  12.8s\n",
      "[CV 1/5] END model=RandomForestClassifier(random_state=42), model__class_weight=None, model__n_estimators=500;, score=(train=1.000, test=0.940) total time= 1.1min\n",
      "[CV 2/5] END model=RandomForestClassifier(random_state=42), model__class_weight=None, model__n_estimators=500;, score=(train=1.000, test=0.953) total time= 1.1min\n",
      "[CV 3/5] END model=RandomForestClassifier(random_state=42), model__class_weight=None, model__n_estimators=500;, score=(train=1.000, test=0.955) total time= 1.1min\n",
      "[CV 4/5] END model=RandomForestClassifier(random_state=42), model__class_weight=None, model__n_estimators=500;, score=(train=1.000, test=0.953) total time= 1.1min\n",
      "[CV 5/5] END model=RandomForestClassifier(random_state=42), model__class_weight=None, model__n_estimators=500;, score=(train=1.000, test=0.949) total time= 1.1min\n",
      "[CV 1/5] END model=RandomForestClassifier(random_state=42), model__class_weight=balanced, model__n_estimators=10;, score=(train=0.999, test=0.889) total time=   1.1s\n",
      "[CV 2/5] END model=RandomForestClassifier(random_state=42), model__class_weight=balanced, model__n_estimators=10;, score=(train=0.999, test=0.911) total time=   1.1s\n",
      "[CV 3/5] END model=RandomForestClassifier(random_state=42), model__class_weight=balanced, model__n_estimators=10;, score=(train=0.999, test=0.903) total time=   1.1s\n",
      "[CV 4/5] END model=RandomForestClassifier(random_state=42), model__class_weight=balanced, model__n_estimators=10;, score=(train=0.998, test=0.913) total time=   1.1s\n",
      "[CV 5/5] END model=RandomForestClassifier(random_state=42), model__class_weight=balanced, model__n_estimators=10;, score=(train=0.999, test=0.904) total time=   1.1s\n",
      "[CV 1/5] END model=RandomForestClassifier(random_state=42), model__class_weight=balanced, model__n_estimators=100;, score=(train=1.000, test=0.934) total time=  11.7s\n",
      "[CV 2/5] END model=RandomForestClassifier(random_state=42), model__class_weight=balanced, model__n_estimators=100;, score=(train=1.000, test=0.943) total time=  11.7s\n",
      "[CV 3/5] END model=RandomForestClassifier(random_state=42), model__class_weight=balanced, model__n_estimators=100;, score=(train=1.000, test=0.947) total time=  11.8s\n",
      "[CV 4/5] END model=RandomForestClassifier(random_state=42), model__class_weight=balanced, model__n_estimators=100;, score=(train=1.000, test=0.946) total time=  11.9s\n",
      "[CV 5/5] END model=RandomForestClassifier(random_state=42), model__class_weight=balanced, model__n_estimators=100;, score=(train=1.000, test=0.942) total time=  11.8s\n",
      "[CV 1/5] END model=RandomForestClassifier(random_state=42), model__class_weight=balanced, model__n_estimators=500;, score=(train=1.000, test=0.935) total time=  58.8s\n",
      "[CV 2/5] END model=RandomForestClassifier(random_state=42), model__class_weight=balanced, model__n_estimators=500;, score=(train=1.000, test=0.946) total time=  58.9s\n",
      "[CV 3/5] END model=RandomForestClassifier(random_state=42), model__class_weight=balanced, model__n_estimators=500;, score=(train=1.000, test=0.951) total time=  58.5s\n",
      "[CV 4/5] END model=RandomForestClassifier(random_state=42), model__class_weight=balanced, model__n_estimators=500;, score=(train=1.000, test=0.949) total time=  59.4s\n",
      "[CV 5/5] END model=RandomForestClassifier(random_state=42), model__class_weight=balanced, model__n_estimators=500;, score=(train=1.000, test=0.945) total time=  58.8s\n"
     ]
    },
    {
     "data": {
      "text/html": [
       "<style>#sk-container-id-2 {color: black;}#sk-container-id-2 pre{padding: 0;}#sk-container-id-2 div.sk-toggleable {background-color: white;}#sk-container-id-2 label.sk-toggleable__label {cursor: pointer;display: block;width: 100%;margin-bottom: 0;padding: 0.3em;box-sizing: border-box;text-align: center;}#sk-container-id-2 label.sk-toggleable__label-arrow:before {content: \"▸\";float: left;margin-right: 0.25em;color: #696969;}#sk-container-id-2 label.sk-toggleable__label-arrow:hover:before {color: black;}#sk-container-id-2 div.sk-estimator:hover label.sk-toggleable__label-arrow:before {color: black;}#sk-container-id-2 div.sk-toggleable__content {max-height: 0;max-width: 0;overflow: hidden;text-align: left;background-color: #f0f8ff;}#sk-container-id-2 div.sk-toggleable__content pre {margin: 0.2em;color: black;border-radius: 0.25em;background-color: #f0f8ff;}#sk-container-id-2 input.sk-toggleable__control:checked~div.sk-toggleable__content {max-height: 200px;max-width: 100%;overflow: auto;}#sk-container-id-2 input.sk-toggleable__control:checked~label.sk-toggleable__label-arrow:before {content: \"▾\";}#sk-container-id-2 div.sk-estimator input.sk-toggleable__control:checked~label.sk-toggleable__label {background-color: #d4ebff;}#sk-container-id-2 div.sk-label input.sk-toggleable__control:checked~label.sk-toggleable__label {background-color: #d4ebff;}#sk-container-id-2 input.sk-hidden--visually {border: 0;clip: rect(1px 1px 1px 1px);clip: rect(1px, 1px, 1px, 1px);height: 1px;margin: -1px;overflow: hidden;padding: 0;position: absolute;width: 1px;}#sk-container-id-2 div.sk-estimator {font-family: monospace;background-color: #f0f8ff;border: 1px dotted black;border-radius: 0.25em;box-sizing: border-box;margin-bottom: 0.5em;}#sk-container-id-2 div.sk-estimator:hover {background-color: #d4ebff;}#sk-container-id-2 div.sk-parallel-item::after {content: \"\";width: 100%;border-bottom: 1px solid gray;flex-grow: 1;}#sk-container-id-2 div.sk-label:hover label.sk-toggleable__label {background-color: #d4ebff;}#sk-container-id-2 div.sk-serial::before {content: \"\";position: absolute;border-left: 1px solid gray;box-sizing: border-box;top: 0;bottom: 0;left: 50%;z-index: 0;}#sk-container-id-2 div.sk-serial {display: flex;flex-direction: column;align-items: center;background-color: white;padding-right: 0.2em;padding-left: 0.2em;position: relative;}#sk-container-id-2 div.sk-item {position: relative;z-index: 1;}#sk-container-id-2 div.sk-parallel {display: flex;align-items: stretch;justify-content: center;background-color: white;position: relative;}#sk-container-id-2 div.sk-item::before, #sk-container-id-2 div.sk-parallel-item::before {content: \"\";position: absolute;border-left: 1px solid gray;box-sizing: border-box;top: 0;bottom: 0;left: 50%;z-index: -1;}#sk-container-id-2 div.sk-parallel-item {display: flex;flex-direction: column;z-index: 1;position: relative;background-color: white;}#sk-container-id-2 div.sk-parallel-item:first-child::after {align-self: flex-end;width: 50%;}#sk-container-id-2 div.sk-parallel-item:last-child::after {align-self: flex-start;width: 50%;}#sk-container-id-2 div.sk-parallel-item:only-child::after {width: 0;}#sk-container-id-2 div.sk-dashed-wrapped {border: 1px dashed gray;margin: 0 0.4em 0.5em 0.4em;box-sizing: border-box;padding-bottom: 0.4em;background-color: white;}#sk-container-id-2 div.sk-label label {font-family: monospace;font-weight: bold;display: inline-block;line-height: 1.2em;}#sk-container-id-2 div.sk-label-container {text-align: center;}#sk-container-id-2 div.sk-container {/* jupyter's `normalize.less` sets `[hidden] { display: none; }` but bootstrap.min.css set `[hidden] { display: none !important; }` so we also need the `!important` here to be able to override the default hidden behavior on the sphinx rendered scikit-learn.org. See: https://github.com/scikit-learn/scikit-learn/issues/21755 */display: inline-block !important;position: relative;}#sk-container-id-2 div.sk-text-repr-fallback {display: none;}</style><div id=\"sk-container-id-2\" class=\"sk-top-container\"><div class=\"sk-text-repr-fallback\"><pre>GridSearchCV(estimator=Pipeline(steps=[(&#x27;preprocessor&#x27;,\n",
       "                                        ColumnTransformer(transformers=[(&#x27;numerical&#x27;,\n",
       "                                                                         Pipeline(steps=[(&#x27;imputer&#x27;,\n",
       "                                                                                          SimpleImputer()),\n",
       "                                                                                         (&#x27;scaler&#x27;,\n",
       "                                                                                          StandardScaler())]),\n",
       "                                                                         [&#x27;attr_1&#x27;,\n",
       "                                                                          &#x27;attr_3&#x27;,\n",
       "                                                                          &#x27;attr_4&#x27;,\n",
       "                                                                          &#x27;attr_5&#x27;,\n",
       "                                                                          &#x27;attr_6&#x27;,\n",
       "                                                                          &#x27;attr_7&#x27;,\n",
       "                                                                          &#x27;attr_9&#x27;,\n",
       "                                                                          &#x27;attr_10&#x27;,\n",
       "                                                                          &#x27;attr_11&#x27;]),\n",
       "                                                                        (&#x27;nominal&#x27;,\n",
       "                                                                         Pipeline(steps=[(&#x27;imputer&#x27;,\n",
       "                                                                                          SimpleImputer(strategy=&#x27;most_frequent&#x27;)),\n",
       "                                                                                         (&#x27;target_en...\n",
       "                                                                                          TargetEncoder(random_state=42,\n",
       "                                                                                                        target_type=&#x27;continuous&#x27;)),\n",
       "                                                                                         (&#x27;scaler&#x27;,\n",
       "                                                                                          StandardScaler())]),\n",
       "                                                                         [&#x27;attr_2&#x27;])])),\n",
       "                                       (&#x27;model&#x27;,\n",
       "                                        SGDClassifier(random_state=42))]),\n",
       "             param_grid=[{&#x27;model&#x27;: [RandomForestClassifier(n_estimators=500,\n",
       "                                                           random_state=42)],\n",
       "                          &#x27;model__class_weight&#x27;: [None, &#x27;balanced&#x27;],\n",
       "                          &#x27;model__n_estimators&#x27;: [10, 100, 500]}],\n",
       "             return_train_score=True, scoring=&#x27;average_precision&#x27;, verbose=4)</pre><b>In a Jupyter environment, please rerun this cell to show the HTML representation or trust the notebook. <br />On GitHub, the HTML representation is unable to render, please try loading this page with nbviewer.org.</b></div><div class=\"sk-container\" hidden><div class=\"sk-item sk-dashed-wrapped\"><div class=\"sk-label-container\"><div class=\"sk-label sk-toggleable\"><input class=\"sk-toggleable__control sk-hidden--visually\" id=\"sk-estimator-id-12\" type=\"checkbox\" ><label for=\"sk-estimator-id-12\" class=\"sk-toggleable__label sk-toggleable__label-arrow\">GridSearchCV</label><div class=\"sk-toggleable__content\"><pre>GridSearchCV(estimator=Pipeline(steps=[(&#x27;preprocessor&#x27;,\n",
       "                                        ColumnTransformer(transformers=[(&#x27;numerical&#x27;,\n",
       "                                                                         Pipeline(steps=[(&#x27;imputer&#x27;,\n",
       "                                                                                          SimpleImputer()),\n",
       "                                                                                         (&#x27;scaler&#x27;,\n",
       "                                                                                          StandardScaler())]),\n",
       "                                                                         [&#x27;attr_1&#x27;,\n",
       "                                                                          &#x27;attr_3&#x27;,\n",
       "                                                                          &#x27;attr_4&#x27;,\n",
       "                                                                          &#x27;attr_5&#x27;,\n",
       "                                                                          &#x27;attr_6&#x27;,\n",
       "                                                                          &#x27;attr_7&#x27;,\n",
       "                                                                          &#x27;attr_9&#x27;,\n",
       "                                                                          &#x27;attr_10&#x27;,\n",
       "                                                                          &#x27;attr_11&#x27;]),\n",
       "                                                                        (&#x27;nominal&#x27;,\n",
       "                                                                         Pipeline(steps=[(&#x27;imputer&#x27;,\n",
       "                                                                                          SimpleImputer(strategy=&#x27;most_frequent&#x27;)),\n",
       "                                                                                         (&#x27;target_en...\n",
       "                                                                                          TargetEncoder(random_state=42,\n",
       "                                                                                                        target_type=&#x27;continuous&#x27;)),\n",
       "                                                                                         (&#x27;scaler&#x27;,\n",
       "                                                                                          StandardScaler())]),\n",
       "                                                                         [&#x27;attr_2&#x27;])])),\n",
       "                                       (&#x27;model&#x27;,\n",
       "                                        SGDClassifier(random_state=42))]),\n",
       "             param_grid=[{&#x27;model&#x27;: [RandomForestClassifier(n_estimators=500,\n",
       "                                                           random_state=42)],\n",
       "                          &#x27;model__class_weight&#x27;: [None, &#x27;balanced&#x27;],\n",
       "                          &#x27;model__n_estimators&#x27;: [10, 100, 500]}],\n",
       "             return_train_score=True, scoring=&#x27;average_precision&#x27;, verbose=4)</pre></div></div></div><div class=\"sk-parallel\"><div class=\"sk-parallel-item\"><div class=\"sk-item\"><div class=\"sk-label-container\"><div class=\"sk-label sk-toggleable\"><input class=\"sk-toggleable__control sk-hidden--visually\" id=\"sk-estimator-id-13\" type=\"checkbox\" ><label for=\"sk-estimator-id-13\" class=\"sk-toggleable__label sk-toggleable__label-arrow\">estimator: Pipeline</label><div class=\"sk-toggleable__content\"><pre>Pipeline(steps=[(&#x27;preprocessor&#x27;,\n",
       "                 ColumnTransformer(transformers=[(&#x27;numerical&#x27;,\n",
       "                                                  Pipeline(steps=[(&#x27;imputer&#x27;,\n",
       "                                                                   SimpleImputer()),\n",
       "                                                                  (&#x27;scaler&#x27;,\n",
       "                                                                   StandardScaler())]),\n",
       "                                                  [&#x27;attr_1&#x27;, &#x27;attr_3&#x27;, &#x27;attr_4&#x27;,\n",
       "                                                   &#x27;attr_5&#x27;, &#x27;attr_6&#x27;, &#x27;attr_7&#x27;,\n",
       "                                                   &#x27;attr_9&#x27;, &#x27;attr_10&#x27;,\n",
       "                                                   &#x27;attr_11&#x27;]),\n",
       "                                                 (&#x27;nominal&#x27;,\n",
       "                                                  Pipeline(steps=[(&#x27;imputer&#x27;,\n",
       "                                                                   SimpleImputer(strategy=&#x27;most_frequent&#x27;)),\n",
       "                                                                  (&#x27;target_encoder&#x27;,\n",
       "                                                                   TargetEncoder(random_state=42,\n",
       "                                                                                 target_type=&#x27;continuous&#x27;)),\n",
       "                                                                  (&#x27;scaler&#x27;,\n",
       "                                                                   StandardScaler())]),\n",
       "                                                  [&#x27;attr_2&#x27;])])),\n",
       "                (&#x27;model&#x27;, SGDClassifier(random_state=42))])</pre></div></div></div><div class=\"sk-serial\"><div class=\"sk-item\"><div class=\"sk-serial\"><div class=\"sk-item sk-dashed-wrapped\"><div class=\"sk-label-container\"><div class=\"sk-label sk-toggleable\"><input class=\"sk-toggleable__control sk-hidden--visually\" id=\"sk-estimator-id-14\" type=\"checkbox\" ><label for=\"sk-estimator-id-14\" class=\"sk-toggleable__label sk-toggleable__label-arrow\">preprocessor: ColumnTransformer</label><div class=\"sk-toggleable__content\"><pre>ColumnTransformer(transformers=[(&#x27;numerical&#x27;,\n",
       "                                 Pipeline(steps=[(&#x27;imputer&#x27;, SimpleImputer()),\n",
       "                                                 (&#x27;scaler&#x27;, StandardScaler())]),\n",
       "                                 [&#x27;attr_1&#x27;, &#x27;attr_3&#x27;, &#x27;attr_4&#x27;, &#x27;attr_5&#x27;,\n",
       "                                  &#x27;attr_6&#x27;, &#x27;attr_7&#x27;, &#x27;attr_9&#x27;, &#x27;attr_10&#x27;,\n",
       "                                  &#x27;attr_11&#x27;]),\n",
       "                                (&#x27;nominal&#x27;,\n",
       "                                 Pipeline(steps=[(&#x27;imputer&#x27;,\n",
       "                                                  SimpleImputer(strategy=&#x27;most_frequent&#x27;)),\n",
       "                                                 (&#x27;target_encoder&#x27;,\n",
       "                                                  TargetEncoder(random_state=42,\n",
       "                                                                target_type=&#x27;continuous&#x27;)),\n",
       "                                                 (&#x27;scaler&#x27;, StandardScaler())]),\n",
       "                                 [&#x27;attr_2&#x27;])])</pre></div></div></div><div class=\"sk-parallel\"><div class=\"sk-parallel-item\"><div class=\"sk-item\"><div class=\"sk-label-container\"><div class=\"sk-label sk-toggleable\"><input class=\"sk-toggleable__control sk-hidden--visually\" id=\"sk-estimator-id-15\" type=\"checkbox\" ><label for=\"sk-estimator-id-15\" class=\"sk-toggleable__label sk-toggleable__label-arrow\">numerical</label><div class=\"sk-toggleable__content\"><pre>[&#x27;attr_1&#x27;, &#x27;attr_3&#x27;, &#x27;attr_4&#x27;, &#x27;attr_5&#x27;, &#x27;attr_6&#x27;, &#x27;attr_7&#x27;, &#x27;attr_9&#x27;, &#x27;attr_10&#x27;, &#x27;attr_11&#x27;]</pre></div></div></div><div class=\"sk-serial\"><div class=\"sk-item\"><div class=\"sk-serial\"><div class=\"sk-item\"><div class=\"sk-estimator sk-toggleable\"><input class=\"sk-toggleable__control sk-hidden--visually\" id=\"sk-estimator-id-16\" type=\"checkbox\" ><label for=\"sk-estimator-id-16\" class=\"sk-toggleable__label sk-toggleable__label-arrow\">SimpleImputer</label><div class=\"sk-toggleable__content\"><pre>SimpleImputer()</pre></div></div></div><div class=\"sk-item\"><div class=\"sk-estimator sk-toggleable\"><input class=\"sk-toggleable__control sk-hidden--visually\" id=\"sk-estimator-id-17\" type=\"checkbox\" ><label for=\"sk-estimator-id-17\" class=\"sk-toggleable__label sk-toggleable__label-arrow\">StandardScaler</label><div class=\"sk-toggleable__content\"><pre>StandardScaler()</pre></div></div></div></div></div></div></div></div><div class=\"sk-parallel-item\"><div class=\"sk-item\"><div class=\"sk-label-container\"><div class=\"sk-label sk-toggleable\"><input class=\"sk-toggleable__control sk-hidden--visually\" id=\"sk-estimator-id-18\" type=\"checkbox\" ><label for=\"sk-estimator-id-18\" class=\"sk-toggleable__label sk-toggleable__label-arrow\">nominal</label><div class=\"sk-toggleable__content\"><pre>[&#x27;attr_2&#x27;]</pre></div></div></div><div class=\"sk-serial\"><div class=\"sk-item\"><div class=\"sk-serial\"><div class=\"sk-item\"><div class=\"sk-estimator sk-toggleable\"><input class=\"sk-toggleable__control sk-hidden--visually\" id=\"sk-estimator-id-19\" type=\"checkbox\" ><label for=\"sk-estimator-id-19\" class=\"sk-toggleable__label sk-toggleable__label-arrow\">SimpleImputer</label><div class=\"sk-toggleable__content\"><pre>SimpleImputer(strategy=&#x27;most_frequent&#x27;)</pre></div></div></div><div class=\"sk-item\"><div class=\"sk-estimator sk-toggleable\"><input class=\"sk-toggleable__control sk-hidden--visually\" id=\"sk-estimator-id-20\" type=\"checkbox\" ><label for=\"sk-estimator-id-20\" class=\"sk-toggleable__label sk-toggleable__label-arrow\">TargetEncoder</label><div class=\"sk-toggleable__content\"><pre>TargetEncoder(random_state=42, target_type=&#x27;continuous&#x27;)</pre></div></div></div><div class=\"sk-item\"><div class=\"sk-estimator sk-toggleable\"><input class=\"sk-toggleable__control sk-hidden--visually\" id=\"sk-estimator-id-21\" type=\"checkbox\" ><label for=\"sk-estimator-id-21\" class=\"sk-toggleable__label sk-toggleable__label-arrow\">StandardScaler</label><div class=\"sk-toggleable__content\"><pre>StandardScaler()</pre></div></div></div></div></div></div></div></div></div></div><div class=\"sk-item\"><div class=\"sk-estimator sk-toggleable\"><input class=\"sk-toggleable__control sk-hidden--visually\" id=\"sk-estimator-id-22\" type=\"checkbox\" ><label for=\"sk-estimator-id-22\" class=\"sk-toggleable__label sk-toggleable__label-arrow\">SGDClassifier</label><div class=\"sk-toggleable__content\"><pre>SGDClassifier(random_state=42)</pre></div></div></div></div></div></div></div></div></div></div></div></div>"
      ],
      "text/plain": [
       "GridSearchCV(estimator=Pipeline(steps=[('preprocessor',\n",
       "                                        ColumnTransformer(transformers=[('numerical',\n",
       "                                                                         Pipeline(steps=[('imputer',\n",
       "                                                                                          SimpleImputer()),\n",
       "                                                                                         ('scaler',\n",
       "                                                                                          StandardScaler())]),\n",
       "                                                                         ['attr_1',\n",
       "                                                                          'attr_3',\n",
       "                                                                          'attr_4',\n",
       "                                                                          'attr_5',\n",
       "                                                                          'attr_6',\n",
       "                                                                          'attr_7',\n",
       "                                                                          'attr_9',\n",
       "                                                                          'attr_10',\n",
       "                                                                          'attr_11']),\n",
       "                                                                        ('nominal',\n",
       "                                                                         Pipeline(steps=[('imputer',\n",
       "                                                                                          SimpleImputer(strategy='most_frequent')),\n",
       "                                                                                         ('target_en...\n",
       "                                                                                          TargetEncoder(random_state=42,\n",
       "                                                                                                        target_type='continuous')),\n",
       "                                                                                         ('scaler',\n",
       "                                                                                          StandardScaler())]),\n",
       "                                                                         ['attr_2'])])),\n",
       "                                       ('model',\n",
       "                                        SGDClassifier(random_state=42))]),\n",
       "             param_grid=[{'model': [RandomForestClassifier(n_estimators=500,\n",
       "                                                           random_state=42)],\n",
       "                          'model__class_weight': [None, 'balanced'],\n",
       "                          'model__n_estimators': [10, 100, 500]}],\n",
       "             return_train_score=True, scoring='average_precision', verbose=4)"
      ]
     },
     "execution_count": 26,
     "metadata": {},
     "output_type": "execute_result"
    }
   ],
   "source": [
    "rf_params = {}\n",
    "rf_params['model'] = [rf]\n",
    "#rf_params['model__random_state'] = [42]\n",
    "rf_params['model__n_estimators'] = [10,100,500]\n",
    "rf_params['model__class_weight'] = [None,'balanced']\n",
    "#rf_params['model__max_features'] = ['sqrt',2,None]\n",
    "\n",
    "sgd_params = {}\n",
    "sgd_params['model'] = [sgd]\n",
    "sgd_params['model__class_weight'] = [None,'balanced']\n",
    "sgd_params['model___loss'] = ['log_loss','hinge',',modified_huber']\n",
    "\n",
    "gb_params = {}\n",
    "gb_params['model'] = [gb]\n",
    "gb_params['model__n_estimators'] = [10,100,500]\n",
    "gb_params['model__max_depth'] = [3,5,8]\n",
    "\n",
    "lr_params = {}\n",
    "lr_params['model'] = [lr]\n",
    "lr_params['model__penalty'] = ['elasticnet','l2','l1']\n",
    "lr_params['model__class_weight'] = [None,'balanced']\n",
    "\n",
    "\n",
    "\n",
    "models = [rf_params, sgd_params, gb_params, lr_params]\n",
    "for model in models:\n",
    "    if type(model['model'][0]).__name__ == type(default_grid.best_estimator_.named_steps['model']).__name__:\n",
    "        params = [model]\n",
    "        print(f'Conducting Grid Search on the following model with the following parameters:')\n",
    "        print('\\n\\t',params,'\\n\\n')\n",
    "        break\n",
    "\n",
    "tuned_grid = GridSearchCV(pipe,params, scoring='average_precision',return_train_score=True, verbose = 4)\n",
    "tuned_grid.fit(train_x,train_y)\n"
   ]
  },
  {
   "cell_type": "markdown",
   "id": "04142224",
   "metadata": {},
   "source": [
    "### examine the best hyperparameters from the GridSearchCV - make sure your hyperparameter grid was well designed to give your model a chance to explore the hyperparameter space"
   ]
  },
  {
   "cell_type": "code",
   "execution_count": 27,
   "id": "1e8a8801",
   "metadata": {},
   "outputs": [
    {
     "data": {
      "text/html": [
       "<div>\n",
       "<style scoped>\n",
       "    .dataframe tbody tr th:only-of-type {\n",
       "        vertical-align: middle;\n",
       "    }\n",
       "\n",
       "    .dataframe tbody tr th {\n",
       "        vertical-align: top;\n",
       "    }\n",
       "\n",
       "    .dataframe thead th {\n",
       "        text-align: right;\n",
       "    }\n",
       "</style>\n",
       "<table border=\"1\" class=\"dataframe\">\n",
       "  <thead>\n",
       "    <tr style=\"text-align: right;\">\n",
       "      <th></th>\n",
       "      <th>param_model</th>\n",
       "      <th>mean_train_score</th>\n",
       "      <th>mean_test_score</th>\n",
       "      <th>std_train_score</th>\n",
       "      <th>std_test_score</th>\n",
       "      <th>rank_test_score</th>\n",
       "    </tr>\n",
       "  </thead>\n",
       "  <tbody>\n",
       "    <tr>\n",
       "      <th>2</th>\n",
       "      <td>RandomForestClassifier(n_estimators=500, rando...</td>\n",
       "      <td>0.999996</td>\n",
       "      <td>0.949994</td>\n",
       "      <td>0.000003</td>\n",
       "      <td>0.005242</td>\n",
       "      <td>1</td>\n",
       "    </tr>\n",
       "    <tr>\n",
       "      <th>1</th>\n",
       "      <td>RandomForestClassifier(n_estimators=500, rando...</td>\n",
       "      <td>0.999988</td>\n",
       "      <td>0.947386</td>\n",
       "      <td>0.000006</td>\n",
       "      <td>0.005326</td>\n",
       "      <td>2</td>\n",
       "    </tr>\n",
       "    <tr>\n",
       "      <th>5</th>\n",
       "      <td>RandomForestClassifier(n_estimators=500, rando...</td>\n",
       "      <td>0.999998</td>\n",
       "      <td>0.945124</td>\n",
       "      <td>0.000002</td>\n",
       "      <td>0.005455</td>\n",
       "      <td>3</td>\n",
       "    </tr>\n",
       "    <tr>\n",
       "      <th>4</th>\n",
       "      <td>RandomForestClassifier(n_estimators=500, rando...</td>\n",
       "      <td>0.999992</td>\n",
       "      <td>0.942446</td>\n",
       "      <td>0.000005</td>\n",
       "      <td>0.004582</td>\n",
       "      <td>4</td>\n",
       "    </tr>\n",
       "    <tr>\n",
       "      <th>0</th>\n",
       "      <td>RandomForestClassifier(n_estimators=500, rando...</td>\n",
       "      <td>0.998784</td>\n",
       "      <td>0.914219</td>\n",
       "      <td>0.000185</td>\n",
       "      <td>0.005766</td>\n",
       "      <td>5</td>\n",
       "    </tr>\n",
       "    <tr>\n",
       "      <th>3</th>\n",
       "      <td>RandomForestClassifier(n_estimators=500, rando...</td>\n",
       "      <td>0.998683</td>\n",
       "      <td>0.904087</td>\n",
       "      <td>0.000211</td>\n",
       "      <td>0.008629</td>\n",
       "      <td>6</td>\n",
       "    </tr>\n",
       "  </tbody>\n",
       "</table>\n",
       "</div>"
      ],
      "text/plain": [
       "                                         param_model  mean_train_score  \\\n",
       "2  RandomForestClassifier(n_estimators=500, rando...          0.999996   \n",
       "1  RandomForestClassifier(n_estimators=500, rando...          0.999988   \n",
       "5  RandomForestClassifier(n_estimators=500, rando...          0.999998   \n",
       "4  RandomForestClassifier(n_estimators=500, rando...          0.999992   \n",
       "0  RandomForestClassifier(n_estimators=500, rando...          0.998784   \n",
       "3  RandomForestClassifier(n_estimators=500, rando...          0.998683   \n",
       "\n",
       "   mean_test_score  std_train_score  std_test_score  rank_test_score  \n",
       "2         0.949994         0.000003        0.005242                1  \n",
       "1         0.947386         0.000006        0.005326                2  \n",
       "5         0.945124         0.000002        0.005455                3  \n",
       "4         0.942446         0.000005        0.004582                4  \n",
       "0         0.914219         0.000185        0.005766                5  \n",
       "3         0.904087         0.000211        0.008629                6  "
      ]
     },
     "execution_count": 27,
     "metadata": {},
     "output_type": "execute_result"
    }
   ],
   "source": [
    "compare_tuned_df = pd.DataFrame(tuned_grid.cv_results_)\n",
    "\n",
    "compare_tuned_df[['param_model','mean_train_score','mean_test_score','std_train_score','std_test_score','rank_test_score']].sort_values('rank_test_score')"
   ]
  },
  {
   "cell_type": "code",
   "execution_count": 28,
   "id": "902f2ff8",
   "metadata": {},
   "outputs": [
    {
     "name": "stdout",
     "output_type": "stream",
     "text": [
      "{'model': RandomForestClassifier(n_estimators=500, random_state=42),\n",
      " 'model__class_weight': None,\n",
      " 'model__n_estimators': 500}\n"
     ]
    }
   ],
   "source": [
    "import pprint\n",
    "pprint.pprint(tuned_grid.best_params_)"
   ]
  },
  {
   "cell_type": "code",
   "execution_count": 29,
   "id": "26921793",
   "metadata": {},
   "outputs": [
    {
     "name": "stdout",
     "output_type": "stream",
     "text": [
      "Fitting 5 folds for each of 9 candidates, totalling 45 fits\n",
      "[CV 1/5] END model=RandomForestClassifier(n_estimators=500, random_state=42), model__max_depth=3, model__max_features=sqrt, model__n_estimators=10;, score=(train=0.811, test=0.778) total time=   0.3s\n",
      "[CV 2/5] END model=RandomForestClassifier(n_estimators=500, random_state=42), model__max_depth=3, model__max_features=sqrt, model__n_estimators=10;, score=(train=0.795, test=0.793) total time=   0.3s\n",
      "[CV 3/5] END model=RandomForestClassifier(n_estimators=500, random_state=42), model__max_depth=3, model__max_features=sqrt, model__n_estimators=10;, score=(train=0.795, test=0.788) total time=   0.3s\n",
      "[CV 4/5] END model=RandomForestClassifier(n_estimators=500, random_state=42), model__max_depth=3, model__max_features=sqrt, model__n_estimators=10;, score=(train=0.798, test=0.791) total time=   0.3s\n",
      "[CV 5/5] END model=RandomForestClassifier(n_estimators=500, random_state=42), model__max_depth=3, model__max_features=sqrt, model__n_estimators=10;, score=(train=0.800, test=0.792) total time=   0.3s\n",
      "[CV 1/5] END model=RandomForestClassifier(n_estimators=500, random_state=42), model__max_depth=3, model__max_features=sqrt, model__n_estimators=100;, score=(train=0.822, test=0.787) total time=   3.8s\n",
      "[CV 2/5] END model=RandomForestClassifier(n_estimators=500, random_state=42), model__max_depth=3, model__max_features=sqrt, model__n_estimators=100;, score=(train=0.811, test=0.810) total time=   3.8s\n",
      "[CV 3/5] END model=RandomForestClassifier(n_estimators=500, random_state=42), model__max_depth=3, model__max_features=sqrt, model__n_estimators=100;, score=(train=0.806, test=0.810) total time=   3.7s\n",
      "[CV 4/5] END model=RandomForestClassifier(n_estimators=500, random_state=42), model__max_depth=3, model__max_features=sqrt, model__n_estimators=100;, score=(train=0.818, test=0.812) total time=   3.7s\n",
      "[CV 5/5] END model=RandomForestClassifier(n_estimators=500, random_state=42), model__max_depth=3, model__max_features=sqrt, model__n_estimators=100;, score=(train=0.820, test=0.809) total time=   3.8s\n",
      "[CV 1/5] END model=RandomForestClassifier(n_estimators=500, random_state=42), model__max_depth=3, model__max_features=sqrt, model__n_estimators=500;, score=(train=0.826, test=0.792) total time=  19.2s\n",
      "[CV 2/5] END model=RandomForestClassifier(n_estimators=500, random_state=42), model__max_depth=3, model__max_features=sqrt, model__n_estimators=500;, score=(train=0.821, test=0.821) total time=  19.1s\n",
      "[CV 3/5] END model=RandomForestClassifier(n_estimators=500, random_state=42), model__max_depth=3, model__max_features=sqrt, model__n_estimators=500;, score=(train=0.818, test=0.824) total time=  19.1s\n",
      "[CV 4/5] END model=RandomForestClassifier(n_estimators=500, random_state=42), model__max_depth=3, model__max_features=sqrt, model__n_estimators=500;, score=(train=0.823, test=0.817) total time=  19.1s\n",
      "[CV 5/5] END model=RandomForestClassifier(n_estimators=500, random_state=42), model__max_depth=3, model__max_features=sqrt, model__n_estimators=500;, score=(train=0.826, test=0.812) total time=  19.1s\n",
      "[CV 1/5] END model=RandomForestClassifier(n_estimators=500, random_state=42), model__max_depth=3, model__max_features=2, model__n_estimators=10;, score=(train=0.770, test=0.734) total time=   0.2s\n",
      "[CV 2/5] END model=RandomForestClassifier(n_estimators=500, random_state=42), model__max_depth=3, model__max_features=2, model__n_estimators=10;, score=(train=0.768, test=0.770) total time=   0.2s\n",
      "[CV 3/5] END model=RandomForestClassifier(n_estimators=500, random_state=42), model__max_depth=3, model__max_features=2, model__n_estimators=10;, score=(train=0.757, test=0.758) total time=   0.2s\n",
      "[CV 4/5] END model=RandomForestClassifier(n_estimators=500, random_state=42), model__max_depth=3, model__max_features=2, model__n_estimators=10;, score=(train=0.766, test=0.767) total time=   0.2s\n",
      "[CV 5/5] END model=RandomForestClassifier(n_estimators=500, random_state=42), model__max_depth=3, model__max_features=2, model__n_estimators=10;, score=(train=0.757, test=0.738) total time=   0.2s\n",
      "[CV 1/5] END model=RandomForestClassifier(n_estimators=500, random_state=42), model__max_depth=3, model__max_features=2, model__n_estimators=100;, score=(train=0.810, test=0.777) total time=   2.6s\n",
      "[CV 2/5] END model=RandomForestClassifier(n_estimators=500, random_state=42), model__max_depth=3, model__max_features=2, model__n_estimators=100;, score=(train=0.811, test=0.809) total time=   2.6s\n",
      "[CV 3/5] END model=RandomForestClassifier(n_estimators=500, random_state=42), model__max_depth=3, model__max_features=2, model__n_estimators=100;, score=(train=0.803, test=0.802) total time=   2.6s\n",
      "[CV 4/5] END model=RandomForestClassifier(n_estimators=500, random_state=42), model__max_depth=3, model__max_features=2, model__n_estimators=100;, score=(train=0.806, test=0.796) total time=   2.6s\n",
      "[CV 5/5] END model=RandomForestClassifier(n_estimators=500, random_state=42), model__max_depth=3, model__max_features=2, model__n_estimators=100;, score=(train=0.805, test=0.793) total time=   2.6s\n",
      "[CV 1/5] END model=RandomForestClassifier(n_estimators=500, random_state=42), model__max_depth=3, model__max_features=2, model__n_estimators=500;, score=(train=0.810, test=0.774) total time=  13.2s\n",
      "[CV 2/5] END model=RandomForestClassifier(n_estimators=500, random_state=42), model__max_depth=3, model__max_features=2, model__n_estimators=500;, score=(train=0.805, test=0.802) total time=  13.3s\n",
      "[CV 3/5] END model=RandomForestClassifier(n_estimators=500, random_state=42), model__max_depth=3, model__max_features=2, model__n_estimators=500;, score=(train=0.801, test=0.803) total time=  13.2s\n",
      "[CV 4/5] END model=RandomForestClassifier(n_estimators=500, random_state=42), model__max_depth=3, model__max_features=2, model__n_estimators=500;, score=(train=0.806, test=0.794) total time=  13.2s\n",
      "[CV 5/5] END model=RandomForestClassifier(n_estimators=500, random_state=42), model__max_depth=3, model__max_features=2, model__n_estimators=500;, score=(train=0.806, test=0.796) total time=  13.3s\n",
      "[CV 1/5] END model=RandomForestClassifier(n_estimators=500, random_state=42), model__max_depth=3, model__max_features=None, model__n_estimators=10;, score=(train=0.784, test=0.762) total time=   1.1s\n",
      "[CV 2/5] END model=RandomForestClassifier(n_estimators=500, random_state=42), model__max_depth=3, model__max_features=None, model__n_estimators=10;, score=(train=0.772, test=0.784) total time=   1.1s\n",
      "[CV 3/5] END model=RandomForestClassifier(n_estimators=500, random_state=42), model__max_depth=3, model__max_features=None, model__n_estimators=10;, score=(train=0.763, test=0.760) total time=   1.1s\n",
      "[CV 4/5] END model=RandomForestClassifier(n_estimators=500, random_state=42), model__max_depth=3, model__max_features=None, model__n_estimators=10;, score=(train=0.755, test=0.753) total time=   1.2s\n",
      "[CV 5/5] END model=RandomForestClassifier(n_estimators=500, random_state=42), model__max_depth=3, model__max_features=None, model__n_estimators=10;, score=(train=0.752, test=0.738) total time=   1.1s\n",
      "[CV 1/5] END model=RandomForestClassifier(n_estimators=500, random_state=42), model__max_depth=3, model__max_features=None, model__n_estimators=100;, score=(train=0.793, test=0.767) total time=  12.0s\n",
      "[CV 2/5] END model=RandomForestClassifier(n_estimators=500, random_state=42), model__max_depth=3, model__max_features=None, model__n_estimators=100;, score=(train=0.792, test=0.800) total time=  11.9s\n",
      "[CV 3/5] END model=RandomForestClassifier(n_estimators=500, random_state=42), model__max_depth=3, model__max_features=None, model__n_estimators=100;, score=(train=0.783, test=0.784) total time=  11.9s\n",
      "[CV 4/5] END model=RandomForestClassifier(n_estimators=500, random_state=42), model__max_depth=3, model__max_features=None, model__n_estimators=100;, score=(train=0.783, test=0.784) total time=  11.9s\n",
      "[CV 5/5] END model=RandomForestClassifier(n_estimators=500, random_state=42), model__max_depth=3, model__max_features=None, model__n_estimators=100;, score=(train=0.796, test=0.774) total time=  11.9s\n",
      "[CV 1/5] END model=RandomForestClassifier(n_estimators=500, random_state=42), model__max_depth=3, model__max_features=None, model__n_estimators=500;, score=(train=0.787, test=0.760) total time=  59.8s\n",
      "[CV 2/5] END model=RandomForestClassifier(n_estimators=500, random_state=42), model__max_depth=3, model__max_features=None, model__n_estimators=500;, score=(train=0.794, test=0.800) total time= 1.0min\n",
      "[CV 3/5] END model=RandomForestClassifier(n_estimators=500, random_state=42), model__max_depth=3, model__max_features=None, model__n_estimators=500;, score=(train=0.791, test=0.794) total time=  59.9s\n",
      "[CV 4/5] END model=RandomForestClassifier(n_estimators=500, random_state=42), model__max_depth=3, model__max_features=None, model__n_estimators=500;, score=(train=0.785, test=0.787) total time=  59.9s\n",
      "[CV 5/5] END model=RandomForestClassifier(n_estimators=500, random_state=42), model__max_depth=3, model__max_features=None, model__n_estimators=500;, score=(train=0.798, test=0.778) total time= 1.0min\n"
     ]
    },
    {
     "data": {
      "text/html": [
       "<style>#sk-container-id-3 {color: black;}#sk-container-id-3 pre{padding: 0;}#sk-container-id-3 div.sk-toggleable {background-color: white;}#sk-container-id-3 label.sk-toggleable__label {cursor: pointer;display: block;width: 100%;margin-bottom: 0;padding: 0.3em;box-sizing: border-box;text-align: center;}#sk-container-id-3 label.sk-toggleable__label-arrow:before {content: \"▸\";float: left;margin-right: 0.25em;color: #696969;}#sk-container-id-3 label.sk-toggleable__label-arrow:hover:before {color: black;}#sk-container-id-3 div.sk-estimator:hover label.sk-toggleable__label-arrow:before {color: black;}#sk-container-id-3 div.sk-toggleable__content {max-height: 0;max-width: 0;overflow: hidden;text-align: left;background-color: #f0f8ff;}#sk-container-id-3 div.sk-toggleable__content pre {margin: 0.2em;color: black;border-radius: 0.25em;background-color: #f0f8ff;}#sk-container-id-3 input.sk-toggleable__control:checked~div.sk-toggleable__content {max-height: 200px;max-width: 100%;overflow: auto;}#sk-container-id-3 input.sk-toggleable__control:checked~label.sk-toggleable__label-arrow:before {content: \"▾\";}#sk-container-id-3 div.sk-estimator input.sk-toggleable__control:checked~label.sk-toggleable__label {background-color: #d4ebff;}#sk-container-id-3 div.sk-label input.sk-toggleable__control:checked~label.sk-toggleable__label {background-color: #d4ebff;}#sk-container-id-3 input.sk-hidden--visually {border: 0;clip: rect(1px 1px 1px 1px);clip: rect(1px, 1px, 1px, 1px);height: 1px;margin: -1px;overflow: hidden;padding: 0;position: absolute;width: 1px;}#sk-container-id-3 div.sk-estimator {font-family: monospace;background-color: #f0f8ff;border: 1px dotted black;border-radius: 0.25em;box-sizing: border-box;margin-bottom: 0.5em;}#sk-container-id-3 div.sk-estimator:hover {background-color: #d4ebff;}#sk-container-id-3 div.sk-parallel-item::after {content: \"\";width: 100%;border-bottom: 1px solid gray;flex-grow: 1;}#sk-container-id-3 div.sk-label:hover label.sk-toggleable__label {background-color: #d4ebff;}#sk-container-id-3 div.sk-serial::before {content: \"\";position: absolute;border-left: 1px solid gray;box-sizing: border-box;top: 0;bottom: 0;left: 50%;z-index: 0;}#sk-container-id-3 div.sk-serial {display: flex;flex-direction: column;align-items: center;background-color: white;padding-right: 0.2em;padding-left: 0.2em;position: relative;}#sk-container-id-3 div.sk-item {position: relative;z-index: 1;}#sk-container-id-3 div.sk-parallel {display: flex;align-items: stretch;justify-content: center;background-color: white;position: relative;}#sk-container-id-3 div.sk-item::before, #sk-container-id-3 div.sk-parallel-item::before {content: \"\";position: absolute;border-left: 1px solid gray;box-sizing: border-box;top: 0;bottom: 0;left: 50%;z-index: -1;}#sk-container-id-3 div.sk-parallel-item {display: flex;flex-direction: column;z-index: 1;position: relative;background-color: white;}#sk-container-id-3 div.sk-parallel-item:first-child::after {align-self: flex-end;width: 50%;}#sk-container-id-3 div.sk-parallel-item:last-child::after {align-self: flex-start;width: 50%;}#sk-container-id-3 div.sk-parallel-item:only-child::after {width: 0;}#sk-container-id-3 div.sk-dashed-wrapped {border: 1px dashed gray;margin: 0 0.4em 0.5em 0.4em;box-sizing: border-box;padding-bottom: 0.4em;background-color: white;}#sk-container-id-3 div.sk-label label {font-family: monospace;font-weight: bold;display: inline-block;line-height: 1.2em;}#sk-container-id-3 div.sk-label-container {text-align: center;}#sk-container-id-3 div.sk-container {/* jupyter's `normalize.less` sets `[hidden] { display: none; }` but bootstrap.min.css set `[hidden] { display: none !important; }` so we also need the `!important` here to be able to override the default hidden behavior on the sphinx rendered scikit-learn.org. See: https://github.com/scikit-learn/scikit-learn/issues/21755 */display: inline-block !important;position: relative;}#sk-container-id-3 div.sk-text-repr-fallback {display: none;}</style><div id=\"sk-container-id-3\" class=\"sk-top-container\"><div class=\"sk-text-repr-fallback\"><pre>GridSearchCV(estimator=Pipeline(steps=[(&#x27;preprocessor&#x27;,\n",
       "                                        ColumnTransformer(transformers=[(&#x27;numerical&#x27;,\n",
       "                                                                         Pipeline(steps=[(&#x27;imputer&#x27;,\n",
       "                                                                                          SimpleImputer()),\n",
       "                                                                                         (&#x27;scaler&#x27;,\n",
       "                                                                                          StandardScaler())]),\n",
       "                                                                         [&#x27;attr_1&#x27;,\n",
       "                                                                          &#x27;attr_3&#x27;,\n",
       "                                                                          &#x27;attr_4&#x27;,\n",
       "                                                                          &#x27;attr_5&#x27;,\n",
       "                                                                          &#x27;attr_6&#x27;,\n",
       "                                                                          &#x27;attr_7&#x27;,\n",
       "                                                                          &#x27;attr_9&#x27;,\n",
       "                                                                          &#x27;attr_10&#x27;,\n",
       "                                                                          &#x27;attr_11&#x27;]),\n",
       "                                                                        (&#x27;nominal&#x27;,\n",
       "                                                                         Pipeline(steps=[(&#x27;imputer&#x27;,\n",
       "                                                                                          SimpleImputer(strategy=&#x27;most_frequent&#x27;)),\n",
       "                                                                                         (&#x27;target_en...\n",
       "                                                                                                        target_type=&#x27;continuous&#x27;)),\n",
       "                                                                                         (&#x27;scaler&#x27;,\n",
       "                                                                                          StandardScaler())]),\n",
       "                                                                         [&#x27;attr_2&#x27;])])),\n",
       "                                       (&#x27;model&#x27;,\n",
       "                                        SGDClassifier(random_state=42))]),\n",
       "             param_grid=[{&#x27;model&#x27;: [RandomForestClassifier(max_depth=3,\n",
       "                                                           n_estimators=500,\n",
       "                                                           random_state=42)],\n",
       "                          &#x27;model__max_depth&#x27;: [3],\n",
       "                          &#x27;model__max_features&#x27;: [&#x27;sqrt&#x27;, 2, None],\n",
       "                          &#x27;model__n_estimators&#x27;: [10, 100, 500]}],\n",
       "             return_train_score=True, scoring=&#x27;average_precision&#x27;, verbose=4)</pre><b>In a Jupyter environment, please rerun this cell to show the HTML representation or trust the notebook. <br />On GitHub, the HTML representation is unable to render, please try loading this page with nbviewer.org.</b></div><div class=\"sk-container\" hidden><div class=\"sk-item sk-dashed-wrapped\"><div class=\"sk-label-container\"><div class=\"sk-label sk-toggleable\"><input class=\"sk-toggleable__control sk-hidden--visually\" id=\"sk-estimator-id-23\" type=\"checkbox\" ><label for=\"sk-estimator-id-23\" class=\"sk-toggleable__label sk-toggleable__label-arrow\">GridSearchCV</label><div class=\"sk-toggleable__content\"><pre>GridSearchCV(estimator=Pipeline(steps=[(&#x27;preprocessor&#x27;,\n",
       "                                        ColumnTransformer(transformers=[(&#x27;numerical&#x27;,\n",
       "                                                                         Pipeline(steps=[(&#x27;imputer&#x27;,\n",
       "                                                                                          SimpleImputer()),\n",
       "                                                                                         (&#x27;scaler&#x27;,\n",
       "                                                                                          StandardScaler())]),\n",
       "                                                                         [&#x27;attr_1&#x27;,\n",
       "                                                                          &#x27;attr_3&#x27;,\n",
       "                                                                          &#x27;attr_4&#x27;,\n",
       "                                                                          &#x27;attr_5&#x27;,\n",
       "                                                                          &#x27;attr_6&#x27;,\n",
       "                                                                          &#x27;attr_7&#x27;,\n",
       "                                                                          &#x27;attr_9&#x27;,\n",
       "                                                                          &#x27;attr_10&#x27;,\n",
       "                                                                          &#x27;attr_11&#x27;]),\n",
       "                                                                        (&#x27;nominal&#x27;,\n",
       "                                                                         Pipeline(steps=[(&#x27;imputer&#x27;,\n",
       "                                                                                          SimpleImputer(strategy=&#x27;most_frequent&#x27;)),\n",
       "                                                                                         (&#x27;target_en...\n",
       "                                                                                                        target_type=&#x27;continuous&#x27;)),\n",
       "                                                                                         (&#x27;scaler&#x27;,\n",
       "                                                                                          StandardScaler())]),\n",
       "                                                                         [&#x27;attr_2&#x27;])])),\n",
       "                                       (&#x27;model&#x27;,\n",
       "                                        SGDClassifier(random_state=42))]),\n",
       "             param_grid=[{&#x27;model&#x27;: [RandomForestClassifier(max_depth=3,\n",
       "                                                           n_estimators=500,\n",
       "                                                           random_state=42)],\n",
       "                          &#x27;model__max_depth&#x27;: [3],\n",
       "                          &#x27;model__max_features&#x27;: [&#x27;sqrt&#x27;, 2, None],\n",
       "                          &#x27;model__n_estimators&#x27;: [10, 100, 500]}],\n",
       "             return_train_score=True, scoring=&#x27;average_precision&#x27;, verbose=4)</pre></div></div></div><div class=\"sk-parallel\"><div class=\"sk-parallel-item\"><div class=\"sk-item\"><div class=\"sk-label-container\"><div class=\"sk-label sk-toggleable\"><input class=\"sk-toggleable__control sk-hidden--visually\" id=\"sk-estimator-id-24\" type=\"checkbox\" ><label for=\"sk-estimator-id-24\" class=\"sk-toggleable__label sk-toggleable__label-arrow\">estimator: Pipeline</label><div class=\"sk-toggleable__content\"><pre>Pipeline(steps=[(&#x27;preprocessor&#x27;,\n",
       "                 ColumnTransformer(transformers=[(&#x27;numerical&#x27;,\n",
       "                                                  Pipeline(steps=[(&#x27;imputer&#x27;,\n",
       "                                                                   SimpleImputer()),\n",
       "                                                                  (&#x27;scaler&#x27;,\n",
       "                                                                   StandardScaler())]),\n",
       "                                                  [&#x27;attr_1&#x27;, &#x27;attr_3&#x27;, &#x27;attr_4&#x27;,\n",
       "                                                   &#x27;attr_5&#x27;, &#x27;attr_6&#x27;, &#x27;attr_7&#x27;,\n",
       "                                                   &#x27;attr_9&#x27;, &#x27;attr_10&#x27;,\n",
       "                                                   &#x27;attr_11&#x27;]),\n",
       "                                                 (&#x27;nominal&#x27;,\n",
       "                                                  Pipeline(steps=[(&#x27;imputer&#x27;,\n",
       "                                                                   SimpleImputer(strategy=&#x27;most_frequent&#x27;)),\n",
       "                                                                  (&#x27;target_encoder&#x27;,\n",
       "                                                                   TargetEncoder(random_state=42,\n",
       "                                                                                 target_type=&#x27;continuous&#x27;)),\n",
       "                                                                  (&#x27;scaler&#x27;,\n",
       "                                                                   StandardScaler())]),\n",
       "                                                  [&#x27;attr_2&#x27;])])),\n",
       "                (&#x27;model&#x27;, SGDClassifier(random_state=42))])</pre></div></div></div><div class=\"sk-serial\"><div class=\"sk-item\"><div class=\"sk-serial\"><div class=\"sk-item sk-dashed-wrapped\"><div class=\"sk-label-container\"><div class=\"sk-label sk-toggleable\"><input class=\"sk-toggleable__control sk-hidden--visually\" id=\"sk-estimator-id-25\" type=\"checkbox\" ><label for=\"sk-estimator-id-25\" class=\"sk-toggleable__label sk-toggleable__label-arrow\">preprocessor: ColumnTransformer</label><div class=\"sk-toggleable__content\"><pre>ColumnTransformer(transformers=[(&#x27;numerical&#x27;,\n",
       "                                 Pipeline(steps=[(&#x27;imputer&#x27;, SimpleImputer()),\n",
       "                                                 (&#x27;scaler&#x27;, StandardScaler())]),\n",
       "                                 [&#x27;attr_1&#x27;, &#x27;attr_3&#x27;, &#x27;attr_4&#x27;, &#x27;attr_5&#x27;,\n",
       "                                  &#x27;attr_6&#x27;, &#x27;attr_7&#x27;, &#x27;attr_9&#x27;, &#x27;attr_10&#x27;,\n",
       "                                  &#x27;attr_11&#x27;]),\n",
       "                                (&#x27;nominal&#x27;,\n",
       "                                 Pipeline(steps=[(&#x27;imputer&#x27;,\n",
       "                                                  SimpleImputer(strategy=&#x27;most_frequent&#x27;)),\n",
       "                                                 (&#x27;target_encoder&#x27;,\n",
       "                                                  TargetEncoder(random_state=42,\n",
       "                                                                target_type=&#x27;continuous&#x27;)),\n",
       "                                                 (&#x27;scaler&#x27;, StandardScaler())]),\n",
       "                                 [&#x27;attr_2&#x27;])])</pre></div></div></div><div class=\"sk-parallel\"><div class=\"sk-parallel-item\"><div class=\"sk-item\"><div class=\"sk-label-container\"><div class=\"sk-label sk-toggleable\"><input class=\"sk-toggleable__control sk-hidden--visually\" id=\"sk-estimator-id-26\" type=\"checkbox\" ><label for=\"sk-estimator-id-26\" class=\"sk-toggleable__label sk-toggleable__label-arrow\">numerical</label><div class=\"sk-toggleable__content\"><pre>[&#x27;attr_1&#x27;, &#x27;attr_3&#x27;, &#x27;attr_4&#x27;, &#x27;attr_5&#x27;, &#x27;attr_6&#x27;, &#x27;attr_7&#x27;, &#x27;attr_9&#x27;, &#x27;attr_10&#x27;, &#x27;attr_11&#x27;]</pre></div></div></div><div class=\"sk-serial\"><div class=\"sk-item\"><div class=\"sk-serial\"><div class=\"sk-item\"><div class=\"sk-estimator sk-toggleable\"><input class=\"sk-toggleable__control sk-hidden--visually\" id=\"sk-estimator-id-27\" type=\"checkbox\" ><label for=\"sk-estimator-id-27\" class=\"sk-toggleable__label sk-toggleable__label-arrow\">SimpleImputer</label><div class=\"sk-toggleable__content\"><pre>SimpleImputer()</pre></div></div></div><div class=\"sk-item\"><div class=\"sk-estimator sk-toggleable\"><input class=\"sk-toggleable__control sk-hidden--visually\" id=\"sk-estimator-id-28\" type=\"checkbox\" ><label for=\"sk-estimator-id-28\" class=\"sk-toggleable__label sk-toggleable__label-arrow\">StandardScaler</label><div class=\"sk-toggleable__content\"><pre>StandardScaler()</pre></div></div></div></div></div></div></div></div><div class=\"sk-parallel-item\"><div class=\"sk-item\"><div class=\"sk-label-container\"><div class=\"sk-label sk-toggleable\"><input class=\"sk-toggleable__control sk-hidden--visually\" id=\"sk-estimator-id-29\" type=\"checkbox\" ><label for=\"sk-estimator-id-29\" class=\"sk-toggleable__label sk-toggleable__label-arrow\">nominal</label><div class=\"sk-toggleable__content\"><pre>[&#x27;attr_2&#x27;]</pre></div></div></div><div class=\"sk-serial\"><div class=\"sk-item\"><div class=\"sk-serial\"><div class=\"sk-item\"><div class=\"sk-estimator sk-toggleable\"><input class=\"sk-toggleable__control sk-hidden--visually\" id=\"sk-estimator-id-30\" type=\"checkbox\" ><label for=\"sk-estimator-id-30\" class=\"sk-toggleable__label sk-toggleable__label-arrow\">SimpleImputer</label><div class=\"sk-toggleable__content\"><pre>SimpleImputer(strategy=&#x27;most_frequent&#x27;)</pre></div></div></div><div class=\"sk-item\"><div class=\"sk-estimator sk-toggleable\"><input class=\"sk-toggleable__control sk-hidden--visually\" id=\"sk-estimator-id-31\" type=\"checkbox\" ><label for=\"sk-estimator-id-31\" class=\"sk-toggleable__label sk-toggleable__label-arrow\">TargetEncoder</label><div class=\"sk-toggleable__content\"><pre>TargetEncoder(random_state=42, target_type=&#x27;continuous&#x27;)</pre></div></div></div><div class=\"sk-item\"><div class=\"sk-estimator sk-toggleable\"><input class=\"sk-toggleable__control sk-hidden--visually\" id=\"sk-estimator-id-32\" type=\"checkbox\" ><label for=\"sk-estimator-id-32\" class=\"sk-toggleable__label sk-toggleable__label-arrow\">StandardScaler</label><div class=\"sk-toggleable__content\"><pre>StandardScaler()</pre></div></div></div></div></div></div></div></div></div></div><div class=\"sk-item\"><div class=\"sk-estimator sk-toggleable\"><input class=\"sk-toggleable__control sk-hidden--visually\" id=\"sk-estimator-id-33\" type=\"checkbox\" ><label for=\"sk-estimator-id-33\" class=\"sk-toggleable__label sk-toggleable__label-arrow\">SGDClassifier</label><div class=\"sk-toggleable__content\"><pre>SGDClassifier(random_state=42)</pre></div></div></div></div></div></div></div></div></div></div></div></div>"
      ],
      "text/plain": [
       "GridSearchCV(estimator=Pipeline(steps=[('preprocessor',\n",
       "                                        ColumnTransformer(transformers=[('numerical',\n",
       "                                                                         Pipeline(steps=[('imputer',\n",
       "                                                                                          SimpleImputer()),\n",
       "                                                                                         ('scaler',\n",
       "                                                                                          StandardScaler())]),\n",
       "                                                                         ['attr_1',\n",
       "                                                                          'attr_3',\n",
       "                                                                          'attr_4',\n",
       "                                                                          'attr_5',\n",
       "                                                                          'attr_6',\n",
       "                                                                          'attr_7',\n",
       "                                                                          'attr_9',\n",
       "                                                                          'attr_10',\n",
       "                                                                          'attr_11']),\n",
       "                                                                        ('nominal',\n",
       "                                                                         Pipeline(steps=[('imputer',\n",
       "                                                                                          SimpleImputer(strategy='most_frequent')),\n",
       "                                                                                         ('target_en...\n",
       "                                                                                                        target_type='continuous')),\n",
       "                                                                                         ('scaler',\n",
       "                                                                                          StandardScaler())]),\n",
       "                                                                         ['attr_2'])])),\n",
       "                                       ('model',\n",
       "                                        SGDClassifier(random_state=42))]),\n",
       "             param_grid=[{'model': [RandomForestClassifier(max_depth=3,\n",
       "                                                           n_estimators=500,\n",
       "                                                           random_state=42)],\n",
       "                          'model__max_depth': [3],\n",
       "                          'model__max_features': ['sqrt', 2, None],\n",
       "                          'model__n_estimators': [10, 100, 500]}],\n",
       "             return_train_score=True, scoring='average_precision', verbose=4)"
      ]
     },
     "execution_count": 29,
     "metadata": {},
     "output_type": "execute_result"
    }
   ],
   "source": [
    "rf_params = {}\n",
    "rf_params['model'] = [rf]\n",
    "#rf_params['model__random_state'] = [42]\n",
    "rf_params['model__n_estimators'] = [10,100,500]\n",
    "rf_params['model__max_depth'] = [3]\n",
    "rf_params['model__max_features'] = ['sqrt',2,None]\n",
    "\n",
    "params = [rf_params]\n",
    "tuned_grid2 = GridSearchCV(pipe,params, scoring='average_precision',return_train_score=True, verbose = 4)\n",
    "tuned_grid2.fit(train_x,train_y)"
   ]
  },
  {
   "cell_type": "code",
   "execution_count": 30,
   "id": "80783696",
   "metadata": {},
   "outputs": [
    {
     "name": "stdout",
     "output_type": "stream",
     "text": [
      "{'model': RandomForestClassifier(max_depth=3, n_estimators=500, random_state=42),\n",
      " 'model__max_depth': 3,\n",
      " 'model__max_features': 'sqrt',\n",
      " 'model__n_estimators': 500}\n"
     ]
    },
    {
     "data": {
      "text/html": [
       "<div>\n",
       "<style scoped>\n",
       "    .dataframe tbody tr th:only-of-type {\n",
       "        vertical-align: middle;\n",
       "    }\n",
       "\n",
       "    .dataframe tbody tr th {\n",
       "        vertical-align: top;\n",
       "    }\n",
       "\n",
       "    .dataframe thead th {\n",
       "        text-align: right;\n",
       "    }\n",
       "</style>\n",
       "<table border=\"1\" class=\"dataframe\">\n",
       "  <thead>\n",
       "    <tr style=\"text-align: right;\">\n",
       "      <th></th>\n",
       "      <th>param_model</th>\n",
       "      <th>mean_train_score</th>\n",
       "      <th>mean_test_score</th>\n",
       "      <th>std_train_score</th>\n",
       "      <th>std_test_score</th>\n",
       "      <th>rank_test_score</th>\n",
       "    </tr>\n",
       "  </thead>\n",
       "  <tbody>\n",
       "    <tr>\n",
       "      <th>2</th>\n",
       "      <td>RandomForestClassifier(max_depth=3, n_estimato...</td>\n",
       "      <td>0.822723</td>\n",
       "      <td>0.813059</td>\n",
       "      <td>0.003056</td>\n",
       "      <td>0.011424</td>\n",
       "      <td>1</td>\n",
       "    </tr>\n",
       "    <tr>\n",
       "      <th>1</th>\n",
       "      <td>RandomForestClassifier(max_depth=3, n_estimato...</td>\n",
       "      <td>0.815442</td>\n",
       "      <td>0.805444</td>\n",
       "      <td>0.006058</td>\n",
       "      <td>0.009220</td>\n",
       "      <td>2</td>\n",
       "    </tr>\n",
       "    <tr>\n",
       "      <th>4</th>\n",
       "      <td>RandomForestClassifier(max_depth=3, n_estimato...</td>\n",
       "      <td>0.807063</td>\n",
       "      <td>0.795499</td>\n",
       "      <td>0.003192</td>\n",
       "      <td>0.010595</td>\n",
       "      <td>3</td>\n",
       "    </tr>\n",
       "    <tr>\n",
       "      <th>5</th>\n",
       "      <td>RandomForestClassifier(max_depth=3, n_estimato...</td>\n",
       "      <td>0.805686</td>\n",
       "      <td>0.793915</td>\n",
       "      <td>0.002663</td>\n",
       "      <td>0.010425</td>\n",
       "      <td>4</td>\n",
       "    </tr>\n",
       "    <tr>\n",
       "      <th>0</th>\n",
       "      <td>RandomForestClassifier(max_depth=3, n_estimato...</td>\n",
       "      <td>0.799673</td>\n",
       "      <td>0.788321</td>\n",
       "      <td>0.006073</td>\n",
       "      <td>0.005477</td>\n",
       "      <td>5</td>\n",
       "    </tr>\n",
       "    <tr>\n",
       "      <th>8</th>\n",
       "      <td>RandomForestClassifier(max_depth=3, n_estimato...</td>\n",
       "      <td>0.790929</td>\n",
       "      <td>0.783701</td>\n",
       "      <td>0.004552</td>\n",
       "      <td>0.013922</td>\n",
       "      <td>6</td>\n",
       "    </tr>\n",
       "    <tr>\n",
       "      <th>7</th>\n",
       "      <td>RandomForestClassifier(max_depth=3, n_estimato...</td>\n",
       "      <td>0.789319</td>\n",
       "      <td>0.781905</td>\n",
       "      <td>0.005236</td>\n",
       "      <td>0.011078</td>\n",
       "      <td>7</td>\n",
       "    </tr>\n",
       "    <tr>\n",
       "      <th>6</th>\n",
       "      <td>RandomForestClassifier(max_depth=3, n_estimato...</td>\n",
       "      <td>0.765403</td>\n",
       "      <td>0.759165</td>\n",
       "      <td>0.011655</td>\n",
       "      <td>0.014878</td>\n",
       "      <td>8</td>\n",
       "    </tr>\n",
       "    <tr>\n",
       "      <th>3</th>\n",
       "      <td>RandomForestClassifier(max_depth=3, n_estimato...</td>\n",
       "      <td>0.763388</td>\n",
       "      <td>0.753163</td>\n",
       "      <td>0.005595</td>\n",
       "      <td>0.014652</td>\n",
       "      <td>9</td>\n",
       "    </tr>\n",
       "  </tbody>\n",
       "</table>\n",
       "</div>"
      ],
      "text/plain": [
       "                                         param_model  mean_train_score  \\\n",
       "2  RandomForestClassifier(max_depth=3, n_estimato...          0.822723   \n",
       "1  RandomForestClassifier(max_depth=3, n_estimato...          0.815442   \n",
       "4  RandomForestClassifier(max_depth=3, n_estimato...          0.807063   \n",
       "5  RandomForestClassifier(max_depth=3, n_estimato...          0.805686   \n",
       "0  RandomForestClassifier(max_depth=3, n_estimato...          0.799673   \n",
       "8  RandomForestClassifier(max_depth=3, n_estimato...          0.790929   \n",
       "7  RandomForestClassifier(max_depth=3, n_estimato...          0.789319   \n",
       "6  RandomForestClassifier(max_depth=3, n_estimato...          0.765403   \n",
       "3  RandomForestClassifier(max_depth=3, n_estimato...          0.763388   \n",
       "\n",
       "   mean_test_score  std_train_score  std_test_score  rank_test_score  \n",
       "2         0.813059         0.003056        0.011424                1  \n",
       "1         0.805444         0.006058        0.009220                2  \n",
       "4         0.795499         0.003192        0.010595                3  \n",
       "5         0.793915         0.002663        0.010425                4  \n",
       "0         0.788321         0.006073        0.005477                5  \n",
       "8         0.783701         0.004552        0.013922                6  \n",
       "7         0.781905         0.005236        0.011078                7  \n",
       "6         0.759165         0.011655        0.014878                8  \n",
       "3         0.753163         0.005595        0.014652                9  "
      ]
     },
     "execution_count": 30,
     "metadata": {},
     "output_type": "execute_result"
    }
   ],
   "source": [
    "compare_tuned_df2 = pd.DataFrame(tuned_grid2.cv_results_)\n",
    "\n",
    "pprint.pprint(tuned_grid2.best_params_)\n",
    "\n",
    "compare_tuned_df2[['param_model','mean_train_score','mean_test_score','std_train_score','std_test_score','rank_test_score']].sort_values('rank_test_score')"
   ]
  },
  {
   "cell_type": "code",
   "execution_count": 31,
   "id": "1912ef56",
   "metadata": {},
   "outputs": [
    {
     "data": {
      "text/html": [
       "<div>\n",
       "<style scoped>\n",
       "    .dataframe tbody tr th:only-of-type {\n",
       "        vertical-align: middle;\n",
       "    }\n",
       "\n",
       "    .dataframe tbody tr th {\n",
       "        vertical-align: top;\n",
       "    }\n",
       "\n",
       "    .dataframe thead th {\n",
       "        text-align: right;\n",
       "    }\n",
       "</style>\n",
       "<table border=\"1\" class=\"dataframe\">\n",
       "  <thead>\n",
       "    <tr style=\"text-align: right;\">\n",
       "      <th></th>\n",
       "      <th>param_model</th>\n",
       "      <th>mean_train_score</th>\n",
       "      <th>mean_test_score</th>\n",
       "      <th>std_train_score</th>\n",
       "      <th>std_test_score</th>\n",
       "      <th>rank_test_score</th>\n",
       "    </tr>\n",
       "  </thead>\n",
       "  <tbody>\n",
       "    <tr>\n",
       "      <th>2</th>\n",
       "      <td>RandomForestClassifier(max_depth=3, n_estimato...</td>\n",
       "      <td>0.999996</td>\n",
       "      <td>0.949994</td>\n",
       "      <td>0.000003</td>\n",
       "      <td>0.005242</td>\n",
       "      <td>1</td>\n",
       "    </tr>\n",
       "    <tr>\n",
       "      <th>1</th>\n",
       "      <td>RandomForestClassifier(max_depth=3, n_estimato...</td>\n",
       "      <td>0.999988</td>\n",
       "      <td>0.947386</td>\n",
       "      <td>0.000006</td>\n",
       "      <td>0.005326</td>\n",
       "      <td>2</td>\n",
       "    </tr>\n",
       "    <tr>\n",
       "      <th>5</th>\n",
       "      <td>RandomForestClassifier(max_depth=3, n_estimato...</td>\n",
       "      <td>0.999998</td>\n",
       "      <td>0.945124</td>\n",
       "      <td>0.000002</td>\n",
       "      <td>0.005455</td>\n",
       "      <td>3</td>\n",
       "    </tr>\n",
       "    <tr>\n",
       "      <th>4</th>\n",
       "      <td>RandomForestClassifier(max_depth=3, n_estimato...</td>\n",
       "      <td>0.999992</td>\n",
       "      <td>0.942446</td>\n",
       "      <td>0.000005</td>\n",
       "      <td>0.004582</td>\n",
       "      <td>4</td>\n",
       "    </tr>\n",
       "    <tr>\n",
       "      <th>0</th>\n",
       "      <td>RandomForestClassifier(max_depth=3, n_estimato...</td>\n",
       "      <td>0.998784</td>\n",
       "      <td>0.914219</td>\n",
       "      <td>0.000185</td>\n",
       "      <td>0.005766</td>\n",
       "      <td>5</td>\n",
       "    </tr>\n",
       "    <tr>\n",
       "      <th>3</th>\n",
       "      <td>RandomForestClassifier(max_depth=3, n_estimato...</td>\n",
       "      <td>0.998683</td>\n",
       "      <td>0.904087</td>\n",
       "      <td>0.000211</td>\n",
       "      <td>0.008629</td>\n",
       "      <td>6</td>\n",
       "    </tr>\n",
       "  </tbody>\n",
       "</table>\n",
       "</div>"
      ],
      "text/plain": [
       "                                         param_model  mean_train_score  \\\n",
       "2  RandomForestClassifier(max_depth=3, n_estimato...          0.999996   \n",
       "1  RandomForestClassifier(max_depth=3, n_estimato...          0.999988   \n",
       "5  RandomForestClassifier(max_depth=3, n_estimato...          0.999998   \n",
       "4  RandomForestClassifier(max_depth=3, n_estimato...          0.999992   \n",
       "0  RandomForestClassifier(max_depth=3, n_estimato...          0.998784   \n",
       "3  RandomForestClassifier(max_depth=3, n_estimato...          0.998683   \n",
       "\n",
       "   mean_test_score  std_train_score  std_test_score  rank_test_score  \n",
       "2         0.949994         0.000003        0.005242                1  \n",
       "1         0.947386         0.000006        0.005326                2  \n",
       "5         0.945124         0.000002        0.005455                3  \n",
       "4         0.942446         0.000005        0.004582                4  \n",
       "0         0.914219         0.000185        0.005766                5  \n",
       "3         0.904087         0.000211        0.008629                6  "
      ]
     },
     "execution_count": 31,
     "metadata": {},
     "output_type": "execute_result"
    }
   ],
   "source": [
    "compare_tuned_df[['param_model','mean_train_score','mean_test_score','std_train_score','std_test_score','rank_test_score']].sort_values('rank_test_score')"
   ]
  },
  {
   "cell_type": "markdown",
   "id": "0ce5facd",
   "metadata": {},
   "source": [
    "### evaluate the tuned model on the validation set by bootstrapping without refit - get the low and high limits"
   ]
  },
  {
   "cell_type": "code",
   "execution_count": 32,
   "id": "8618613c",
   "metadata": {},
   "outputs": [
    {
     "name": "stdout",
     "output_type": "stream",
     "text": [
      "\n",
      "val_df Statistic Score: Average Precision\n",
      "Confidence Interval: 95%\n",
      "\tBootstrapped Statistic:  ConfidenceInterval(low=0.7667799122419299, high=0.776172341303905)\n",
      "\n",
      "train_df Statistic Score: Average Precision\n",
      "Confidence Interval: 95%\n",
      "\tBootstrapped Statistic:  ConfidenceInterval(low=0.9995227529821834, high=0.9997518315507353)\n",
      "\n",
      "val_df Statistic Score: Average Precision\n",
      "Confidence Interval: 95%\n",
      "\tBootstrapped Statistic:  ConfidenceInterval(low=0.3510894020771489, high=0.36221424667047736)\n",
      "\n",
      "train_df Statistic Score: Average Precision\n",
      "Confidence Interval: 95%\n",
      "\tBootstrapped Statistic:  ConfidenceInterval(low=0.3773956692635467, high=0.3822118085952597)\n"
     ]
    }
   ],
   "source": [
    "tuned_model1 = tuned_grid.best_estimator_\n",
    "tuned_model2 = tuned_grid2.best_estimator_\n",
    "\n",
    "tuned1_val = boot_val(tuned_model1,val_df,target)\n",
    "tuned1_train = boot_val(tuned_model1,train_df,target)\n",
    "\n",
    "tuned2_val = boot_val(tuned_model2, val_df, target)\n",
    "tuned2_train = boot_val(tuned_model2, train_df, target)"
   ]
  },
  {
   "cell_type": "code",
   "execution_count": 33,
   "id": "5fbe21b7",
   "metadata": {},
   "outputs": [],
   "source": [
    "if tuned1_val.bootstrap_distribution.mean() > tuned2_val.bootstrap_distribution.mean():\n",
    "    tuned_model = tuned_model1\n",
    "else:\n",
    "    tuned_model = tuned_model2"
   ]
  },
  {
   "cell_type": "markdown",
   "id": "469320b6",
   "metadata": {},
   "source": [
    "## evaluate the tuned model on the test set by bootstrapping without refit - get the low and high limits"
   ]
  },
  {
   "cell_type": "code",
   "execution_count": 34,
   "id": "c04cb8a6",
   "metadata": {},
   "outputs": [
    {
     "name": "stdout",
     "output_type": "stream",
     "text": [
      "\n",
      "test_df Statistic Score: Average Precision\n",
      "Confidence Interval: 95%\n",
      "\tBootstrapped Statistic:  ConfidenceInterval(low=0.7932708847351811, high=0.7999760984369139)\n"
     ]
    }
   ],
   "source": [
    "tuned_test = boot_val(tuned_model,test_df,target)"
   ]
  },
  {
   "cell_type": "code",
   "execution_count": 35,
   "id": "02652861",
   "metadata": {},
   "outputs": [
    {
     "name": "stdout",
     "output_type": "stream",
     "text": [
      "Average Precision Score on 20 Bootstrapped Test Sets: 0.7967 +/- 0.0017\n",
      "95% Confidence interval: 0.7933 to 0.8000\n"
     ]
    }
   ],
   "source": [
    "print(f\"Average Precision Score on 20 Bootstrapped Test Sets: {tuned_test.bootstrap_distribution.mean():.4f} +/- {tuned_test.standard_error:0.4f}\")\n",
    "print(f\"95% Confidence interval: {tuned_test.confidence_interval[0]:0.4f} to {tuned_test.confidence_interval[1]:0.4f}\")"
   ]
  },
  {
   "cell_type": "markdown",
   "id": "7e73ae9a",
   "metadata": {},
   "source": [
    "## check out script run time"
   ]
  },
  {
   "cell_type": "code",
   "execution_count": 36,
   "id": "1532628b",
   "metadata": {},
   "outputs": [
    {
     "name": "stdout",
     "output_type": "stream",
     "text": [
      "script run time: 29.68759631315867 minutes\n"
     ]
    }
   ],
   "source": [
    "end = time.time()\n",
    "print(f'script run time: {(end - start)/60} minutes')"
   ]
  }
 ],
 "metadata": {
  "kernelspec": {
   "display_name": "base_ds_2",
   "language": "python",
   "name": "python3"
  },
  "language_info": {
   "codemirror_mode": {
    "name": "ipython",
    "version": 3
   },
   "file_extension": ".py",
   "mimetype": "text/x-python",
   "name": "python",
   "nbconvert_exporter": "python",
   "pygments_lexer": "ipython3",
   "version": "3.10.13"
  }
 },
 "nbformat": 4,
 "nbformat_minor": 5
}
