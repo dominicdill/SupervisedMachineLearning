{
 "cells": [
  {
   "cell_type": "markdown",
   "id": "08f9b918",
   "metadata": {},
   "source": [
    "## imports"
   ]
  },
  {
   "cell_type": "code",
   "execution_count": 1,
   "id": "5f172714",
   "metadata": {},
   "outputs": [],
   "source": [
    "import time\n",
    "import pandas as pd\n",
    "import numpy as np\n",
    "import matplotlib.pyplot as plt\n",
    "from scipy.stats import bootstrap\n",
    "\n",
    "from sklearn.model_selection import train_test_split\n",
    "from sklearn.impute import SimpleImputer\n",
    "from sklearn.pipeline import Pipeline\n",
    "\n",
    "from sklearn.preprocessing import TargetEncoder, StandardScaler\n",
    "from sklearn.compose import ColumnTransformer\n",
    "from sklearn.model_selection import GridSearchCV\n",
    "from sklearn.utils import resample\n",
    "from sklearn.utils import shuffle\n",
    "from sklearn.model_selection import cross_validate\n",
    "from sklearn.inspection import permutation_importance\n",
    "from sklearn.metrics import mean_squared_error\n",
    "\n",
    "from sklearn.ensemble import RandomForestRegressor\n",
    "from sklearn.linear_model import SGDRegressor\n",
    "from sklearn.linear_model import ElasticNet\n",
    "from sklearn.ensemble import GradientBoostingRegressor"
   ]
  },
  {
   "cell_type": "markdown",
   "id": "76fc8b07",
   "metadata": {},
   "source": [
    "## helpful functions"
   ]
  },
  {
   "cell_type": "code",
   "execution_count": 2,
   "id": "a6c7d7c1",
   "metadata": {},
   "outputs": [],
   "source": [
    "def get_missingness(dframe):\n",
    "    missing_columns = []\n",
    "    for column in dframe.columns:\n",
    "        na_perc=np.sum(dframe[column].isna())/dframe.shape[0]\n",
    "        print(column, na_perc)\n",
    "        if na_perc>0.2:\n",
    "            print(f\"\\n{column} missingness too high ({round(na_perc,3)*100}%)\\n\")\n",
    "            missing_columns.append(column)\n",
    "    return missing_columns\n",
    "\n",
    "def group_features(dframe,target):\n",
    "    non_ml_attr=[]\n",
    "    nominal_attr = []\n",
    "    numerical_attr = []\n",
    "\n",
    "    print(\"Column\\t\\tuniqueness\\tdatatype\")\n",
    "\n",
    "\n",
    "    for column in dframe.loc[:, dframe.columns != target].columns: #get all columns except for the target column\n",
    "        n_unique = len(dframe[column].unique())\n",
    "        p_unique = round(n_unique/dframe.shape[0]*100,3)\n",
    "        c_type = dframe.dtypes[column]\n",
    "        print(f\"{column}\\t\\t{p_unique}%\\t\\t{c_type}\")\n",
    "\n",
    "        if dframe[column].dtype == pd.api.types.pandas_dtype('int64') and p_unique > 99:\n",
    "            print(f\"\\nPotential ID, inspect {column}\\n\")\n",
    "            non_ml_attr.append(column)\n",
    "        \n",
    "        elif dframe[column].dtype == pd.api.types.pandas_dtype(object):\n",
    "            nominal_attr.append(column)\n",
    "        \n",
    "        else: #watch out for integers that could be categories here\n",
    "            numerical_attr.append(column)\n",
    "\n",
    "    print(f\"\\n\\nNon ML Attribute list:\\t\\t{non_ml_attr}\")\n",
    "    print(f\"Numerical Attributes:\\t\\t{numerical_attr}\")\n",
    "    print(f\"Nominal Attributes:\\t\\t{nominal_attr}\")\n",
    "\n",
    "    return non_ml_attr, numerical_attr, nominal_attr\n",
    "\n",
    "def get_x_y(dframe,target):\n",
    "    x = dframe.loc[:, dframe.columns != target]\n",
    "    y = dframe[target].values.ravel()\n",
    "\n",
    "    return x,y\n",
    "\n",
    "\n",
    "def false_discovery_test(model,train,val,target,n_bootstraps=20):\n",
    "    \n",
    "    bootstrapped_unscrambled = []\n",
    "    bootstrapped_scrambled = []\n",
    "    \n",
    "    for i in range(n_bootstraps):\n",
    "        #bootstrap samples from the train set\n",
    "        boot_train = resample(train, replace=True, random_state=i) \n",
    "        boot_train_x, boot_train_y = get_x_y(boot_train,target)\n",
    "\n",
    "        boot_val = resample(val, replace=True, random_state=i) \n",
    "        boot_val_x, boot_val_y = get_x_y(boot_val, target)\n",
    "\n",
    "        #fit the model to the unscrambled bootstrapped sample\n",
    "        model.fit(boot_train_x,boot_train_y)\n",
    "        #predict the validation datapoints using the unscrambled bootstrap sample\n",
    "        boot_val_pred_y = model.predict(boot_val_x)\n",
    "        #add the unscrambled validation score (RMSE) to the unscrambled list\n",
    "        bootstrapped_unscrambled.append(mean_squared_error(boot_val_y, boot_val_pred_y, squared=False))\n",
    "\n",
    "        #scramble the boot_y_df\n",
    "        scrambled_boot_train_y = shuffle(boot_train_y, random_state=i)#.values.ravel(), random_state = i)\n",
    "        #fit the model to the scrambled data\n",
    "        model.fit(boot_train_x,scrambled_boot_train_y)\n",
    "        #predict using the scrambled model\n",
    "        boot_val_pred_y_scrambled = model.predict(boot_val_x)\n",
    "        #add the scrambled validation score to the scrambled list\n",
    "        bootstrapped_scrambled.append(mean_squared_error(boot_val_y,boot_val_pred_y_scrambled, squared=False))\n",
    "    \n",
    "\n",
    "    unscrambled = bootstrap((bootstrapped_unscrambled,),np.mean,confidence_level=0.95, random_state=42)\n",
    "    scrambled = bootstrap((bootstrapped_scrambled,),np.mean,confidence_level=0.95, random_state=42)\n",
    "\n",
    "    fig, ax = plt.subplots()\n",
    "    ax.hist(unscrambled.bootstrap_distribution, bins=25, label='Unscrambled', alpha = 0.5)\n",
    "    ax.hist(scrambled.bootstrap_distribution, bins=25, label='Scrambled', alpha = 0.5)\n",
    "    ax.set_title('Bootstrap Distribution')\n",
    "    ax.set_xlabel('Average Precision Score')\n",
    "    ax.set_ylabel('frequency')\n",
    "    fig.legend(loc='upper right')\n",
    "    plt.show()\n",
    "    \n",
    "    print(\"Unscrambled 95% confidence interval: \",unscrambled.confidence_interval)\n",
    "    print(\"Scrambled 95% confidence interval: \",scrambled.confidence_interval)\n",
    "\n",
    "def boot_val(model,val,target, n_bootstraps=20):\n",
    "    df_name = test(val)\n",
    "    print(f'\\n{df_name} Statistic Score: Fractional RMSE')\n",
    "    t_score = []\n",
    "    for i in range(n_bootstraps):\n",
    "        boot_val = resample(val, replace=True, random_state=i)\n",
    "        \n",
    "        boot_x, boot_y = get_x_y(boot_val, target)\n",
    "\n",
    "        boot_pred = model.predict(boot_x)\n",
    "\n",
    "        mse = mean_squared_error(boot_y,boot_pred)\n",
    "        rmse = np.sqrt(mse)\n",
    "        frac_rmse = rmse/np.mean(boot_y)\n",
    "\n",
    "\n",
    "        t_score.append(frac_rmse)\n",
    "    \n",
    "    bci = bootstrap((t_score,), np.mean, confidence_level=0.95, random_state=42)\n",
    "    print('\\tBootstrapped',bci.confidence_interval)\n",
    "    return bci\n",
    "\n",
    "#stolen from here: https://stackoverflow.com/questions/41684553/print-dataframe-name\n",
    "def test(data):\n",
    "    name =[x for x in globals() if globals()[x] is data][0]\n",
    "    return name\n",
    "\n"
   ]
  },
  {
   "cell_type": "markdown",
   "id": "5c9bea40",
   "metadata": {},
   "source": [
    "## parameters"
   ]
  },
  {
   "cell_type": "code",
   "execution_count": 3,
   "id": "4c2cc24b",
   "metadata": {},
   "outputs": [],
   "source": [
    "target = 'y'\n",
    "\n",
    "testing = False\n",
    "frac = 0.1"
   ]
  },
  {
   "cell_type": "markdown",
   "id": "a9cb414e",
   "metadata": {},
   "source": [
    "## script run time - start timer"
   ]
  },
  {
   "cell_type": "code",
   "execution_count": 4,
   "id": "79550d6e",
   "metadata": {},
   "outputs": [],
   "source": [
    "start = time.time()"
   ]
  },
  {
   "cell_type": "markdown",
   "id": "478b0b54",
   "metadata": {},
   "source": [
    "## load the data"
   ]
  },
  {
   "cell_type": "code",
   "execution_count": 5,
   "id": "0198990b",
   "metadata": {},
   "outputs": [
    {
     "name": "stdout",
     "output_type": "stream",
     "text": [
      "<class 'pandas.core.frame.DataFrame'>\n",
      "RangeIndex: 50000 entries, 0 to 49999\n",
      "Data columns (total 13 columns):\n",
      " #   Column   Non-Null Count  Dtype  \n",
      "---  ------   --------------  -----  \n",
      " 0   attr_0   50000 non-null  int64  \n",
      " 1   attr_1   50000 non-null  float64\n",
      " 2   attr_2   49503 non-null  float64\n",
      " 3   attr_3   48532 non-null  object \n",
      " 4   attr_4   44770 non-null  float64\n",
      " 5   attr_5   47569 non-null  float64\n",
      " 6   attr_6   50000 non-null  object \n",
      " 7   attr_7   50000 non-null  float64\n",
      " 8   attr_8   48036 non-null  float64\n",
      " 9   attr_9   49010 non-null  float64\n",
      " 10  attr_10  33529 non-null  float64\n",
      " 11  attr_11  45697 non-null  float64\n",
      " 12  y        49504 non-null  float64\n",
      "dtypes: float64(10), int64(1), object(2)\n",
      "memory usage: 5.0+ MB\n"
     ]
    }
   ],
   "source": [
    "data = pd.read_csv('data_set_2.csv')\n",
    "data.info()\n"
   ]
  },
  {
   "cell_type": "markdown",
   "id": "bb48660a",
   "metadata": {},
   "source": [
    "## drop observations with nans in the target attribute"
   ]
  },
  {
   "cell_type": "code",
   "execution_count": 6,
   "id": "55ce71e4",
   "metadata": {},
   "outputs": [
    {
     "name": "stdout",
     "output_type": "stream",
     "text": [
      "(49504, 13)\n"
     ]
    }
   ],
   "source": [
    "data2 = data[data[target].notna()] \n",
    "print(data2.shape)"
   ]
  },
  {
   "cell_type": "markdown",
   "id": "2c7d535a",
   "metadata": {},
   "source": [
    "## train/test split"
   ]
  },
  {
   "cell_type": "markdown",
   "id": "140a4b99",
   "metadata": {},
   "source": [
    "## train/validation split"
   ]
  },
  {
   "cell_type": "code",
   "execution_count": 7,
   "id": "82f81f41",
   "metadata": {},
   "outputs": [
    {
     "name": "stdout",
     "output_type": "stream",
     "text": [
      "Train size:\t\t(29702, 13)\n",
      "Validation Size:\t(9901, 13)\n",
      "Test Size:\t\t(9901, 13)\n"
     ]
    }
   ],
   "source": [
    "train_df, test_df = train_test_split(data2, test_size=0.2, random_state=42)\n",
    "train_df, val_df = train_test_split(train_df, test_size=0.25, random_state=42)\n",
    "\n",
    "print(f\"Train size:\\t\\t{train_df.shape}\")\n",
    "print(f\"Validation Size:\\t{val_df.shape}\")\n",
    "print(f\"Test Size:\\t\\t{test_df.shape}\")"
   ]
  },
  {
   "cell_type": "markdown",
   "id": "b899586d",
   "metadata": {},
   "source": [
    "## configure machine learning attributes"
   ]
  },
  {
   "cell_type": "markdown",
   "id": "571cc940",
   "metadata": {},
   "source": [
    "### check for high missingness"
   ]
  },
  {
   "cell_type": "code",
   "execution_count": 8,
   "id": "c97c3f0e",
   "metadata": {},
   "outputs": [
    {
     "name": "stdout",
     "output_type": "stream",
     "text": [
      "attr_0 0.0\n",
      "attr_1 0.0\n",
      "attr_2 0.009898323345229278\n",
      "attr_3 0.029088950239041143\n",
      "attr_4 0.10450474715507373\n",
      "attr_5 0.04875092586357821\n",
      "attr_6 0.0\n",
      "attr_7 0.0\n",
      "attr_8 0.03976163221331897\n",
      "attr_9 0.019830314456938926\n",
      "attr_10 0.3288330752137903\n",
      "\n",
      "attr_10 missingness too high (32.9%)\n",
      "\n",
      "attr_11 0.08629048548919264\n",
      "y 0.0\n"
     ]
    }
   ],
   "source": [
    "missing_columns = get_missingness(train_df)"
   ]
  },
  {
   "cell_type": "code",
   "execution_count": 9,
   "id": "f26d4c74",
   "metadata": {},
   "outputs": [
    {
     "name": "stdout",
     "output_type": "stream",
     "text": [
      "Dropping the following columns based on missingness: ['attr_10']\n"
     ]
    }
   ],
   "source": [
    "print(f\"Dropping the following columns based on missingness: {missing_columns}\")\n",
    "\n",
    "val_df = val_df.drop(missing_columns, axis=1)\n",
    "test_df = test_df.drop(missing_columns, axis=1)\n",
    "train_df = train_df.drop(missing_columns, axis=1)"
   ]
  },
  {
   "cell_type": "markdown",
   "id": "20a38b22",
   "metadata": {},
   "source": [
    "### identify non machine learning attributes"
   ]
  },
  {
   "cell_type": "markdown",
   "id": "8d8a707f",
   "metadata": {},
   "source": [
    "### get attributes by dtypes"
   ]
  },
  {
   "cell_type": "markdown",
   "id": "08e89f8a",
   "metadata": {},
   "source": [
    "### machine learning attribute configuration"
   ]
  },
  {
   "cell_type": "code",
   "execution_count": 10,
   "id": "6ffed538",
   "metadata": {},
   "outputs": [
    {
     "name": "stdout",
     "output_type": "stream",
     "text": [
      "Column\t\tuniqueness\tdatatype\n",
      "attr_0\t\t100.0%\t\tint64\n",
      "\n",
      "Potential ID, inspect attr_0\n",
      "\n",
      "attr_1\t\t100.0%\t\tfloat64\n",
      "attr_2\t\t99.014%\t\tfloat64\n",
      "attr_3\t\t0.01%\t\tobject\n",
      "attr_4\t\t89.553%\t\tfloat64\n",
      "attr_5\t\t95.128%\t\tfloat64\n",
      "attr_6\t\t0.013%\t\tobject\n",
      "attr_7\t\t100.0%\t\tfloat64\n",
      "attr_8\t\t96.027%\t\tfloat64\n",
      "attr_9\t\t98.02%\t\tfloat64\n",
      "attr_11\t\t91.374%\t\tfloat64\n",
      "\n",
      "\n",
      "Non ML Attribute list:\t\t['attr_0']\n",
      "Numerical Attributes:\t\t['attr_1', 'attr_2', 'attr_4', 'attr_5', 'attr_7', 'attr_8', 'attr_9', 'attr_11']\n",
      "Nominal Attributes:\t\t['attr_3', 'attr_6']\n"
     ]
    }
   ],
   "source": [
    "non_ml_attr, numerical_attr, nominal_attr = group_features(train_df,target)"
   ]
  },
  {
   "cell_type": "code",
   "execution_count": 11,
   "id": "e309af67",
   "metadata": {},
   "outputs": [
    {
     "data": {
      "text/html": [
       "<div>\n",
       "<style scoped>\n",
       "    .dataframe tbody tr th:only-of-type {\n",
       "        vertical-align: middle;\n",
       "    }\n",
       "\n",
       "    .dataframe tbody tr th {\n",
       "        vertical-align: top;\n",
       "    }\n",
       "\n",
       "    .dataframe thead th {\n",
       "        text-align: right;\n",
       "    }\n",
       "</style>\n",
       "<table border=\"1\" class=\"dataframe\">\n",
       "  <thead>\n",
       "    <tr style=\"text-align: right;\">\n",
       "      <th></th>\n",
       "      <th>attr_0</th>\n",
       "      <th>attr_1</th>\n",
       "      <th>attr_2</th>\n",
       "      <th>attr_3</th>\n",
       "      <th>attr_4</th>\n",
       "      <th>attr_5</th>\n",
       "      <th>attr_6</th>\n",
       "      <th>attr_7</th>\n",
       "      <th>attr_8</th>\n",
       "      <th>attr_9</th>\n",
       "      <th>attr_11</th>\n",
       "      <th>y</th>\n",
       "    </tr>\n",
       "  </thead>\n",
       "  <tbody>\n",
       "    <tr>\n",
       "      <th>32836</th>\n",
       "      <td>39321</td>\n",
       "      <td>1.845514</td>\n",
       "      <td>-0.253431</td>\n",
       "      <td>cat_1</td>\n",
       "      <td>NaN</td>\n",
       "      <td>1.016623</td>\n",
       "      <td>cat_1</td>\n",
       "      <td>1.234556</td>\n",
       "      <td>0.534116</td>\n",
       "      <td>NaN</td>\n",
       "      <td>NaN</td>\n",
       "      <td>985.887594</td>\n",
       "    </tr>\n",
       "    <tr>\n",
       "      <th>38548</th>\n",
       "      <td>14920</td>\n",
       "      <td>-0.731265</td>\n",
       "      <td>1.755117</td>\n",
       "      <td>cat_1</td>\n",
       "      <td>-0.364638</td>\n",
       "      <td>-0.066505</td>\n",
       "      <td>cat_1</td>\n",
       "      <td>-0.210752</td>\n",
       "      <td>NaN</td>\n",
       "      <td>-1.370929</td>\n",
       "      <td>0.382790</td>\n",
       "      <td>967.537973</td>\n",
       "    </tr>\n",
       "    <tr>\n",
       "      <th>9569</th>\n",
       "      <td>23857</td>\n",
       "      <td>0.823217</td>\n",
       "      <td>-0.047744</td>\n",
       "      <td>cat_0</td>\n",
       "      <td>1.179382</td>\n",
       "      <td>-0.182442</td>\n",
       "      <td>cat_1</td>\n",
       "      <td>0.387829</td>\n",
       "      <td>0.852835</td>\n",
       "      <td>-1.340005</td>\n",
       "      <td>-0.907098</td>\n",
       "      <td>924.285298</td>\n",
       "    </tr>\n",
       "    <tr>\n",
       "      <th>36105</th>\n",
       "      <td>38690</td>\n",
       "      <td>-2.270654</td>\n",
       "      <td>1.700942</td>\n",
       "      <td>cat_1</td>\n",
       "      <td>0.101755</td>\n",
       "      <td>-1.180158</td>\n",
       "      <td>cat_2</td>\n",
       "      <td>-0.965857</td>\n",
       "      <td>NaN</td>\n",
       "      <td>-1.455915</td>\n",
       "      <td>1.034512</td>\n",
       "      <td>999.690555</td>\n",
       "    </tr>\n",
       "    <tr>\n",
       "      <th>48325</th>\n",
       "      <td>41187</td>\n",
       "      <td>0.811554</td>\n",
       "      <td>-0.527235</td>\n",
       "      <td>cat_0</td>\n",
       "      <td>1.719100</td>\n",
       "      <td>0.275274</td>\n",
       "      <td>cat_1</td>\n",
       "      <td>-1.054896</td>\n",
       "      <td>0.488147</td>\n",
       "      <td>1.633537</td>\n",
       "      <td>-1.168040</td>\n",
       "      <td>875.759464</td>\n",
       "    </tr>\n",
       "    <tr>\n",
       "      <th>819</th>\n",
       "      <td>43553</td>\n",
       "      <td>-1.960137</td>\n",
       "      <td>-1.610373</td>\n",
       "      <td>cat_0</td>\n",
       "      <td>-2.021372</td>\n",
       "      <td>-0.607378</td>\n",
       "      <td>cat_2</td>\n",
       "      <td>-0.045290</td>\n",
       "      <td>0.905071</td>\n",
       "      <td>1.124512</td>\n",
       "      <td>0.851420</td>\n",
       "      <td>1009.552724</td>\n",
       "    </tr>\n",
       "    <tr>\n",
       "      <th>46772</th>\n",
       "      <td>5245</td>\n",
       "      <td>0.039694</td>\n",
       "      <td>0.178652</td>\n",
       "      <td>cat_1</td>\n",
       "      <td>-0.447190</td>\n",
       "      <td>0.189023</td>\n",
       "      <td>cat_2</td>\n",
       "      <td>0.128595</td>\n",
       "      <td>-0.842098</td>\n",
       "      <td>-0.795950</td>\n",
       "      <td>-0.374282</td>\n",
       "      <td>941.362091</td>\n",
       "    </tr>\n",
       "    <tr>\n",
       "      <th>27238</th>\n",
       "      <td>4931</td>\n",
       "      <td>1.674397</td>\n",
       "      <td>1.552666</td>\n",
       "      <td>cat_1</td>\n",
       "      <td>-0.773444</td>\n",
       "      <td>-0.216507</td>\n",
       "      <td>cat_1</td>\n",
       "      <td>-0.790555</td>\n",
       "      <td>0.080173</td>\n",
       "      <td>-0.892962</td>\n",
       "      <td>-0.495649</td>\n",
       "      <td>1116.610603</td>\n",
       "    </tr>\n",
       "    <tr>\n",
       "      <th>37546</th>\n",
       "      <td>22712</td>\n",
       "      <td>-1.541800</td>\n",
       "      <td>0.175527</td>\n",
       "      <td>cat_0</td>\n",
       "      <td>-0.748983</td>\n",
       "      <td>-0.357681</td>\n",
       "      <td>cat_1</td>\n",
       "      <td>-0.567193</td>\n",
       "      <td>-1.046644</td>\n",
       "      <td>-0.417300</td>\n",
       "      <td>1.757271</td>\n",
       "      <td>918.596564</td>\n",
       "    </tr>\n",
       "    <tr>\n",
       "      <th>35141</th>\n",
       "      <td>45969</td>\n",
       "      <td>0.620720</td>\n",
       "      <td>-0.030889</td>\n",
       "      <td>cat_0</td>\n",
       "      <td>-1.316048</td>\n",
       "      <td>0.261318</td>\n",
       "      <td>cat_2</td>\n",
       "      <td>-1.535776</td>\n",
       "      <td>-0.599107</td>\n",
       "      <td>-0.367246</td>\n",
       "      <td>-0.675919</td>\n",
       "      <td>1081.307388</td>\n",
       "    </tr>\n",
       "    <tr>\n",
       "      <th>41213</th>\n",
       "      <td>273</td>\n",
       "      <td>0.593556</td>\n",
       "      <td>-2.033727</td>\n",
       "      <td>cat_0</td>\n",
       "      <td>-0.093604</td>\n",
       "      <td>0.973007</td>\n",
       "      <td>cat_2</td>\n",
       "      <td>0.223082</td>\n",
       "      <td>-2.013054</td>\n",
       "      <td>0.781367</td>\n",
       "      <td>0.453933</td>\n",
       "      <td>873.852333</td>\n",
       "    </tr>\n",
       "    <tr>\n",
       "      <th>4434</th>\n",
       "      <td>2800</td>\n",
       "      <td>1.204197</td>\n",
       "      <td>1.609485</td>\n",
       "      <td>cat_1</td>\n",
       "      <td>0.023583</td>\n",
       "      <td>0.991311</td>\n",
       "      <td>cat_1</td>\n",
       "      <td>-0.952906</td>\n",
       "      <td>0.512046</td>\n",
       "      <td>-1.564851</td>\n",
       "      <td>0.008790</td>\n",
       "      <td>1132.567116</td>\n",
       "    </tr>\n",
       "    <tr>\n",
       "      <th>36942</th>\n",
       "      <td>33571</td>\n",
       "      <td>-0.229554</td>\n",
       "      <td>-0.027504</td>\n",
       "      <td>cat_1</td>\n",
       "      <td>1.746873</td>\n",
       "      <td>0.234918</td>\n",
       "      <td>cat_1</td>\n",
       "      <td>0.089360</td>\n",
       "      <td>0.196511</td>\n",
       "      <td>1.146166</td>\n",
       "      <td>1.626471</td>\n",
       "      <td>972.549175</td>\n",
       "    </tr>\n",
       "    <tr>\n",
       "      <th>4134</th>\n",
       "      <td>32099</td>\n",
       "      <td>0.838990</td>\n",
       "      <td>-1.655116</td>\n",
       "      <td>cat_0</td>\n",
       "      <td>0.794773</td>\n",
       "      <td>-0.493691</td>\n",
       "      <td>cat_0</td>\n",
       "      <td>0.740870</td>\n",
       "      <td>-0.294125</td>\n",
       "      <td>-1.490185</td>\n",
       "      <td>0.162903</td>\n",
       "      <td>574.855955</td>\n",
       "    </tr>\n",
       "    <tr>\n",
       "      <th>3575</th>\n",
       "      <td>42121</td>\n",
       "      <td>-0.447388</td>\n",
       "      <td>1.097675</td>\n",
       "      <td>cat_1</td>\n",
       "      <td>-0.422513</td>\n",
       "      <td>-0.360796</td>\n",
       "      <td>cat_3</td>\n",
       "      <td>-1.989306</td>\n",
       "      <td>1.796459</td>\n",
       "      <td>0.025525</td>\n",
       "      <td>-2.296661</td>\n",
       "      <td>1488.054174</td>\n",
       "    </tr>\n",
       "    <tr>\n",
       "      <th>31624</th>\n",
       "      <td>16265</td>\n",
       "      <td>-0.112755</td>\n",
       "      <td>0.680349</td>\n",
       "      <td>cat_0</td>\n",
       "      <td>-0.063983</td>\n",
       "      <td>-0.182280</td>\n",
       "      <td>cat_2</td>\n",
       "      <td>-0.135185</td>\n",
       "      <td>-0.133447</td>\n",
       "      <td>0.425726</td>\n",
       "      <td>1.225771</td>\n",
       "      <td>1136.914517</td>\n",
       "    </tr>\n",
       "    <tr>\n",
       "      <th>47905</th>\n",
       "      <td>45081</td>\n",
       "      <td>0.070363</td>\n",
       "      <td>-0.228771</td>\n",
       "      <td>NaN</td>\n",
       "      <td>-0.039236</td>\n",
       "      <td>-0.337470</td>\n",
       "      <td>cat_2</td>\n",
       "      <td>-1.248124</td>\n",
       "      <td>2.945613</td>\n",
       "      <td>0.782433</td>\n",
       "      <td>0.280482</td>\n",
       "      <td>1363.665389</td>\n",
       "    </tr>\n",
       "    <tr>\n",
       "      <th>27958</th>\n",
       "      <td>7696</td>\n",
       "      <td>-0.601802</td>\n",
       "      <td>-1.442264</td>\n",
       "      <td>cat_1</td>\n",
       "      <td>1.062056</td>\n",
       "      <td>-1.178690</td>\n",
       "      <td>cat_2</td>\n",
       "      <td>-0.253656</td>\n",
       "      <td>0.016204</td>\n",
       "      <td>0.964905</td>\n",
       "      <td>3.011887</td>\n",
       "      <td>928.795748</td>\n",
       "    </tr>\n",
       "    <tr>\n",
       "      <th>15906</th>\n",
       "      <td>16721</td>\n",
       "      <td>-1.019969</td>\n",
       "      <td>-0.390605</td>\n",
       "      <td>cat_1</td>\n",
       "      <td>-0.656947</td>\n",
       "      <td>1.235364</td>\n",
       "      <td>cat_1</td>\n",
       "      <td>0.825690</td>\n",
       "      <td>-1.398938</td>\n",
       "      <td>-0.973273</td>\n",
       "      <td>-2.572351</td>\n",
       "      <td>850.545932</td>\n",
       "    </tr>\n",
       "    <tr>\n",
       "      <th>45985</th>\n",
       "      <td>21261</td>\n",
       "      <td>-0.298377</td>\n",
       "      <td>1.533935</td>\n",
       "      <td>cat_0</td>\n",
       "      <td>NaN</td>\n",
       "      <td>2.064259</td>\n",
       "      <td>cat_1</td>\n",
       "      <td>1.216064</td>\n",
       "      <td>1.470001</td>\n",
       "      <td>NaN</td>\n",
       "      <td>NaN</td>\n",
       "      <td>1357.002668</td>\n",
       "    </tr>\n",
       "  </tbody>\n",
       "</table>\n",
       "</div>"
      ],
      "text/plain": [
       "       attr_0    attr_1    attr_2 attr_3    attr_4    attr_5 attr_6    attr_7  \\\n",
       "32836   39321  1.845514 -0.253431  cat_1       NaN  1.016623  cat_1  1.234556   \n",
       "38548   14920 -0.731265  1.755117  cat_1 -0.364638 -0.066505  cat_1 -0.210752   \n",
       "9569    23857  0.823217 -0.047744  cat_0  1.179382 -0.182442  cat_1  0.387829   \n",
       "36105   38690 -2.270654  1.700942  cat_1  0.101755 -1.180158  cat_2 -0.965857   \n",
       "48325   41187  0.811554 -0.527235  cat_0  1.719100  0.275274  cat_1 -1.054896   \n",
       "819     43553 -1.960137 -1.610373  cat_0 -2.021372 -0.607378  cat_2 -0.045290   \n",
       "46772    5245  0.039694  0.178652  cat_1 -0.447190  0.189023  cat_2  0.128595   \n",
       "27238    4931  1.674397  1.552666  cat_1 -0.773444 -0.216507  cat_1 -0.790555   \n",
       "37546   22712 -1.541800  0.175527  cat_0 -0.748983 -0.357681  cat_1 -0.567193   \n",
       "35141   45969  0.620720 -0.030889  cat_0 -1.316048  0.261318  cat_2 -1.535776   \n",
       "41213     273  0.593556 -2.033727  cat_0 -0.093604  0.973007  cat_2  0.223082   \n",
       "4434     2800  1.204197  1.609485  cat_1  0.023583  0.991311  cat_1 -0.952906   \n",
       "36942   33571 -0.229554 -0.027504  cat_1  1.746873  0.234918  cat_1  0.089360   \n",
       "4134    32099  0.838990 -1.655116  cat_0  0.794773 -0.493691  cat_0  0.740870   \n",
       "3575    42121 -0.447388  1.097675  cat_1 -0.422513 -0.360796  cat_3 -1.989306   \n",
       "31624   16265 -0.112755  0.680349  cat_0 -0.063983 -0.182280  cat_2 -0.135185   \n",
       "47905   45081  0.070363 -0.228771    NaN -0.039236 -0.337470  cat_2 -1.248124   \n",
       "27958    7696 -0.601802 -1.442264  cat_1  1.062056 -1.178690  cat_2 -0.253656   \n",
       "15906   16721 -1.019969 -0.390605  cat_1 -0.656947  1.235364  cat_1  0.825690   \n",
       "45985   21261 -0.298377  1.533935  cat_0       NaN  2.064259  cat_1  1.216064   \n",
       "\n",
       "         attr_8    attr_9   attr_11            y  \n",
       "32836  0.534116       NaN       NaN   985.887594  \n",
       "38548       NaN -1.370929  0.382790   967.537973  \n",
       "9569   0.852835 -1.340005 -0.907098   924.285298  \n",
       "36105       NaN -1.455915  1.034512   999.690555  \n",
       "48325  0.488147  1.633537 -1.168040   875.759464  \n",
       "819    0.905071  1.124512  0.851420  1009.552724  \n",
       "46772 -0.842098 -0.795950 -0.374282   941.362091  \n",
       "27238  0.080173 -0.892962 -0.495649  1116.610603  \n",
       "37546 -1.046644 -0.417300  1.757271   918.596564  \n",
       "35141 -0.599107 -0.367246 -0.675919  1081.307388  \n",
       "41213 -2.013054  0.781367  0.453933   873.852333  \n",
       "4434   0.512046 -1.564851  0.008790  1132.567116  \n",
       "36942  0.196511  1.146166  1.626471   972.549175  \n",
       "4134  -0.294125 -1.490185  0.162903   574.855955  \n",
       "3575   1.796459  0.025525 -2.296661  1488.054174  \n",
       "31624 -0.133447  0.425726  1.225771  1136.914517  \n",
       "47905  2.945613  0.782433  0.280482  1363.665389  \n",
       "27958  0.016204  0.964905  3.011887   928.795748  \n",
       "15906 -1.398938 -0.973273 -2.572351   850.545932  \n",
       "45985  1.470001       NaN       NaN  1357.002668  "
      ]
     },
     "execution_count": 11,
     "metadata": {},
     "output_type": "execute_result"
    }
   ],
   "source": [
    "train_df.head(20)"
   ]
  },
  {
   "cell_type": "markdown",
   "id": "91796e77",
   "metadata": {},
   "source": [
    "### identify attributes that were candidates for machine learning but you have chosen to eliminate from machine learning - feature selection"
   ]
  },
  {
   "cell_type": "code",
   "execution_count": 12,
   "id": "763fd91a",
   "metadata": {},
   "outputs": [
    {
     "name": "stdout",
     "output_type": "stream",
     "text": [
      "Dropping the following columns based on uniqueness+data type: ['attr_0']\n"
     ]
    }
   ],
   "source": [
    "print(f\"Dropping the following columns based on uniqueness+data type: {non_ml_attr}\")\n",
    "\n",
    "val_df = val_df.drop(non_ml_attr, axis=1)\n",
    "test_df = test_df.drop(non_ml_attr, axis=1)\n",
    "train_df = train_df.drop(non_ml_attr, axis=1)\n",
    "\n",
    "dropped_columns = non_ml_attr + missing_columns"
   ]
  },
  {
   "cell_type": "code",
   "execution_count": 13,
   "id": "65c1f749",
   "metadata": {},
   "outputs": [],
   "source": [
    "assert len(data.columns) == len(nominal_attr+numerical_attr+dropped_columns)+1 #+1 for target\n",
    "\n",
    "assert np.all(train_df.columns == test_df.columns)\n",
    "assert np.all(train_df.columns == val_df.columns)"
   ]
  },
  {
   "cell_type": "code",
   "execution_count": 14,
   "id": "c7f3acab",
   "metadata": {},
   "outputs": [
    {
     "name": "stdout",
     "output_type": "stream",
     "text": [
      "<class 'pandas.core.frame.DataFrame'>\n",
      "Index: 29702 entries, 32836 to 10728\n",
      "Data columns (total 11 columns):\n",
      " #   Column   Non-Null Count  Dtype  \n",
      "---  ------   --------------  -----  \n",
      " 0   attr_1   29702 non-null  float64\n",
      " 1   attr_2   29408 non-null  float64\n",
      " 2   attr_3   28838 non-null  object \n",
      " 3   attr_4   26598 non-null  float64\n",
      " 4   attr_5   28254 non-null  float64\n",
      " 5   attr_6   29702 non-null  object \n",
      " 6   attr_7   29702 non-null  float64\n",
      " 7   attr_8   28521 non-null  float64\n",
      " 8   attr_9   29113 non-null  float64\n",
      " 9   attr_11  27139 non-null  float64\n",
      " 10  y        29702 non-null  float64\n",
      "dtypes: float64(9), object(2)\n",
      "memory usage: 2.7+ MB\n"
     ]
    }
   ],
   "source": [
    "train_df.info()"
   ]
  },
  {
   "cell_type": "markdown",
   "id": "2fece151",
   "metadata": {},
   "source": [
    "## build the preprocessing pipeline"
   ]
  },
  {
   "cell_type": "code",
   "execution_count": 15,
   "id": "4f991691",
   "metadata": {},
   "outputs": [],
   "source": [
    "numerical_transformer = Pipeline(\n",
    "    steps=[(\"imputer\", SimpleImputer(strategy='median')), \n",
    "           (\"scaler\", StandardScaler())]\n",
    ")\n",
    "\n",
    "nominal_transformer = Pipeline(\n",
    "    steps=[(\"imputer\", SimpleImputer(strategy=\"most_frequent\")), \n",
    "           ('target_encoder', TargetEncoder(target_type='continuous', random_state=42)),\n",
    "           (\"scaler\", StandardScaler())\n",
    "          ]\n",
    ")\n",
    "\n",
    "preprocessor = ColumnTransformer(\n",
    "    transformers=[\n",
    "        ('numerical', numerical_transformer, numerical_attr),\n",
    "        ('nominal', nominal_transformer, nominal_attr)\n",
    "    ]\n",
    ")"
   ]
  },
  {
   "cell_type": "markdown",
   "id": "94d409fa",
   "metadata": {},
   "source": [
    "## define default estimators"
   ]
  },
  {
   "cell_type": "code",
   "execution_count": 16,
   "id": "b59e24ed",
   "metadata": {},
   "outputs": [],
   "source": [
    "sgd = SGDRegressor(random_state=42)\n",
    "rf = RandomForestRegressor(random_state=42)\n",
    "gb = GradientBoostingRegressor(random_state=42)\n",
    "en = ElasticNet(random_state=42)\n",
    "\n",
    "pipe = Pipeline([('preprocessor', preprocessor),('model',sgd)])\n",
    "\n",
    "sgd_params = {}\n",
    "sgd_params['model'] = [sgd]\n",
    "sgd_params['model__random_state'] = [42]\n",
    "\n",
    "rf_params = {}\n",
    "rf_params['model'] = [rf]\n",
    "rf_params['model__random_state'] = [42]\n",
    "\n",
    "\n",
    "gb_params = {}\n",
    "gb_params['model'] = [gb]\n",
    "gb_params['model__random_state'] = [42]\n",
    "\n",
    "en_params = {}\n",
    "en_params['model'] = [en]\n",
    "en_params['model__random_state'] = [42]\n",
    "\n",
    "\n",
    "params = [sgd_params, rf_params, gb_params, en_params]"
   ]
  },
  {
   "cell_type": "markdown",
   "id": "6a2b9617",
   "metadata": {},
   "source": [
    "## build the composite estimator"
   ]
  },
  {
   "cell_type": "code",
   "execution_count": 17,
   "id": "a4d09836",
   "metadata": {},
   "outputs": [],
   "source": [
    "default_grid = GridSearchCV(pipe,params, scoring='neg_root_mean_squared_error',return_train_score=True, verbose = 4)"
   ]
  },
  {
   "cell_type": "markdown",
   "id": "52eba29d",
   "metadata": {},
   "source": [
    "## default model survey"
   ]
  },
  {
   "cell_type": "markdown",
   "id": "152aebfc",
   "metadata": {},
   "source": [
    "### train the default model"
   ]
  },
  {
   "cell_type": "code",
   "execution_count": 18,
   "id": "6ff8b590",
   "metadata": {},
   "outputs": [],
   "source": [
    "#If we're trying to do fast development we will edit the train and val set to be smaller\n",
    "if testing:\n",
    "    print('Train shape before resample: ',train_df.shape)\n",
    "    print('Validation shape before resample: ',val_df.shape)\n",
    "\n",
    "    train_df = resample(train_df, replace=False, n_samples = (round(train_df.shape[0]*frac)), random_state=42)\n",
    "    val_df = resample(val_df, replace=False, n_samples = (round(val_df.shape[0]*frac)), random_state=42)\n",
    "\n",
    "    print('Train shape after resample: ',train_df.shape)\n",
    "    print('Validaiton shape after resample: ',val_df.shape)"
   ]
  },
  {
   "cell_type": "code",
   "execution_count": 19,
   "id": "c8ac1f53",
   "metadata": {},
   "outputs": [
    {
     "name": "stdout",
     "output_type": "stream",
     "text": [
      "Fitting 5 folds for each of 4 candidates, totalling 20 fits\n"
     ]
    },
    {
     "name": "stdout",
     "output_type": "stream",
     "text": [
      "[CV 1/5] END model=SGDRegressor(random_state=42), model__random_state=42;, score=(train=-101.892, test=-101.674) total time=   0.1s\n",
      "[CV 2/5] END model=SGDRegressor(random_state=42), model__random_state=42;, score=(train=-101.866, test=-101.920) total time=   0.0s\n",
      "[CV 3/5] END model=SGDRegressor(random_state=42), model__random_state=42;, score=(train=-101.552, test=-102.844) total time=   0.1s\n",
      "[CV 4/5] END model=SGDRegressor(random_state=42), model__random_state=42;, score=(train=-102.262, test=-99.862) total time=   0.0s\n",
      "[CV 5/5] END model=SGDRegressor(random_state=42), model__random_state=42;, score=(train=-101.584, test=-102.893) total time=   0.0s\n",
      "[CV 1/5] END model=RandomForestRegressor(random_state=42), model__random_state=42;, score=(train=-47.883, test=-105.892) total time= 1.0min\n",
      "[CV 2/5] END model=RandomForestRegressor(random_state=42), model__random_state=42;, score=(train=-47.959, test=-106.872) total time= 1.0min\n",
      "[CV 3/5] END model=RandomForestRegressor(random_state=42), model__random_state=42;, score=(train=-47.631, test=-108.171) total time= 1.0min\n",
      "[CV 4/5] END model=RandomForestRegressor(random_state=42), model__random_state=42;, score=(train=-48.395, test=-105.368) total time= 1.0min\n",
      "[CV 5/5] END model=RandomForestRegressor(random_state=42), model__random_state=42;, score=(train=-47.692, test=-108.516) total time= 1.0min\n",
      "[CV 1/5] END model=GradientBoostingRegressor(random_state=42), model__random_state=42;, score=(train=-100.316, test=-102.881) total time=  17.0s\n",
      "[CV 2/5] END model=GradientBoostingRegressor(random_state=42), model__random_state=42;, score=(train=-100.298, test=-102.814) total time=  16.9s\n",
      "[CV 3/5] END model=GradientBoostingRegressor(random_state=42), model__random_state=42;, score=(train=-100.060, test=-104.200) total time=  16.9s\n",
      "[CV 4/5] END model=GradientBoostingRegressor(random_state=42), model__random_state=42;, score=(train=-100.805, test=-100.877) total time=  17.1s\n",
      "[CV 5/5] END model=GradientBoostingRegressor(random_state=42), model__random_state=42;, score=(train=-100.044, test=-104.047) total time=  17.0s\n",
      "[CV 1/5] END model=ElasticNet(random_state=42), model__random_state=42;, score=(train=-116.470, test=-115.910) total time=   0.0s\n",
      "[CV 2/5] END model=ElasticNet(random_state=42), model__random_state=42;, score=(train=-116.431, test=-116.313) total time=   0.0s\n",
      "[CV 3/5] END model=ElasticNet(random_state=42), model__random_state=42;, score=(train=-116.217, test=-117.375) total time=   0.0s\n",
      "[CV 4/5] END model=ElasticNet(random_state=42), model__random_state=42;, score=(train=-116.793, test=-115.025) total time=   0.0s\n",
      "[CV 5/5] END model=ElasticNet(random_state=42), model__random_state=42;, score=(train=-116.166, test=-117.629) total time=   0.0s\n"
     ]
    },
    {
     "data": {
      "text/html": [
       "<style>#sk-container-id-1 {color: black;}#sk-container-id-1 pre{padding: 0;}#sk-container-id-1 div.sk-toggleable {background-color: white;}#sk-container-id-1 label.sk-toggleable__label {cursor: pointer;display: block;width: 100%;margin-bottom: 0;padding: 0.3em;box-sizing: border-box;text-align: center;}#sk-container-id-1 label.sk-toggleable__label-arrow:before {content: \"▸\";float: left;margin-right: 0.25em;color: #696969;}#sk-container-id-1 label.sk-toggleable__label-arrow:hover:before {color: black;}#sk-container-id-1 div.sk-estimator:hover label.sk-toggleable__label-arrow:before {color: black;}#sk-container-id-1 div.sk-toggleable__content {max-height: 0;max-width: 0;overflow: hidden;text-align: left;background-color: #f0f8ff;}#sk-container-id-1 div.sk-toggleable__content pre {margin: 0.2em;color: black;border-radius: 0.25em;background-color: #f0f8ff;}#sk-container-id-1 input.sk-toggleable__control:checked~div.sk-toggleable__content {max-height: 200px;max-width: 100%;overflow: auto;}#sk-container-id-1 input.sk-toggleable__control:checked~label.sk-toggleable__label-arrow:before {content: \"▾\";}#sk-container-id-1 div.sk-estimator input.sk-toggleable__control:checked~label.sk-toggleable__label {background-color: #d4ebff;}#sk-container-id-1 div.sk-label input.sk-toggleable__control:checked~label.sk-toggleable__label {background-color: #d4ebff;}#sk-container-id-1 input.sk-hidden--visually {border: 0;clip: rect(1px 1px 1px 1px);clip: rect(1px, 1px, 1px, 1px);height: 1px;margin: -1px;overflow: hidden;padding: 0;position: absolute;width: 1px;}#sk-container-id-1 div.sk-estimator {font-family: monospace;background-color: #f0f8ff;border: 1px dotted black;border-radius: 0.25em;box-sizing: border-box;margin-bottom: 0.5em;}#sk-container-id-1 div.sk-estimator:hover {background-color: #d4ebff;}#sk-container-id-1 div.sk-parallel-item::after {content: \"\";width: 100%;border-bottom: 1px solid gray;flex-grow: 1;}#sk-container-id-1 div.sk-label:hover label.sk-toggleable__label {background-color: #d4ebff;}#sk-container-id-1 div.sk-serial::before {content: \"\";position: absolute;border-left: 1px solid gray;box-sizing: border-box;top: 0;bottom: 0;left: 50%;z-index: 0;}#sk-container-id-1 div.sk-serial {display: flex;flex-direction: column;align-items: center;background-color: white;padding-right: 0.2em;padding-left: 0.2em;position: relative;}#sk-container-id-1 div.sk-item {position: relative;z-index: 1;}#sk-container-id-1 div.sk-parallel {display: flex;align-items: stretch;justify-content: center;background-color: white;position: relative;}#sk-container-id-1 div.sk-item::before, #sk-container-id-1 div.sk-parallel-item::before {content: \"\";position: absolute;border-left: 1px solid gray;box-sizing: border-box;top: 0;bottom: 0;left: 50%;z-index: -1;}#sk-container-id-1 div.sk-parallel-item {display: flex;flex-direction: column;z-index: 1;position: relative;background-color: white;}#sk-container-id-1 div.sk-parallel-item:first-child::after {align-self: flex-end;width: 50%;}#sk-container-id-1 div.sk-parallel-item:last-child::after {align-self: flex-start;width: 50%;}#sk-container-id-1 div.sk-parallel-item:only-child::after {width: 0;}#sk-container-id-1 div.sk-dashed-wrapped {border: 1px dashed gray;margin: 0 0.4em 0.5em 0.4em;box-sizing: border-box;padding-bottom: 0.4em;background-color: white;}#sk-container-id-1 div.sk-label label {font-family: monospace;font-weight: bold;display: inline-block;line-height: 1.2em;}#sk-container-id-1 div.sk-label-container {text-align: center;}#sk-container-id-1 div.sk-container {/* jupyter's `normalize.less` sets `[hidden] { display: none; }` but bootstrap.min.css set `[hidden] { display: none !important; }` so we also need the `!important` here to be able to override the default hidden behavior on the sphinx rendered scikit-learn.org. See: https://github.com/scikit-learn/scikit-learn/issues/21755 */display: inline-block !important;position: relative;}#sk-container-id-1 div.sk-text-repr-fallback {display: none;}</style><div id=\"sk-container-id-1\" class=\"sk-top-container\"><div class=\"sk-text-repr-fallback\"><pre>GridSearchCV(estimator=Pipeline(steps=[(&#x27;preprocessor&#x27;,\n",
       "                                        ColumnTransformer(transformers=[(&#x27;numerical&#x27;,\n",
       "                                                                         Pipeline(steps=[(&#x27;imputer&#x27;,\n",
       "                                                                                          SimpleImputer(strategy=&#x27;median&#x27;)),\n",
       "                                                                                         (&#x27;scaler&#x27;,\n",
       "                                                                                          StandardScaler())]),\n",
       "                                                                         [&#x27;attr_1&#x27;,\n",
       "                                                                          &#x27;attr_2&#x27;,\n",
       "                                                                          &#x27;attr_4&#x27;,\n",
       "                                                                          &#x27;attr_5&#x27;,\n",
       "                                                                          &#x27;attr_7&#x27;,\n",
       "                                                                          &#x27;attr_8&#x27;,\n",
       "                                                                          &#x27;attr_9&#x27;,\n",
       "                                                                          &#x27;attr_11&#x27;]),\n",
       "                                                                        (&#x27;nominal&#x27;,\n",
       "                                                                         Pipeline(steps=[(&#x27;imputer&#x27;,\n",
       "                                                                                          SimpleImputer(strategy=&#x27;most_frequent&#x27;)),\n",
       "                                                                                         (&#x27;ta...\n",
       "             param_grid=[{&#x27;model&#x27;: [SGDRegressor(random_state=42)],\n",
       "                          &#x27;model__random_state&#x27;: [42]},\n",
       "                         {&#x27;model&#x27;: [RandomForestRegressor(random_state=42)],\n",
       "                          &#x27;model__random_state&#x27;: [42]},\n",
       "                         {&#x27;model&#x27;: [GradientBoostingRegressor(random_state=42)],\n",
       "                          &#x27;model__random_state&#x27;: [42]},\n",
       "                         {&#x27;model&#x27;: [ElasticNet(random_state=42)],\n",
       "                          &#x27;model__random_state&#x27;: [42]}],\n",
       "             return_train_score=True, scoring=&#x27;neg_root_mean_squared_error&#x27;,\n",
       "             verbose=4)</pre><b>In a Jupyter environment, please rerun this cell to show the HTML representation or trust the notebook. <br />On GitHub, the HTML representation is unable to render, please try loading this page with nbviewer.org.</b></div><div class=\"sk-container\" hidden><div class=\"sk-item sk-dashed-wrapped\"><div class=\"sk-label-container\"><div class=\"sk-label sk-toggleable\"><input class=\"sk-toggleable__control sk-hidden--visually\" id=\"sk-estimator-id-1\" type=\"checkbox\" ><label for=\"sk-estimator-id-1\" class=\"sk-toggleable__label sk-toggleable__label-arrow\">GridSearchCV</label><div class=\"sk-toggleable__content\"><pre>GridSearchCV(estimator=Pipeline(steps=[(&#x27;preprocessor&#x27;,\n",
       "                                        ColumnTransformer(transformers=[(&#x27;numerical&#x27;,\n",
       "                                                                         Pipeline(steps=[(&#x27;imputer&#x27;,\n",
       "                                                                                          SimpleImputer(strategy=&#x27;median&#x27;)),\n",
       "                                                                                         (&#x27;scaler&#x27;,\n",
       "                                                                                          StandardScaler())]),\n",
       "                                                                         [&#x27;attr_1&#x27;,\n",
       "                                                                          &#x27;attr_2&#x27;,\n",
       "                                                                          &#x27;attr_4&#x27;,\n",
       "                                                                          &#x27;attr_5&#x27;,\n",
       "                                                                          &#x27;attr_7&#x27;,\n",
       "                                                                          &#x27;attr_8&#x27;,\n",
       "                                                                          &#x27;attr_9&#x27;,\n",
       "                                                                          &#x27;attr_11&#x27;]),\n",
       "                                                                        (&#x27;nominal&#x27;,\n",
       "                                                                         Pipeline(steps=[(&#x27;imputer&#x27;,\n",
       "                                                                                          SimpleImputer(strategy=&#x27;most_frequent&#x27;)),\n",
       "                                                                                         (&#x27;ta...\n",
       "             param_grid=[{&#x27;model&#x27;: [SGDRegressor(random_state=42)],\n",
       "                          &#x27;model__random_state&#x27;: [42]},\n",
       "                         {&#x27;model&#x27;: [RandomForestRegressor(random_state=42)],\n",
       "                          &#x27;model__random_state&#x27;: [42]},\n",
       "                         {&#x27;model&#x27;: [GradientBoostingRegressor(random_state=42)],\n",
       "                          &#x27;model__random_state&#x27;: [42]},\n",
       "                         {&#x27;model&#x27;: [ElasticNet(random_state=42)],\n",
       "                          &#x27;model__random_state&#x27;: [42]}],\n",
       "             return_train_score=True, scoring=&#x27;neg_root_mean_squared_error&#x27;,\n",
       "             verbose=4)</pre></div></div></div><div class=\"sk-parallel\"><div class=\"sk-parallel-item\"><div class=\"sk-item\"><div class=\"sk-label-container\"><div class=\"sk-label sk-toggleable\"><input class=\"sk-toggleable__control sk-hidden--visually\" id=\"sk-estimator-id-2\" type=\"checkbox\" ><label for=\"sk-estimator-id-2\" class=\"sk-toggleable__label sk-toggleable__label-arrow\">estimator: Pipeline</label><div class=\"sk-toggleable__content\"><pre>Pipeline(steps=[(&#x27;preprocessor&#x27;,\n",
       "                 ColumnTransformer(transformers=[(&#x27;numerical&#x27;,\n",
       "                                                  Pipeline(steps=[(&#x27;imputer&#x27;,\n",
       "                                                                   SimpleImputer(strategy=&#x27;median&#x27;)),\n",
       "                                                                  (&#x27;scaler&#x27;,\n",
       "                                                                   StandardScaler())]),\n",
       "                                                  [&#x27;attr_1&#x27;, &#x27;attr_2&#x27;, &#x27;attr_4&#x27;,\n",
       "                                                   &#x27;attr_5&#x27;, &#x27;attr_7&#x27;, &#x27;attr_8&#x27;,\n",
       "                                                   &#x27;attr_9&#x27;, &#x27;attr_11&#x27;]),\n",
       "                                                 (&#x27;nominal&#x27;,\n",
       "                                                  Pipeline(steps=[(&#x27;imputer&#x27;,\n",
       "                                                                   SimpleImputer(strategy=&#x27;most_frequent&#x27;)),\n",
       "                                                                  (&#x27;target_encoder&#x27;,\n",
       "                                                                   TargetEncoder(random_state=42,\n",
       "                                                                                 target_type=&#x27;continuous&#x27;)),\n",
       "                                                                  (&#x27;scaler&#x27;,\n",
       "                                                                   StandardScaler())]),\n",
       "                                                  [&#x27;attr_3&#x27;, &#x27;attr_6&#x27;])])),\n",
       "                (&#x27;model&#x27;, SGDRegressor(random_state=42))])</pre></div></div></div><div class=\"sk-serial\"><div class=\"sk-item\"><div class=\"sk-serial\"><div class=\"sk-item sk-dashed-wrapped\"><div class=\"sk-label-container\"><div class=\"sk-label sk-toggleable\"><input class=\"sk-toggleable__control sk-hidden--visually\" id=\"sk-estimator-id-3\" type=\"checkbox\" ><label for=\"sk-estimator-id-3\" class=\"sk-toggleable__label sk-toggleable__label-arrow\">preprocessor: ColumnTransformer</label><div class=\"sk-toggleable__content\"><pre>ColumnTransformer(transformers=[(&#x27;numerical&#x27;,\n",
       "                                 Pipeline(steps=[(&#x27;imputer&#x27;,\n",
       "                                                  SimpleImputer(strategy=&#x27;median&#x27;)),\n",
       "                                                 (&#x27;scaler&#x27;, StandardScaler())]),\n",
       "                                 [&#x27;attr_1&#x27;, &#x27;attr_2&#x27;, &#x27;attr_4&#x27;, &#x27;attr_5&#x27;,\n",
       "                                  &#x27;attr_7&#x27;, &#x27;attr_8&#x27;, &#x27;attr_9&#x27;, &#x27;attr_11&#x27;]),\n",
       "                                (&#x27;nominal&#x27;,\n",
       "                                 Pipeline(steps=[(&#x27;imputer&#x27;,\n",
       "                                                  SimpleImputer(strategy=&#x27;most_frequent&#x27;)),\n",
       "                                                 (&#x27;target_encoder&#x27;,\n",
       "                                                  TargetEncoder(random_state=42,\n",
       "                                                                target_type=&#x27;continuous&#x27;)),\n",
       "                                                 (&#x27;scaler&#x27;, StandardScaler())]),\n",
       "                                 [&#x27;attr_3&#x27;, &#x27;attr_6&#x27;])])</pre></div></div></div><div class=\"sk-parallel\"><div class=\"sk-parallel-item\"><div class=\"sk-item\"><div class=\"sk-label-container\"><div class=\"sk-label sk-toggleable\"><input class=\"sk-toggleable__control sk-hidden--visually\" id=\"sk-estimator-id-4\" type=\"checkbox\" ><label for=\"sk-estimator-id-4\" class=\"sk-toggleable__label sk-toggleable__label-arrow\">numerical</label><div class=\"sk-toggleable__content\"><pre>[&#x27;attr_1&#x27;, &#x27;attr_2&#x27;, &#x27;attr_4&#x27;, &#x27;attr_5&#x27;, &#x27;attr_7&#x27;, &#x27;attr_8&#x27;, &#x27;attr_9&#x27;, &#x27;attr_11&#x27;]</pre></div></div></div><div class=\"sk-serial\"><div class=\"sk-item\"><div class=\"sk-serial\"><div class=\"sk-item\"><div class=\"sk-estimator sk-toggleable\"><input class=\"sk-toggleable__control sk-hidden--visually\" id=\"sk-estimator-id-5\" type=\"checkbox\" ><label for=\"sk-estimator-id-5\" class=\"sk-toggleable__label sk-toggleable__label-arrow\">SimpleImputer</label><div class=\"sk-toggleable__content\"><pre>SimpleImputer(strategy=&#x27;median&#x27;)</pre></div></div></div><div class=\"sk-item\"><div class=\"sk-estimator sk-toggleable\"><input class=\"sk-toggleable__control sk-hidden--visually\" id=\"sk-estimator-id-6\" type=\"checkbox\" ><label for=\"sk-estimator-id-6\" class=\"sk-toggleable__label sk-toggleable__label-arrow\">StandardScaler</label><div class=\"sk-toggleable__content\"><pre>StandardScaler()</pre></div></div></div></div></div></div></div></div><div class=\"sk-parallel-item\"><div class=\"sk-item\"><div class=\"sk-label-container\"><div class=\"sk-label sk-toggleable\"><input class=\"sk-toggleable__control sk-hidden--visually\" id=\"sk-estimator-id-7\" type=\"checkbox\" ><label for=\"sk-estimator-id-7\" class=\"sk-toggleable__label sk-toggleable__label-arrow\">nominal</label><div class=\"sk-toggleable__content\"><pre>[&#x27;attr_3&#x27;, &#x27;attr_6&#x27;]</pre></div></div></div><div class=\"sk-serial\"><div class=\"sk-item\"><div class=\"sk-serial\"><div class=\"sk-item\"><div class=\"sk-estimator sk-toggleable\"><input class=\"sk-toggleable__control sk-hidden--visually\" id=\"sk-estimator-id-8\" type=\"checkbox\" ><label for=\"sk-estimator-id-8\" class=\"sk-toggleable__label sk-toggleable__label-arrow\">SimpleImputer</label><div class=\"sk-toggleable__content\"><pre>SimpleImputer(strategy=&#x27;most_frequent&#x27;)</pre></div></div></div><div class=\"sk-item\"><div class=\"sk-estimator sk-toggleable\"><input class=\"sk-toggleable__control sk-hidden--visually\" id=\"sk-estimator-id-9\" type=\"checkbox\" ><label for=\"sk-estimator-id-9\" class=\"sk-toggleable__label sk-toggleable__label-arrow\">TargetEncoder</label><div class=\"sk-toggleable__content\"><pre>TargetEncoder(random_state=42, target_type=&#x27;continuous&#x27;)</pre></div></div></div><div class=\"sk-item\"><div class=\"sk-estimator sk-toggleable\"><input class=\"sk-toggleable__control sk-hidden--visually\" id=\"sk-estimator-id-10\" type=\"checkbox\" ><label for=\"sk-estimator-id-10\" class=\"sk-toggleable__label sk-toggleable__label-arrow\">StandardScaler</label><div class=\"sk-toggleable__content\"><pre>StandardScaler()</pre></div></div></div></div></div></div></div></div></div></div><div class=\"sk-item\"><div class=\"sk-estimator sk-toggleable\"><input class=\"sk-toggleable__control sk-hidden--visually\" id=\"sk-estimator-id-11\" type=\"checkbox\" ><label for=\"sk-estimator-id-11\" class=\"sk-toggleable__label sk-toggleable__label-arrow\">SGDRegressor</label><div class=\"sk-toggleable__content\"><pre>SGDRegressor(random_state=42)</pre></div></div></div></div></div></div></div></div></div></div></div></div>"
      ],
      "text/plain": [
       "GridSearchCV(estimator=Pipeline(steps=[('preprocessor',\n",
       "                                        ColumnTransformer(transformers=[('numerical',\n",
       "                                                                         Pipeline(steps=[('imputer',\n",
       "                                                                                          SimpleImputer(strategy='median')),\n",
       "                                                                                         ('scaler',\n",
       "                                                                                          StandardScaler())]),\n",
       "                                                                         ['attr_1',\n",
       "                                                                          'attr_2',\n",
       "                                                                          'attr_4',\n",
       "                                                                          'attr_5',\n",
       "                                                                          'attr_7',\n",
       "                                                                          'attr_8',\n",
       "                                                                          'attr_9',\n",
       "                                                                          'attr_11']),\n",
       "                                                                        ('nominal',\n",
       "                                                                         Pipeline(steps=[('imputer',\n",
       "                                                                                          SimpleImputer(strategy='most_frequent')),\n",
       "                                                                                         ('ta...\n",
       "             param_grid=[{'model': [SGDRegressor(random_state=42)],\n",
       "                          'model__random_state': [42]},\n",
       "                         {'model': [RandomForestRegressor(random_state=42)],\n",
       "                          'model__random_state': [42]},\n",
       "                         {'model': [GradientBoostingRegressor(random_state=42)],\n",
       "                          'model__random_state': [42]},\n",
       "                         {'model': [ElasticNet(random_state=42)],\n",
       "                          'model__random_state': [42]}],\n",
       "             return_train_score=True, scoring='neg_root_mean_squared_error',\n",
       "             verbose=4)"
      ]
     },
     "execution_count": 19,
     "metadata": {},
     "output_type": "execute_result"
    }
   ],
   "source": [
    "train_x, train_y = get_x_y(train_df,target)\n",
    "\n",
    "default_grid.fit(train_x,train_y)"
   ]
  },
  {
   "cell_type": "markdown",
   "id": "2ba2633d",
   "metadata": {},
   "source": [
    "### evaluate the default model on the validation set by bootstrapping without refit - get the low and high limits"
   ]
  },
  {
   "cell_type": "code",
   "execution_count": 20,
   "id": "9c241e8f",
   "metadata": {},
   "outputs": [
    {
     "data": {
      "text/html": [
       "<div>\n",
       "<style scoped>\n",
       "    .dataframe tbody tr th:only-of-type {\n",
       "        vertical-align: middle;\n",
       "    }\n",
       "\n",
       "    .dataframe tbody tr th {\n",
       "        vertical-align: top;\n",
       "    }\n",
       "\n",
       "    .dataframe thead th {\n",
       "        text-align: right;\n",
       "    }\n",
       "</style>\n",
       "<table border=\"1\" class=\"dataframe\">\n",
       "  <thead>\n",
       "    <tr style=\"text-align: right;\">\n",
       "      <th></th>\n",
       "      <th>param_model</th>\n",
       "      <th>mean_train_score</th>\n",
       "      <th>mean_test_score</th>\n",
       "      <th>std_train_score</th>\n",
       "      <th>std_test_score</th>\n",
       "      <th>frac_rmse_test_score</th>\n",
       "      <th>rank_test_score</th>\n",
       "    </tr>\n",
       "  </thead>\n",
       "  <tbody>\n",
       "    <tr>\n",
       "      <th>0</th>\n",
       "      <td>SGDRegressor(random_state=42)</td>\n",
       "      <td>-101.831204</td>\n",
       "      <td>-101.838626</td>\n",
       "      <td>0.256678</td>\n",
       "      <td>1.101171</td>\n",
       "      <td>0.101161</td>\n",
       "      <td>1</td>\n",
       "    </tr>\n",
       "    <tr>\n",
       "      <th>1</th>\n",
       "      <td>RandomForestRegressor(random_state=42)</td>\n",
       "      <td>-47.912169</td>\n",
       "      <td>-106.963490</td>\n",
       "      <td>0.269512</td>\n",
       "      <td>1.230455</td>\n",
       "      <td>0.106252</td>\n",
       "      <td>3</td>\n",
       "    </tr>\n",
       "    <tr>\n",
       "      <th>2</th>\n",
       "      <td>GradientBoostingRegressor(random_state=42)</td>\n",
       "      <td>-100.304482</td>\n",
       "      <td>-102.963783</td>\n",
       "      <td>0.275121</td>\n",
       "      <td>1.190282</td>\n",
       "      <td>0.102279</td>\n",
       "      <td>2</td>\n",
       "    </tr>\n",
       "    <tr>\n",
       "      <th>3</th>\n",
       "      <td>ElasticNet(random_state=42)</td>\n",
       "      <td>-116.415441</td>\n",
       "      <td>-116.450355</td>\n",
       "      <td>0.222418</td>\n",
       "      <td>0.957643</td>\n",
       "      <td>0.115676</td>\n",
       "      <td>4</td>\n",
       "    </tr>\n",
       "  </tbody>\n",
       "</table>\n",
       "</div>"
      ],
      "text/plain": [
       "                                  param_model  mean_train_score  \\\n",
       "0               SGDRegressor(random_state=42)       -101.831204   \n",
       "1      RandomForestRegressor(random_state=42)        -47.912169   \n",
       "2  GradientBoostingRegressor(random_state=42)       -100.304482   \n",
       "3                 ElasticNet(random_state=42)       -116.415441   \n",
       "\n",
       "   mean_test_score  std_train_score  std_test_score  frac_rmse_test_score  \\\n",
       "0      -101.838626         0.256678        1.101171              0.101161   \n",
       "1      -106.963490         0.269512        1.230455              0.106252   \n",
       "2      -102.963783         0.275121        1.190282              0.102279   \n",
       "3      -116.450355         0.222418        0.957643              0.115676   \n",
       "\n",
       "   rank_test_score  \n",
       "0                1  \n",
       "1                3  \n",
       "2                2  \n",
       "3                4  "
      ]
     },
     "execution_count": 20,
     "metadata": {},
     "output_type": "execute_result"
    }
   ],
   "source": [
    "compare_default_df = pd.DataFrame(default_grid.cv_results_)\n",
    "compare_default_df['frac_rmse_test_score'] = (-compare_default_df['mean_test_score'])/train_y.mean()\n",
    "\n",
    "compare_default_df[['param_model','mean_train_score','mean_test_score','std_train_score','std_test_score','frac_rmse_test_score','rank_test_score']]"
   ]
  },
  {
   "cell_type": "code",
   "execution_count": 21,
   "id": "6f6ebc7f",
   "metadata": {},
   "outputs": [],
   "source": [
    "val_x, val_y = get_x_y(val_df,target)"
   ]
  },
  {
   "cell_type": "code",
   "execution_count": 22,
   "id": "f4b3097c",
   "metadata": {},
   "outputs": [
    {
     "name": "stdout",
     "output_type": "stream",
     "text": [
      "Default Train Fractional RMSE:  0.1012\n",
      "Default Validation Fractional RMSE:  0.1017\n"
     ]
    }
   ],
   "source": [
    "print('Default Train Fractional RMSE: ',round(mean_squared_error(train_y,default_grid.best_estimator_.predict(train_x), squared=False)/train_y.mean(),4))\n",
    "\n",
    "print('Default Validation Fractional RMSE: ',round(mean_squared_error(val_y,default_grid.best_estimator_.predict(val_x), squared=False)/val_y.mean(),4))"
   ]
  },
  {
   "cell_type": "code",
   "execution_count": 23,
   "id": "ea23821b",
   "metadata": {},
   "outputs": [
    {
     "name": "stdout",
     "output_type": "stream",
     "text": [
      "\n",
      "train_df Statistic Score: Fractional RMSE\n",
      "\tBootstrapped ConfidenceInterval(low=0.10086567358932835, high=0.10128648921823004)\n",
      "\n",
      "val_df Statistic Score: Fractional RMSE\n",
      "\tBootstrapped ConfidenceInterval(low=0.1013567767979022, high=0.10190734877791537)\n"
     ]
    }
   ],
   "source": [
    "train_bci = boot_val(default_grid.best_estimator_,train_df,target)\n",
    "val_bci = boot_val(default_grid.best_estimator_,val_df,target)\n"
   ]
  },
  {
   "cell_type": "code",
   "execution_count": 24,
   "id": "7081e6c4",
   "metadata": {},
   "outputs": [
    {
     "data": {
      "image/png": "[encoded data removed]",
      "text/plain": [
       "<Figure size 640x480 with 1 Axes>"
      ]
     },
     "metadata": {},
     "output_type": "display_data"
    }
   ],
   "source": [
    "plt.hist(train_bci.bootstrap_distribution, alpha=0.5,label='train')\n",
    "plt.hist(val_bci.bootstrap_distribution, alpha=0.5, label='val')\n",
    "plt.legend()\n",
    "plt.show()"
   ]
  },
  {
   "cell_type": "markdown",
   "id": "36390934",
   "metadata": {},
   "source": [
    "## tune two estimator hyperparameters - you will not be tuning the preprocessing stage in this round of experimentation"
   ]
  },
  {
   "cell_type": "markdown",
   "id": "0b112303",
   "metadata": {},
   "source": [
    "### set up the hyperparameter grid"
   ]
  },
  {
   "cell_type": "markdown",
   "id": "d65d7757",
   "metadata": {},
   "source": [
    "### Set a grid for each model evaluated, but only gridsearch over the model that performed the best in the default gridsearch"
   ]
  },
  {
   "cell_type": "code",
   "execution_count": 25,
   "id": "774be032",
   "metadata": {},
   "outputs": [
    {
     "name": "stdout",
     "output_type": "stream",
     "text": [
      "[{'model': [SGDRegressor(random_state=42)], 'model__alpha': [0.0001, 0.002154434690031882, 0.046415888336127774, 1.0], 'model__penalty': ['l2', 'l1', 'elasticnet']}] \n",
      "\n",
      "\n",
      "Fitting 5 folds for each of 12 candidates, totalling 60 fits\n",
      "[CV 1/5] END model=SGDRegressor(random_state=42), model__alpha=0.0001, model__penalty=l2;, score=(train=-101.892, test=-101.674) total time=   0.0s\n",
      "[CV 2/5] END model=SGDRegressor(random_state=42), model__alpha=0.0001, model__penalty=l2;, score=(train=-101.866, test=-101.920) total time=   0.0s\n",
      "[CV 3/5] END model=SGDRegressor(random_state=42), model__alpha=0.0001, model__penalty=l2;, score=(train=-101.552, test=-102.844) total time=   0.1s\n",
      "[CV 4/5] END model=SGDRegressor(random_state=42), model__alpha=0.0001, model__penalty=l2;, score=(train=-102.262, test=-99.862) total time=   0.0s\n",
      "[CV 5/5] END model=SGDRegressor(random_state=42), model__alpha=0.0001, model__penalty=l2;, score=(train=-101.584, test=-102.893) total time=   0.0s\n",
      "[CV 1/5] END model=SGDRegressor(random_state=42), model__alpha=0.0001, model__penalty=l1;, score=(train=-101.892, test=-101.674) total time=   0.1s\n",
      "[CV 2/5] END model=SGDRegressor(random_state=42), model__alpha=0.0001, model__penalty=l1;, score=(train=-101.865, test=-101.919) total time=   0.0s\n",
      "[CV 3/5] END model=SGDRegressor(random_state=42), model__alpha=0.0001, model__penalty=l1;, score=(train=-101.550, test=-102.842) total time=   0.1s\n",
      "[CV 4/5] END model=SGDRegressor(random_state=42), model__alpha=0.0001, model__penalty=l1;, score=(train=-102.261, test=-99.862) total time=   0.0s\n",
      "[CV 5/5] END model=SGDRegressor(random_state=42), model__alpha=0.0001, model__penalty=l1;, score=(train=-101.584, test=-102.892) total time=   0.1s\n",
      "[CV 1/5] END model=SGDRegressor(random_state=42), model__alpha=0.0001, model__penalty=elasticnet;, score=(train=-101.892, test=-101.674) total time=   0.1s\n",
      "[CV 2/5] END model=SGDRegressor(random_state=42), model__alpha=0.0001, model__penalty=elasticnet;, score=(train=-101.866, test=-101.920) total time=   0.0s\n",
      "[CV 3/5] END model=SGDRegressor(random_state=42), model__alpha=0.0001, model__penalty=elasticnet;, score=(train=-101.551, test=-102.844) total time=   0.1s\n",
      "[CV 4/5] END model=SGDRegressor(random_state=42), model__alpha=0.0001, model__penalty=elasticnet;, score=(train=-102.262, test=-99.862) total time=   0.0s\n",
      "[CV 5/5] END model=SGDRegressor(random_state=42), model__alpha=0.0001, model__penalty=elasticnet;, score=(train=-101.584, test=-102.893) total time=   0.1s\n",
      "[CV 1/5] END model=SGDRegressor(random_state=42), model__alpha=0.002154434690031882, model__penalty=l2;, score=(train=-101.890, test=-101.670) total time=   0.0s\n",
      "[CV 2/5] END model=SGDRegressor(random_state=42), model__alpha=0.002154434690031882, model__penalty=l2;, score=(train=-101.870, test=-101.921) total time=   0.0s\n",
      "[CV 3/5] END model=SGDRegressor(random_state=42), model__alpha=0.002154434690031882, model__penalty=l2;, score=(train=-101.558, test=-102.789) total time=   0.0s\n",
      "[CV 4/5] END model=SGDRegressor(random_state=42), model__alpha=0.002154434690031882, model__penalty=l2;, score=(train=-102.263, test=-99.865) total time=   0.0s\n",
      "[CV 5/5] END model=SGDRegressor(random_state=42), model__alpha=0.002154434690031882, model__penalty=l2;, score=(train=-101.586, test=-102.896) total time=   0.0s\n",
      "[CV 1/5] END model=SGDRegressor(random_state=42), model__alpha=0.002154434690031882, model__penalty=l1;, score=(train=-101.877, test=-101.643) total time=   0.1s\n",
      "[CV 2/5] END model=SGDRegressor(random_state=42), model__alpha=0.002154434690031882, model__penalty=l1;, score=(train=-101.781, test=-101.890) total time=   0.1s\n",
      "[CV 3/5] END model=SGDRegressor(random_state=42), model__alpha=0.002154434690031882, model__penalty=l1;, score=(train=-101.589, test=-102.969) total time=   0.1s\n",
      "[CV 4/5] END model=SGDRegressor(random_state=42), model__alpha=0.002154434690031882, model__penalty=l1;, score=(train=-102.260, test=-99.864) total time=   0.0s\n",
      "[CV 5/5] END model=SGDRegressor(random_state=42), model__alpha=0.002154434690031882, model__penalty=l1;, score=(train=-101.584, test=-102.903) total time=   0.0s\n",
      "[CV 1/5] END model=SGDRegressor(random_state=42), model__alpha=0.002154434690031882, model__penalty=elasticnet;, score=(train=-101.889, test=-101.670) total time=   0.1s\n",
      "[CV 2/5] END model=SGDRegressor(random_state=42), model__alpha=0.002154434690031882, model__penalty=elasticnet;, score=(train=-101.867, test=-101.919) total time=   0.0s\n",
      "[CV 3/5] END model=SGDRegressor(random_state=42), model__alpha=0.002154434690031882, model__penalty=elasticnet;, score=(train=-101.554, test=-102.786) total time=   0.1s\n",
      "[CV 4/5] END model=SGDRegressor(random_state=42), model__alpha=0.002154434690031882, model__penalty=elasticnet;, score=(train=-102.262, test=-99.866) total time=   0.0s\n",
      "[CV 5/5] END model=SGDRegressor(random_state=42), model__alpha=0.002154434690031882, model__penalty=elasticnet;, score=(train=-101.585, test=-102.895) total time=   0.0s\n",
      "[CV 1/5] END model=SGDRegressor(random_state=42), model__alpha=0.046415888336127774, model__penalty=l2;, score=(train=-102.095, test=-101.909) total time=   0.0s\n",
      "[CV 2/5] END model=SGDRegressor(random_state=42), model__alpha=0.046415888336127774, model__penalty=l2;, score=(train=-102.280, test=-102.316) total time=   0.0s\n",
      "[CV 3/5] END model=SGDRegressor(random_state=42), model__alpha=0.046415888336127774, model__penalty=l2;, score=(train=-101.776, test=-103.013) total time=   0.0s\n",
      "[CV 4/5] END model=SGDRegressor(random_state=42), model__alpha=0.046415888336127774, model__penalty=l2;, score=(train=-102.549, test=-100.204) total time=   0.0s\n",
      "[CV 5/5] END model=SGDRegressor(random_state=42), model__alpha=0.046415888336127774, model__penalty=l2;, score=(train=-101.859, test=-103.205) total time=   0.0s\n",
      "[CV 1/5] END model=SGDRegressor(random_state=42), model__alpha=0.046415888336127774, model__penalty=l1;, score=(train=-101.833, test=-101.687) total time=   0.0s\n",
      "[CV 2/5] END model=SGDRegressor(random_state=42), model__alpha=0.046415888336127774, model__penalty=l1;, score=(train=-101.764, test=-101.848) total time=   0.1s\n",
      "[CV 3/5] END model=SGDRegressor(random_state=42), model__alpha=0.046415888336127774, model__penalty=l1;, score=(train=-101.602, test=-102.940) total time=   0.0s\n",
      "[CV 4/5] END model=SGDRegressor(random_state=42), model__alpha=0.046415888336127774, model__penalty=l1;, score=(train=-102.254, test=-99.846) total time=   0.1s\n",
      "[CV 5/5] END model=SGDRegressor(random_state=42), model__alpha=0.046415888336127774, model__penalty=l1;, score=(train=-101.515, test=-102.826) total time=   0.0s\n",
      "[CV 1/5] END model=SGDRegressor(random_state=42), model__alpha=0.046415888336127774, model__penalty=elasticnet;, score=(train=-101.995, test=-101.833) total time=   0.1s\n",
      "[CV 2/5] END model=SGDRegressor(random_state=42), model__alpha=0.046415888336127774, model__penalty=elasticnet;, score=(train=-101.816, test=-101.968) total time=   0.1s\n",
      "[CV 3/5] END model=SGDRegressor(random_state=42), model__alpha=0.046415888336127774, model__penalty=elasticnet;, score=(train=-101.664, test=-102.911) total time=   0.1s\n",
      "[CV 4/5] END model=SGDRegressor(random_state=42), model__alpha=0.046415888336127774, model__penalty=elasticnet;, score=(train=-102.473, test=-100.121) total time=   0.0s\n",
      "[CV 5/5] END model=SGDRegressor(random_state=42), model__alpha=0.046415888336127774, model__penalty=elasticnet;, score=(train=-101.779, test=-103.130) total time=   0.1s\n",
      "[CV 1/5] END model=SGDRegressor(random_state=42), model__alpha=1.0, model__penalty=l2;, score=(train=-132.594, test=-131.874) total time=   0.0s\n",
      "[CV 2/5] END model=SGDRegressor(random_state=42), model__alpha=1.0, model__penalty=l2;, score=(train=-132.306, test=-132.257) total time=   0.0s\n",
      "[CV 3/5] END model=SGDRegressor(random_state=42), model__alpha=1.0, model__penalty=l2;, score=(train=-132.712, test=-133.853) total time=   0.0s\n",
      "[CV 4/5] END model=SGDRegressor(random_state=42), model__alpha=1.0, model__penalty=l2;, score=(train=-132.167, test=-130.726) total time=   0.0s\n",
      "[CV 5/5] END model=SGDRegressor(random_state=42), model__alpha=1.0, model__penalty=l2;, score=(train=-132.946, test=-134.434) total time=   0.0s\n",
      "[CV 1/5] END model=SGDRegressor(random_state=42), model__alpha=1.0, model__penalty=l1;, score=(train=-101.874, test=-101.665) total time=   0.1s\n",
      "[CV 2/5] END model=SGDRegressor(random_state=42), model__alpha=1.0, model__penalty=l1;, score=(train=-101.815, test=-101.906) total time=   0.0s\n",
      "[CV 3/5] END model=SGDRegressor(random_state=42), model__alpha=1.0, model__penalty=l1;, score=(train=-101.615, test=-102.969) total time=   0.1s\n",
      "[CV 4/5] END model=SGDRegressor(random_state=42), model__alpha=1.0, model__penalty=l1;, score=(train=-102.296, test=-99.840) total time=   0.1s\n",
      "[CV 5/5] END model=SGDRegressor(random_state=42), model__alpha=1.0, model__penalty=l1;, score=(train=-101.628, test=-102.968) total time=   0.1s\n",
      "[CV 1/5] END model=SGDRegressor(random_state=42), model__alpha=1.0, model__penalty=elasticnet;, score=(train=-128.484, test=-127.775) total time=   0.0s\n",
      "[CV 2/5] END model=SGDRegressor(random_state=42), model__alpha=1.0, model__penalty=elasticnet;, score=(train=-128.158, test=-128.118) total time=   0.0s\n",
      "[CV 3/5] END model=SGDRegressor(random_state=42), model__alpha=1.0, model__penalty=elasticnet;, score=(train=-128.482, test=-129.613) total time=   0.0s\n",
      "[CV 4/5] END model=SGDRegressor(random_state=42), model__alpha=1.0, model__penalty=elasticnet;, score=(train=-129.475, test=-127.986) total time=   0.0s\n",
      "[CV 5/5] END model=SGDRegressor(random_state=42), model__alpha=1.0, model__penalty=elasticnet;, score=(train=-128.657, test=-130.116) total time=   0.0s\n"
     ]
    },
    {
     "data": {
      "text/html": [
       "<style>#sk-container-id-2 {color: black;}#sk-container-id-2 pre{padding: 0;}#sk-container-id-2 div.sk-toggleable {background-color: white;}#sk-container-id-2 label.sk-toggleable__label {cursor: pointer;display: block;width: 100%;margin-bottom: 0;padding: 0.3em;box-sizing: border-box;text-align: center;}#sk-container-id-2 label.sk-toggleable__label-arrow:before {content: \"▸\";float: left;margin-right: 0.25em;color: #696969;}#sk-container-id-2 label.sk-toggleable__label-arrow:hover:before {color: black;}#sk-container-id-2 div.sk-estimator:hover label.sk-toggleable__label-arrow:before {color: black;}#sk-container-id-2 div.sk-toggleable__content {max-height: 0;max-width: 0;overflow: hidden;text-align: left;background-color: #f0f8ff;}#sk-container-id-2 div.sk-toggleable__content pre {margin: 0.2em;color: black;border-radius: 0.25em;background-color: #f0f8ff;}#sk-container-id-2 input.sk-toggleable__control:checked~div.sk-toggleable__content {max-height: 200px;max-width: 100%;overflow: auto;}#sk-container-id-2 input.sk-toggleable__control:checked~label.sk-toggleable__label-arrow:before {content: \"▾\";}#sk-container-id-2 div.sk-estimator input.sk-toggleable__control:checked~label.sk-toggleable__label {background-color: #d4ebff;}#sk-container-id-2 div.sk-label input.sk-toggleable__control:checked~label.sk-toggleable__label {background-color: #d4ebff;}#sk-container-id-2 input.sk-hidden--visually {border: 0;clip: rect(1px 1px 1px 1px);clip: rect(1px, 1px, 1px, 1px);height: 1px;margin: -1px;overflow: hidden;padding: 0;position: absolute;width: 1px;}#sk-container-id-2 div.sk-estimator {font-family: monospace;background-color: #f0f8ff;border: 1px dotted black;border-radius: 0.25em;box-sizing: border-box;margin-bottom: 0.5em;}#sk-container-id-2 div.sk-estimator:hover {background-color: #d4ebff;}#sk-container-id-2 div.sk-parallel-item::after {content: \"\";width: 100%;border-bottom: 1px solid gray;flex-grow: 1;}#sk-container-id-2 div.sk-label:hover label.sk-toggleable__label {background-color: #d4ebff;}#sk-container-id-2 div.sk-serial::before {content: \"\";position: absolute;border-left: 1px solid gray;box-sizing: border-box;top: 0;bottom: 0;left: 50%;z-index: 0;}#sk-container-id-2 div.sk-serial {display: flex;flex-direction: column;align-items: center;background-color: white;padding-right: 0.2em;padding-left: 0.2em;position: relative;}#sk-container-id-2 div.sk-item {position: relative;z-index: 1;}#sk-container-id-2 div.sk-parallel {display: flex;align-items: stretch;justify-content: center;background-color: white;position: relative;}#sk-container-id-2 div.sk-item::before, #sk-container-id-2 div.sk-parallel-item::before {content: \"\";position: absolute;border-left: 1px solid gray;box-sizing: border-box;top: 0;bottom: 0;left: 50%;z-index: -1;}#sk-container-id-2 div.sk-parallel-item {display: flex;flex-direction: column;z-index: 1;position: relative;background-color: white;}#sk-container-id-2 div.sk-parallel-item:first-child::after {align-self: flex-end;width: 50%;}#sk-container-id-2 div.sk-parallel-item:last-child::after {align-self: flex-start;width: 50%;}#sk-container-id-2 div.sk-parallel-item:only-child::after {width: 0;}#sk-container-id-2 div.sk-dashed-wrapped {border: 1px dashed gray;margin: 0 0.4em 0.5em 0.4em;box-sizing: border-box;padding-bottom: 0.4em;background-color: white;}#sk-container-id-2 div.sk-label label {font-family: monospace;font-weight: bold;display: inline-block;line-height: 1.2em;}#sk-container-id-2 div.sk-label-container {text-align: center;}#sk-container-id-2 div.sk-container {/* jupyter's `normalize.less` sets `[hidden] { display: none; }` but bootstrap.min.css set `[hidden] { display: none !important; }` so we also need the `!important` here to be able to override the default hidden behavior on the sphinx rendered scikit-learn.org. See: https://github.com/scikit-learn/scikit-learn/issues/21755 */display: inline-block !important;position: relative;}#sk-container-id-2 div.sk-text-repr-fallback {display: none;}</style><div id=\"sk-container-id-2\" class=\"sk-top-container\"><div class=\"sk-text-repr-fallback\"><pre>GridSearchCV(estimator=Pipeline(steps=[(&#x27;preprocessor&#x27;,\n",
       "                                        ColumnTransformer(transformers=[(&#x27;numerical&#x27;,\n",
       "                                                                         Pipeline(steps=[(&#x27;imputer&#x27;,\n",
       "                                                                                          SimpleImputer(strategy=&#x27;median&#x27;)),\n",
       "                                                                                         (&#x27;scaler&#x27;,\n",
       "                                                                                          StandardScaler())]),\n",
       "                                                                         [&#x27;attr_1&#x27;,\n",
       "                                                                          &#x27;attr_2&#x27;,\n",
       "                                                                          &#x27;attr_4&#x27;,\n",
       "                                                                          &#x27;attr_5&#x27;,\n",
       "                                                                          &#x27;attr_7&#x27;,\n",
       "                                                                          &#x27;attr_8&#x27;,\n",
       "                                                                          &#x27;attr_9&#x27;,\n",
       "                                                                          &#x27;attr_11&#x27;]),\n",
       "                                                                        (&#x27;nominal&#x27;,\n",
       "                                                                         Pipeline(steps=[(&#x27;imputer&#x27;,\n",
       "                                                                                          SimpleImputer(strategy=&#x27;most_frequent&#x27;)),\n",
       "                                                                                         (&#x27;ta...\n",
       "                                        SGDRegressor(alpha=0.002154434690031882,\n",
       "                                                     penalty=&#x27;elasticnet&#x27;,\n",
       "                                                     random_state=42))]),\n",
       "             param_grid=[{&#x27;model&#x27;: [SGDRegressor(alpha=0.002154434690031882,\n",
       "                                                 penalty=&#x27;elasticnet&#x27;,\n",
       "                                                 random_state=42)],\n",
       "                          &#x27;model__alpha&#x27;: [0.0001, 0.002154434690031882,\n",
       "                                           0.046415888336127774, 1.0],\n",
       "                          &#x27;model__penalty&#x27;: [&#x27;l2&#x27;, &#x27;l1&#x27;, &#x27;elasticnet&#x27;]}],\n",
       "             return_train_score=True, scoring=&#x27;neg_root_mean_squared_error&#x27;,\n",
       "             verbose=4)</pre><b>In a Jupyter environment, please rerun this cell to show the HTML representation or trust the notebook. <br />On GitHub, the HTML representation is unable to render, please try loading this page with nbviewer.org.</b></div><div class=\"sk-container\" hidden><div class=\"sk-item sk-dashed-wrapped\"><div class=\"sk-label-container\"><div class=\"sk-label sk-toggleable\"><input class=\"sk-toggleable__control sk-hidden--visually\" id=\"sk-estimator-id-12\" type=\"checkbox\" ><label for=\"sk-estimator-id-12\" class=\"sk-toggleable__label sk-toggleable__label-arrow\">GridSearchCV</label><div class=\"sk-toggleable__content\"><pre>GridSearchCV(estimator=Pipeline(steps=[(&#x27;preprocessor&#x27;,\n",
       "                                        ColumnTransformer(transformers=[(&#x27;numerical&#x27;,\n",
       "                                                                         Pipeline(steps=[(&#x27;imputer&#x27;,\n",
       "                                                                                          SimpleImputer(strategy=&#x27;median&#x27;)),\n",
       "                                                                                         (&#x27;scaler&#x27;,\n",
       "                                                                                          StandardScaler())]),\n",
       "                                                                         [&#x27;attr_1&#x27;,\n",
       "                                                                          &#x27;attr_2&#x27;,\n",
       "                                                                          &#x27;attr_4&#x27;,\n",
       "                                                                          &#x27;attr_5&#x27;,\n",
       "                                                                          &#x27;attr_7&#x27;,\n",
       "                                                                          &#x27;attr_8&#x27;,\n",
       "                                                                          &#x27;attr_9&#x27;,\n",
       "                                                                          &#x27;attr_11&#x27;]),\n",
       "                                                                        (&#x27;nominal&#x27;,\n",
       "                                                                         Pipeline(steps=[(&#x27;imputer&#x27;,\n",
       "                                                                                          SimpleImputer(strategy=&#x27;most_frequent&#x27;)),\n",
       "                                                                                         (&#x27;ta...\n",
       "                                        SGDRegressor(alpha=0.002154434690031882,\n",
       "                                                     penalty=&#x27;elasticnet&#x27;,\n",
       "                                                     random_state=42))]),\n",
       "             param_grid=[{&#x27;model&#x27;: [SGDRegressor(alpha=0.002154434690031882,\n",
       "                                                 penalty=&#x27;elasticnet&#x27;,\n",
       "                                                 random_state=42)],\n",
       "                          &#x27;model__alpha&#x27;: [0.0001, 0.002154434690031882,\n",
       "                                           0.046415888336127774, 1.0],\n",
       "                          &#x27;model__penalty&#x27;: [&#x27;l2&#x27;, &#x27;l1&#x27;, &#x27;elasticnet&#x27;]}],\n",
       "             return_train_score=True, scoring=&#x27;neg_root_mean_squared_error&#x27;,\n",
       "             verbose=4)</pre></div></div></div><div class=\"sk-parallel\"><div class=\"sk-parallel-item\"><div class=\"sk-item\"><div class=\"sk-label-container\"><div class=\"sk-label sk-toggleable\"><input class=\"sk-toggleable__control sk-hidden--visually\" id=\"sk-estimator-id-13\" type=\"checkbox\" ><label for=\"sk-estimator-id-13\" class=\"sk-toggleable__label sk-toggleable__label-arrow\">estimator: Pipeline</label><div class=\"sk-toggleable__content\"><pre>Pipeline(steps=[(&#x27;preprocessor&#x27;,\n",
       "                 ColumnTransformer(transformers=[(&#x27;numerical&#x27;,\n",
       "                                                  Pipeline(steps=[(&#x27;imputer&#x27;,\n",
       "                                                                   SimpleImputer(strategy=&#x27;median&#x27;)),\n",
       "                                                                  (&#x27;scaler&#x27;,\n",
       "                                                                   StandardScaler())]),\n",
       "                                                  [&#x27;attr_1&#x27;, &#x27;attr_2&#x27;, &#x27;attr_4&#x27;,\n",
       "                                                   &#x27;attr_5&#x27;, &#x27;attr_7&#x27;, &#x27;attr_8&#x27;,\n",
       "                                                   &#x27;attr_9&#x27;, &#x27;attr_11&#x27;]),\n",
       "                                                 (&#x27;nominal&#x27;,\n",
       "                                                  Pipeline(steps=[(&#x27;imputer&#x27;,\n",
       "                                                                   SimpleImputer(strategy=&#x27;most_frequent&#x27;)),\n",
       "                                                                  (&#x27;target_encoder&#x27;,\n",
       "                                                                   TargetEncoder(random_state=42,\n",
       "                                                                                 target_type=&#x27;continuous&#x27;)),\n",
       "                                                                  (&#x27;scaler&#x27;,\n",
       "                                                                   StandardScaler())]),\n",
       "                                                  [&#x27;attr_3&#x27;, &#x27;attr_6&#x27;])])),\n",
       "                (&#x27;model&#x27;,\n",
       "                 SGDRegressor(alpha=0.002154434690031882, penalty=&#x27;elasticnet&#x27;,\n",
       "                              random_state=42))])</pre></div></div></div><div class=\"sk-serial\"><div class=\"sk-item\"><div class=\"sk-serial\"><div class=\"sk-item sk-dashed-wrapped\"><div class=\"sk-label-container\"><div class=\"sk-label sk-toggleable\"><input class=\"sk-toggleable__control sk-hidden--visually\" id=\"sk-estimator-id-14\" type=\"checkbox\" ><label for=\"sk-estimator-id-14\" class=\"sk-toggleable__label sk-toggleable__label-arrow\">preprocessor: ColumnTransformer</label><div class=\"sk-toggleable__content\"><pre>ColumnTransformer(transformers=[(&#x27;numerical&#x27;,\n",
       "                                 Pipeline(steps=[(&#x27;imputer&#x27;,\n",
       "                                                  SimpleImputer(strategy=&#x27;median&#x27;)),\n",
       "                                                 (&#x27;scaler&#x27;, StandardScaler())]),\n",
       "                                 [&#x27;attr_1&#x27;, &#x27;attr_2&#x27;, &#x27;attr_4&#x27;, &#x27;attr_5&#x27;,\n",
       "                                  &#x27;attr_7&#x27;, &#x27;attr_8&#x27;, &#x27;attr_9&#x27;, &#x27;attr_11&#x27;]),\n",
       "                                (&#x27;nominal&#x27;,\n",
       "                                 Pipeline(steps=[(&#x27;imputer&#x27;,\n",
       "                                                  SimpleImputer(strategy=&#x27;most_frequent&#x27;)),\n",
       "                                                 (&#x27;target_encoder&#x27;,\n",
       "                                                  TargetEncoder(random_state=42,\n",
       "                                                                target_type=&#x27;continuous&#x27;)),\n",
       "                                                 (&#x27;scaler&#x27;, StandardScaler())]),\n",
       "                                 [&#x27;attr_3&#x27;, &#x27;attr_6&#x27;])])</pre></div></div></div><div class=\"sk-parallel\"><div class=\"sk-parallel-item\"><div class=\"sk-item\"><div class=\"sk-label-container\"><div class=\"sk-label sk-toggleable\"><input class=\"sk-toggleable__control sk-hidden--visually\" id=\"sk-estimator-id-15\" type=\"checkbox\" ><label for=\"sk-estimator-id-15\" class=\"sk-toggleable__label sk-toggleable__label-arrow\">numerical</label><div class=\"sk-toggleable__content\"><pre>[&#x27;attr_1&#x27;, &#x27;attr_2&#x27;, &#x27;attr_4&#x27;, &#x27;attr_5&#x27;, &#x27;attr_7&#x27;, &#x27;attr_8&#x27;, &#x27;attr_9&#x27;, &#x27;attr_11&#x27;]</pre></div></div></div><div class=\"sk-serial\"><div class=\"sk-item\"><div class=\"sk-serial\"><div class=\"sk-item\"><div class=\"sk-estimator sk-toggleable\"><input class=\"sk-toggleable__control sk-hidden--visually\" id=\"sk-estimator-id-16\" type=\"checkbox\" ><label for=\"sk-estimator-id-16\" class=\"sk-toggleable__label sk-toggleable__label-arrow\">SimpleImputer</label><div class=\"sk-toggleable__content\"><pre>SimpleImputer(strategy=&#x27;median&#x27;)</pre></div></div></div><div class=\"sk-item\"><div class=\"sk-estimator sk-toggleable\"><input class=\"sk-toggleable__control sk-hidden--visually\" id=\"sk-estimator-id-17\" type=\"checkbox\" ><label for=\"sk-estimator-id-17\" class=\"sk-toggleable__label sk-toggleable__label-arrow\">StandardScaler</label><div class=\"sk-toggleable__content\"><pre>StandardScaler()</pre></div></div></div></div></div></div></div></div><div class=\"sk-parallel-item\"><div class=\"sk-item\"><div class=\"sk-label-container\"><div class=\"sk-label sk-toggleable\"><input class=\"sk-toggleable__control sk-hidden--visually\" id=\"sk-estimator-id-18\" type=\"checkbox\" ><label for=\"sk-estimator-id-18\" class=\"sk-toggleable__label sk-toggleable__label-arrow\">nominal</label><div class=\"sk-toggleable__content\"><pre>[&#x27;attr_3&#x27;, &#x27;attr_6&#x27;]</pre></div></div></div><div class=\"sk-serial\"><div class=\"sk-item\"><div class=\"sk-serial\"><div class=\"sk-item\"><div class=\"sk-estimator sk-toggleable\"><input class=\"sk-toggleable__control sk-hidden--visually\" id=\"sk-estimator-id-19\" type=\"checkbox\" ><label for=\"sk-estimator-id-19\" class=\"sk-toggleable__label sk-toggleable__label-arrow\">SimpleImputer</label><div class=\"sk-toggleable__content\"><pre>SimpleImputer(strategy=&#x27;most_frequent&#x27;)</pre></div></div></div><div class=\"sk-item\"><div class=\"sk-estimator sk-toggleable\"><input class=\"sk-toggleable__control sk-hidden--visually\" id=\"sk-estimator-id-20\" type=\"checkbox\" ><label for=\"sk-estimator-id-20\" class=\"sk-toggleable__label sk-toggleable__label-arrow\">TargetEncoder</label><div class=\"sk-toggleable__content\"><pre>TargetEncoder(random_state=42, target_type=&#x27;continuous&#x27;)</pre></div></div></div><div class=\"sk-item\"><div class=\"sk-estimator sk-toggleable\"><input class=\"sk-toggleable__control sk-hidden--visually\" id=\"sk-estimator-id-21\" type=\"checkbox\" ><label for=\"sk-estimator-id-21\" class=\"sk-toggleable__label sk-toggleable__label-arrow\">StandardScaler</label><div class=\"sk-toggleable__content\"><pre>StandardScaler()</pre></div></div></div></div></div></div></div></div></div></div><div class=\"sk-item\"><div class=\"sk-estimator sk-toggleable\"><input class=\"sk-toggleable__control sk-hidden--visually\" id=\"sk-estimator-id-22\" type=\"checkbox\" ><label for=\"sk-estimator-id-22\" class=\"sk-toggleable__label sk-toggleable__label-arrow\">SGDRegressor</label><div class=\"sk-toggleable__content\"><pre>SGDRegressor(alpha=0.002154434690031882, penalty=&#x27;elasticnet&#x27;, random_state=42)</pre></div></div></div></div></div></div></div></div></div></div></div></div>"
      ],
      "text/plain": [
       "GridSearchCV(estimator=Pipeline(steps=[('preprocessor',\n",
       "                                        ColumnTransformer(transformers=[('numerical',\n",
       "                                                                         Pipeline(steps=[('imputer',\n",
       "                                                                                          SimpleImputer(strategy='median')),\n",
       "                                                                                         ('scaler',\n",
       "                                                                                          StandardScaler())]),\n",
       "                                                                         ['attr_1',\n",
       "                                                                          'attr_2',\n",
       "                                                                          'attr_4',\n",
       "                                                                          'attr_5',\n",
       "                                                                          'attr_7',\n",
       "                                                                          'attr_8',\n",
       "                                                                          'attr_9',\n",
       "                                                                          'attr_11']),\n",
       "                                                                        ('nominal',\n",
       "                                                                         Pipeline(steps=[('imputer',\n",
       "                                                                                          SimpleImputer(strategy='most_frequent')),\n",
       "                                                                                         ('ta...\n",
       "                                        SGDRegressor(alpha=0.002154434690031882,\n",
       "                                                     penalty='elasticnet',\n",
       "                                                     random_state=42))]),\n",
       "             param_grid=[{'model': [SGDRegressor(alpha=0.002154434690031882,\n",
       "                                                 penalty='elasticnet',\n",
       "                                                 random_state=42)],\n",
       "                          'model__alpha': [0.0001, 0.002154434690031882,\n",
       "                                           0.046415888336127774, 1.0],\n",
       "                          'model__penalty': ['l2', 'l1', 'elasticnet']}],\n",
       "             return_train_score=True, scoring='neg_root_mean_squared_error',\n",
       "             verbose=4)"
      ]
     },
     "execution_count": 25,
     "metadata": {},
     "output_type": "execute_result"
    }
   ],
   "source": [
    "rf_params = {}\n",
    "rf_params['model'] = [rf]\n",
    "rf_params['model__n_estimators'] = [10,100,500]\n",
    "rf_params['model__max_depth'] = [None]\n",
    "rf_params['model__max_features'] = ['sqrt',2,None]\n",
    "\n",
    "sgd_params = {}\n",
    "sgd_params['model'] = [sgd]\n",
    "#sgd_params['model__learning_rate'] = ['constant','optimal','invscaling']\n",
    "sgd_params['model__alpha'] = list(np.geomspace(0.0001,1,4)) \n",
    "sgd_params['model__penalty'] = ['l2','l1','elasticnet']\n",
    "\n",
    "gb_params = {}\n",
    "gb_params['model'] = [gb]\n",
    "gb_params['model__n_estimators'] = [50,100,500]\n",
    "gb_params['model__criterion'] = ['friedman_mse','squared_error']\n",
    "\n",
    "en_params = {}\n",
    "en_params['model'] = [en]\n",
    "en_params['model__alpha'] = list(np.linspace(0.01,10,4))\n",
    "en_params['model__l1_ratio'] = list(list(np.linspace(0.0,1,4)))\n",
    "\n",
    "models = [rf_params, sgd_params, gb_params, en_params]\n",
    "for model in models:\n",
    "    if type(model['model'][0]).__name__ == type(default_grid.best_estimator_.named_steps['model']).__name__:\n",
    "        params = [model]\n",
    "        print(params,'\\n\\n')\n",
    "        break\n",
    "\n",
    "tuned_grid = GridSearchCV(pipe,params, scoring='neg_root_mean_squared_error',return_train_score=True, verbose = 4)\n",
    "tuned_grid.fit(train_x,train_y)"
   ]
  },
  {
   "cell_type": "code",
   "execution_count": 26,
   "id": "53a76dbf",
   "metadata": {},
   "outputs": [
    {
     "data": {
      "text/html": [
       "<div>\n",
       "<style scoped>\n",
       "    .dataframe tbody tr th:only-of-type {\n",
       "        vertical-align: middle;\n",
       "    }\n",
       "\n",
       "    .dataframe tbody tr th {\n",
       "        vertical-align: top;\n",
       "    }\n",
       "\n",
       "    .dataframe thead th {\n",
       "        text-align: right;\n",
       "    }\n",
       "</style>\n",
       "<table border=\"1\" class=\"dataframe\">\n",
       "  <thead>\n",
       "    <tr style=\"text-align: right;\">\n",
       "      <th></th>\n",
       "      <th>param_model</th>\n",
       "      <th>mean_train_score</th>\n",
       "      <th>mean_test_score</th>\n",
       "      <th>std_train_score</th>\n",
       "      <th>std_test_score</th>\n",
       "      <th>frac_rmse_test_score</th>\n",
       "      <th>rank_test_score</th>\n",
       "    </tr>\n",
       "  </thead>\n",
       "  <tbody>\n",
       "    <tr>\n",
       "      <th>5</th>\n",
       "      <td>SGDRegressor(alpha=0.002154434690031882, penal...</td>\n",
       "      <td>-101.831159</td>\n",
       "      <td>-101.827273</td>\n",
       "      <td>0.256002</td>\n",
       "      <td>1.089776</td>\n",
       "      <td>0.101150</td>\n",
       "      <td>1</td>\n",
       "    </tr>\n",
       "    <tr>\n",
       "      <th>3</th>\n",
       "      <td>SGDRegressor(alpha=0.002154434690031882, penal...</td>\n",
       "      <td>-101.833349</td>\n",
       "      <td>-101.828185</td>\n",
       "      <td>0.255381</td>\n",
       "      <td>1.090670</td>\n",
       "      <td>0.101151</td>\n",
       "      <td>2</td>\n",
       "    </tr>\n",
       "    <tr>\n",
       "      <th>7</th>\n",
       "      <td>SGDRegressor(alpha=0.002154434690031882, penal...</td>\n",
       "      <td>-101.793480</td>\n",
       "      <td>-101.829475</td>\n",
       "      <td>0.256332</td>\n",
       "      <td>1.112054</td>\n",
       "      <td>0.101152</td>\n",
       "      <td>3</td>\n",
       "    </tr>\n",
       "    <tr>\n",
       "      <th>1</th>\n",
       "      <td>SGDRegressor(alpha=0.002154434690031882, penal...</td>\n",
       "      <td>-101.830462</td>\n",
       "      <td>-101.838045</td>\n",
       "      <td>0.257002</td>\n",
       "      <td>1.100584</td>\n",
       "      <td>0.101161</td>\n",
       "      <td>4</td>\n",
       "    </tr>\n",
       "    <tr>\n",
       "      <th>2</th>\n",
       "      <td>SGDRegressor(alpha=0.002154434690031882, penal...</td>\n",
       "      <td>-101.831092</td>\n",
       "      <td>-101.838537</td>\n",
       "      <td>0.256728</td>\n",
       "      <td>1.101082</td>\n",
       "      <td>0.101161</td>\n",
       "      <td>5</td>\n",
       "    </tr>\n",
       "    <tr>\n",
       "      <th>0</th>\n",
       "      <td>SGDRegressor(alpha=0.002154434690031882, penal...</td>\n",
       "      <td>-101.831204</td>\n",
       "      <td>-101.838626</td>\n",
       "      <td>0.256678</td>\n",
       "      <td>1.101171</td>\n",
       "      <td>0.101161</td>\n",
       "      <td>6</td>\n",
       "    </tr>\n",
       "    <tr>\n",
       "      <th>4</th>\n",
       "      <td>SGDRegressor(alpha=0.002154434690031882, penal...</td>\n",
       "      <td>-101.818154</td>\n",
       "      <td>-101.853633</td>\n",
       "      <td>0.248028</td>\n",
       "      <td>1.126773</td>\n",
       "      <td>0.101176</td>\n",
       "      <td>7</td>\n",
       "    </tr>\n",
       "    <tr>\n",
       "      <th>10</th>\n",
       "      <td>SGDRegressor(alpha=0.002154434690031882, penal...</td>\n",
       "      <td>-101.845596</td>\n",
       "      <td>-101.869643</td>\n",
       "      <td>0.246929</td>\n",
       "      <td>1.146956</td>\n",
       "      <td>0.101192</td>\n",
       "      <td>8</td>\n",
       "    </tr>\n",
       "    <tr>\n",
       "      <th>8</th>\n",
       "      <td>SGDRegressor(alpha=0.002154434690031882, penal...</td>\n",
       "      <td>-101.945564</td>\n",
       "      <td>-101.992523</td>\n",
       "      <td>0.284471</td>\n",
       "      <td>1.064423</td>\n",
       "      <td>0.101314</td>\n",
       "      <td>9</td>\n",
       "    </tr>\n",
       "    <tr>\n",
       "      <th>6</th>\n",
       "      <td>SGDRegressor(alpha=0.002154434690031882, penal...</td>\n",
       "      <td>-102.111713</td>\n",
       "      <td>-102.129540</td>\n",
       "      <td>0.281489</td>\n",
       "      <td>1.070615</td>\n",
       "      <td>0.101450</td>\n",
       "      <td>10</td>\n",
       "    </tr>\n",
       "    <tr>\n",
       "      <th>11</th>\n",
       "      <td>SGDRegressor(alpha=0.002154434690031882, penal...</td>\n",
       "      <td>-128.651110</td>\n",
       "      <td>-128.721367</td>\n",
       "      <td>0.442407</td>\n",
       "      <td>0.952905</td>\n",
       "      <td>0.127865</td>\n",
       "      <td>11</td>\n",
       "    </tr>\n",
       "    <tr>\n",
       "      <th>9</th>\n",
       "      <td>SGDRegressor(alpha=0.002154434690031882, penal...</td>\n",
       "      <td>-132.544861</td>\n",
       "      <td>-132.628634</td>\n",
       "      <td>0.279539</td>\n",
       "      <td>1.347816</td>\n",
       "      <td>0.131746</td>\n",
       "      <td>12</td>\n",
       "    </tr>\n",
       "  </tbody>\n",
       "</table>\n",
       "</div>"
      ],
      "text/plain": [
       "                                          param_model  mean_train_score  \\\n",
       "5   SGDRegressor(alpha=0.002154434690031882, penal...       -101.831159   \n",
       "3   SGDRegressor(alpha=0.002154434690031882, penal...       -101.833349   \n",
       "7   SGDRegressor(alpha=0.002154434690031882, penal...       -101.793480   \n",
       "1   SGDRegressor(alpha=0.002154434690031882, penal...       -101.830462   \n",
       "2   SGDRegressor(alpha=0.002154434690031882, penal...       -101.831092   \n",
       "0   SGDRegressor(alpha=0.002154434690031882, penal...       -101.831204   \n",
       "4   SGDRegressor(alpha=0.002154434690031882, penal...       -101.818154   \n",
       "10  SGDRegressor(alpha=0.002154434690031882, penal...       -101.845596   \n",
       "8   SGDRegressor(alpha=0.002154434690031882, penal...       -101.945564   \n",
       "6   SGDRegressor(alpha=0.002154434690031882, penal...       -102.111713   \n",
       "11  SGDRegressor(alpha=0.002154434690031882, penal...       -128.651110   \n",
       "9   SGDRegressor(alpha=0.002154434690031882, penal...       -132.544861   \n",
       "\n",
       "    mean_test_score  std_train_score  std_test_score  frac_rmse_test_score  \\\n",
       "5       -101.827273         0.256002        1.089776              0.101150   \n",
       "3       -101.828185         0.255381        1.090670              0.101151   \n",
       "7       -101.829475         0.256332        1.112054              0.101152   \n",
       "1       -101.838045         0.257002        1.100584              0.101161   \n",
       "2       -101.838537         0.256728        1.101082              0.101161   \n",
       "0       -101.838626         0.256678        1.101171              0.101161   \n",
       "4       -101.853633         0.248028        1.126773              0.101176   \n",
       "10      -101.869643         0.246929        1.146956              0.101192   \n",
       "8       -101.992523         0.284471        1.064423              0.101314   \n",
       "6       -102.129540         0.281489        1.070615              0.101450   \n",
       "11      -128.721367         0.442407        0.952905              0.127865   \n",
       "9       -132.628634         0.279539        1.347816              0.131746   \n",
       "\n",
       "    rank_test_score  \n",
       "5                 1  \n",
       "3                 2  \n",
       "7                 3  \n",
       "1                 4  \n",
       "2                 5  \n",
       "0                 6  \n",
       "4                 7  \n",
       "10                8  \n",
       "8                 9  \n",
       "6                10  \n",
       "11               11  \n",
       "9                12  "
      ]
     },
     "execution_count": 26,
     "metadata": {},
     "output_type": "execute_result"
    }
   ],
   "source": [
    "compare_tuned_df = pd.DataFrame(tuned_grid.cv_results_)\n",
    "compare_tuned_df['frac_rmse_test_score'] = (-compare_tuned_df['mean_test_score'])/train_y.mean()\n",
    "\n",
    "compare_tuned_df[['param_model','mean_train_score','mean_test_score','std_train_score','std_test_score','frac_rmse_test_score','rank_test_score']].sort_values('rank_test_score')"
   ]
  },
  {
   "cell_type": "markdown",
   "id": "04142224",
   "metadata": {},
   "source": [
    "### examine the best hyperparameters from the GridSearchCV - make sure your hyperparameter grid was well designed to give your model a chance to explore the hyperparameter space"
   ]
  },
  {
   "cell_type": "code",
   "execution_count": 27,
   "id": "c8f04e6d",
   "metadata": {},
   "outputs": [
    {
     "data": {
      "text/plain": [
       "{'model': SGDRegressor(alpha=0.002154434690031882, penalty='elasticnet', random_state=42),\n",
       " 'model__alpha': 0.002154434690031882,\n",
       " 'model__penalty': 'elasticnet'}"
      ]
     },
     "execution_count": 27,
     "metadata": {},
     "output_type": "execute_result"
    }
   ],
   "source": [
    "tuned_grid.best_params_"
   ]
  },
  {
   "cell_type": "markdown",
   "id": "0ce5facd",
   "metadata": {},
   "source": [
    "### evaluate the tuned model on the validation set by bootstrapping without refit - get the low and high limits"
   ]
  },
  {
   "cell_type": "code",
   "execution_count": 28,
   "id": "8618613c",
   "metadata": {},
   "outputs": [],
   "source": [
    "best_model = tuned_grid.best_estimator_"
   ]
  },
  {
   "cell_type": "code",
   "execution_count": 29,
   "id": "3116cbb6",
   "metadata": {},
   "outputs": [
    {
     "name": "stdout",
     "output_type": "stream",
     "text": [
      "\n",
      "val_df Statistic Score: Fractional RMSE\n",
      "\tBootstrapped ConfidenceInterval(low=0.10134953690199092, high=0.10189960850413939)\n",
      "\n",
      "train_df Statistic Score: Fractional RMSE\n",
      "\tBootstrapped ConfidenceInterval(low=0.10086158330840164, high=0.10128184552581614)\n"
     ]
    }
   ],
   "source": [
    "tuned_val_bci = boot_val(best_model,val_df,target)\n",
    "\n",
    "tuned_train_bci = boot_val(best_model,train_df,target)"
   ]
  },
  {
   "cell_type": "markdown",
   "id": "469320b6",
   "metadata": {},
   "source": [
    "## evaluate the tuned model on the test set by bootstrapping without refit - get the low and high limits"
   ]
  },
  {
   "cell_type": "code",
   "execution_count": 30,
   "id": "02652861",
   "metadata": {},
   "outputs": [
    {
     "name": "stdout",
     "output_type": "stream",
     "text": [
      "\n",
      "test_df Statistic Score: Fractional RMSE\n",
      "\tBootstrapped ConfidenceInterval(low=0.10111640096124144, high=0.10174691242379377)\n"
     ]
    }
   ],
   "source": [
    "tuned_test_bci = boot_val(best_model,test_df,target)"
   ]
  },
  {
   "cell_type": "code",
   "execution_count": 31,
   "id": "d007bb07",
   "metadata": {},
   "outputs": [
    {
     "name": "stdout",
     "output_type": "stream",
     "text": [
      "Average Precision Score on 20 Bootstrapped Test Sets: 0.1014 +/- 0.0002\n",
      "95% Confidence interval: 0.1011 to 0.1017\n"
     ]
    }
   ],
   "source": [
    "tuned_test = tuned_test_bci\n",
    "print(f\"Average Precision Score on 20 Bootstrapped Test Sets: {tuned_test.bootstrap_distribution.mean():.4f} +/- {tuned_test.standard_error:0.4f}\")\n",
    "print(f\"95% Confidence interval: {tuned_test.confidence_interval[0]:0.4f} to {tuned_test.confidence_interval[1]:0.4f}\")"
   ]
  },
  {
   "cell_type": "code",
   "execution_count": 32,
   "id": "4d748783",
   "metadata": {},
   "outputs": [
    {
     "data": {
      "image/png": "[encoded data removed]",
      "text/plain": [
       "<Figure size 640x480 with 1 Axes>"
      ]
     },
     "metadata": {},
     "output_type": "display_data"
    }
   ],
   "source": [
    "plt.hist(tuned_train_bci.bootstrap_distribution, alpha=0.5,label='train')\n",
    "plt.hist(tuned_val_bci.bootstrap_distribution, alpha=0.5, label='val')\n",
    "plt.hist(tuned_test_bci.bootstrap_distribution, alpha=0.5, label='test')\n",
    "\n",
    "plt.legend()\n",
    "plt.show()"
   ]
  },
  {
   "cell_type": "code",
   "execution_count": 33,
   "id": "32592f9c",
   "metadata": {},
   "outputs": [],
   "source": [
    "test_x, test_y = get_x_y(test_df, target)"
   ]
  },
  {
   "cell_type": "code",
   "execution_count": 34,
   "id": "651d97d2",
   "metadata": {},
   "outputs": [
    {
     "data": {
      "image/png": "[encoded data removed]",
      "text/plain": [
       "<Figure size 1000x1000 with 1 Axes>"
      ]
     },
     "metadata": {},
     "output_type": "display_data"
    }
   ],
   "source": [
    "pred_test_y = best_model.predict(test_x)\n",
    "plt.figure(figsize=(10,10))\n",
    "plt.scatter(test_y, pred_test_y, c='crimson')\n",
    "\n",
    "p1 = max(max(pred_test_y), max(test_y))\n",
    "p2 = min(min(pred_test_y), min(test_y))\n",
    "plt.plot([p1, p2], [p1, p2], 'b-')\n",
    "plt.xlabel('True Values', fontsize=15)\n",
    "plt.ylabel('Predictions', fontsize=15)\n",
    "plt.axis('equal')\n",
    "plt.show()"
   ]
  },
  {
   "cell_type": "markdown",
   "id": "7e73ae9a",
   "metadata": {},
   "source": [
    "## check out script run time"
   ]
  },
  {
   "cell_type": "code",
   "execution_count": 35,
   "id": "1532628b",
   "metadata": {},
   "outputs": [
    {
     "name": "stdout",
     "output_type": "stream",
     "text": [
      "script run time: 6.859505653381348 minutes\n"
     ]
    }
   ],
   "source": [
    "end = time.time()\n",
    "print(f'script run time: {(end - start)/60} minutes')"
   ]
  }
 ],
 "metadata": {
  "kernelspec": {
   "display_name": "base_ds_2",
   "language": "python",
   "name": "python3"
  },
  "language_info": {
   "codemirror_mode": {
    "name": "ipython",
    "version": 3
   },
   "file_extension": ".py",
   "mimetype": "text/x-python",
   "name": "python",
   "nbconvert_exporter": "python",
   "pygments_lexer": "ipython3",
   "version": "3.10.13"
  }
 },
 "nbformat": 4,
 "nbformat_minor": 5
}
